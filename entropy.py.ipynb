function E=entropy(x)
 y=unique(x);
 if length(y)==1,
   E=0;
 else
   E=0;
     for i=1:length(y)
      p=(length(find(x==y(1,i)))/length(x));
      E=E+(p*log2(p));
     endfor
   E=-E;
 endif

endfunction
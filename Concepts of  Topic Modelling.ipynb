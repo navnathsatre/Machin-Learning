{
 "cells": [
  {
   "cell_type": "markdown",
   "id": "e638a5c8",
   "metadata": {},
   "source": [
    "# What is Topic Modelling?"
   ]
  },
  {
   "cell_type": "markdown",
   "id": "44ca833e",
   "metadata": {},
   "source": [
    "### 1) Topic modelling, in the context of Natural Language Processing, is described as a method of uncovering hidden structure in a collection of texts."
   ]
  },
  {
   "cell_type": "markdown",
   "id": "52494077",
   "metadata": {},
   "source": [
    "### 2) Topic modeling is a form of unsupervised learning that identifies hidden relationships in data."
   ]
  },
  {
   "cell_type": "markdown",
   "id": "f512869a",
   "metadata": {},
   "source": [
    "### 3) Topic modeling works in an exploratory manner, looking for the themes (or topics) that lie within a set of text data.There is no prior knowledge about the themes required in order for topic modeling to work."
   ]
  },
  {
   "cell_type": "markdown",
   "id": "67dbca42",
   "metadata": {},
   "source": [
    "### There are  two types of topic analysis techniques:"
   ]
  },
  {
   "cell_type": "markdown",
   "id": "3b8ba296",
   "metadata": {},
   "source": [
    "# Topic modeling is an ‘unsupervised’ machine learning technique, in other words, one that doesn’t require training. "
   ]
  },
  {
   "cell_type": "markdown",
   "id": "84b8f484",
   "metadata": {},
   "source": [
    "## Topic classification is a ‘supervised’ machine learning technique, one that needs training before being able to automatically analyze texts"
   ]
  },
  {
   "cell_type": "markdown",
   "id": "e2423897",
   "metadata": {},
   "source": [
    "### In short, topic modeling algorithms churn out collections of expressions and words that it thinks are related, leaving you to figure out what these relations mean, while topic classification delivers neatly packaged topics, with labels such as Price, and Features, eliminating any guesswork."
   ]
  },
  {
   "cell_type": "code",
   "execution_count": null,
   "id": "7f1ec9c0",
   "metadata": {},
   "outputs": [],
   "source": []
  }
 ],
 "metadata": {
  "kernelspec": {
   "display_name": "Python 3",
   "language": "python",
   "name": "python3"
  },
  "language_info": {
   "codemirror_mode": {
    "name": "ipython",
    "version": 3
   },
   "file_extension": ".py",
   "mimetype": "text/x-python",
   "name": "python",
   "nbconvert_exporter": "python",
   "pygments_lexer": "ipython3",
   "version": "3.8.5"
  }
 },
 "nbformat": 4,
 "nbformat_minor": 5
}

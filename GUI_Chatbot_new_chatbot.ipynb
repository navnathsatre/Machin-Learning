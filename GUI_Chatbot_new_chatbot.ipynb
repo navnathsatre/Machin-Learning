{
 "cells": [
  {
   "cell_type": "code",
   "execution_count": 14,
   "id": "3aed521c",
   "metadata": {
    "ExecuteTime": {
     "end_time": "2021-10-01T06:53:38.886400Z",
     "start_time": "2021-10-01T06:53:38.394169Z"
    }
   },
   "outputs": [],
   "source": [
    "# import nltk\n",
    "# from nltk.stem import WordNetLemmatizer\n",
    "# lemmatizer = WordNetLemmatizer()\n",
    "# import pickle\n",
    "# import numpy as np\n",
    "\n",
    "# from keras.models import load_model\n",
    "# model = load_model('chatbot_model.h5')\n",
    "# import json\n",
    "# import random\n",
    "# intents = json.loads(open('intents.json').read())\n",
    "# words = pickle.load(open('words.pkl','rb'))\n",
    "# classes = pickle.load(open('classes.pkl','rb'))"
   ]
  },
  {
   "cell_type": "code",
   "execution_count": 15,
   "id": "7e0e105e",
   "metadata": {
    "ExecuteTime": {
     "end_time": "2021-10-01T06:53:39.355384Z",
     "start_time": "2021-10-01T06:53:39.331381Z"
    }
   },
   "outputs": [],
   "source": [
    "# def clean_up_sentence(sentence):\n",
    "#     # tokenize the pattern - splitting words into array\n",
    "#     sentence_words = nltk.word_tokenize(sentence)\n",
    "#     # stemming every word - reducing to base form\n",
    "#     sentence_words = [lemmatizer.lemmatize(word.lower()) for word in sentence_words]\n",
    "#     return sentence_words"
   ]
  },
  {
   "cell_type": "code",
   "execution_count": 16,
   "id": "c1244cd4",
   "metadata": {
    "ExecuteTime": {
     "end_time": "2021-10-01T06:53:40.271284Z",
     "start_time": "2021-10-01T06:53:40.247280Z"
    }
   },
   "outputs": [],
   "source": [
    "# # return bag of words array: 0 or 1 for words that exist in sentence\n",
    "# def bag_of_words(sentence):\n",
    "#     # tokenizing patterns\n",
    "#     sentence_words = clean_up_sentence(sentence)\n",
    "#     # bag of words - vocabulary matrix\n",
    "#     bag = [0]*len(words)  \n",
    "#     for w in sentence_words:\n",
    "#         for i,word in enumerate(words):\n",
    "#             if word == w: \n",
    "#                 # assign 1 if current word is in the vocabulary position\n",
    "#                 bag[i] = 1\n",
    "                \n",
    "#     return np.array(bag)"
   ]
  },
  {
   "cell_type": "code",
   "execution_count": 17,
   "id": "88280181",
   "metadata": {
    "ExecuteTime": {
     "end_time": "2021-10-01T06:53:41.110429Z",
     "start_time": "2021-10-01T06:53:41.078427Z"
    }
   },
   "outputs": [],
   "source": [
    "# def predict_class(sentence):\n",
    "#     # filter below  threshold predictions\n",
    "#     p = bag_of_words(sentence)\n",
    "#     res = model.predict(np.array([p]))[0]\n",
    "#     ERROR_THRESHOLD = 0.25\n",
    "#     results = [[i,r] for i,r in enumerate(res) if r>ERROR_THRESHOLD]\n",
    "#     # sorting strength probability\n",
    "#     results.sort(key=lambda x: x[1], reverse=True)\n",
    "#     return_list = []\n",
    "#     for r in results:\n",
    "#         return_list.append({\"intent\": classes[r[0]], \"probability\": str(r[1])})\n",
    "#     return return_list"
   ]
  },
  {
   "cell_type": "code",
   "execution_count": 18,
   "id": "e9cb5f4b",
   "metadata": {
    "ExecuteTime": {
     "end_time": "2021-10-01T06:56:31.238323Z",
     "start_time": "2021-10-01T06:56:31.214320Z"
    }
   },
   "outputs": [],
   "source": [
    "# def getResponse(ints, intents_json):\n",
    "#     tag = ints[0]['intent']\n",
    "#     list_of_intents = intents_json['intents']\n",
    "#     for i in list_of_intents:\n",
    "#         if(i['tag']== tag):\n",
    "#             result = random.choice(i['responses'])\n",
    "#             break\n",
    "#     return result"
   ]
  },
  {
   "cell_type": "code",
   "execution_count": 1,
   "id": "7809b73a",
   "metadata": {
    "ExecuteTime": {
     "end_time": "2021-10-01T06:37:27.753723Z",
     "start_time": "2021-10-01T06:37:27.678392Z"
    }
   },
   "outputs": [],
   "source": [
    "#Creating tkinter GUI\n",
    "import tkinter\n",
    "from tkinter import *"
   ]
  },
  {
   "cell_type": "code",
   "execution_count": 7,
   "id": "25971701",
   "metadata": {
    "ExecuteTime": {
     "end_time": "2021-10-01T06:37:27.863146Z",
     "start_time": "2021-10-01T06:37:27.761725Z"
    }
   },
   "outputs": [],
   "source": [
    "def send():\n",
    "    msg = EntryBox.get(\"1.0\",'end-1c').strip()\n",
    "    EntryBox.delete(\"0.0\",END)\n",
    "\n",
    "    if msg != '':\n",
    "        ChatBox.config(state=NORMAL)\n",
    "        ChatBox.insert(END, \"You: \" + msg + '\\n\\n')\n",
    "        ChatBox.config(foreground=\"#446665\", font=(\"Verdana\", 12 ))\n",
    "    \n",
    "        ints = predict_class(msg)\n",
    "        res = getResponse(ints, intents)\n",
    "        \n",
    "        ChatBox.insert(END, \"Bot: \" + res + '\\n\\n')\n",
    "            \n",
    "        ChatBox.config(state=DISABLED)\n",
    "        ChatBox.yview(END)\n",
    " \n",
    "\n",
    "root = Tk()\n",
    "root.title(\"Chatbot\")\n",
    "root.geometry(\"400x500\")\n",
    "root.resizable(width=FALSE, height=FALSE)\n"
   ]
  },
  {
   "cell_type": "code",
   "execution_count": 8,
   "id": "b18842a9",
   "metadata": {
    "ExecuteTime": {
     "end_time": "2021-10-01T06:37:27.956336Z",
     "start_time": "2021-10-01T06:37:27.869145Z"
    }
   },
   "outputs": [],
   "source": [
    "#Create Chat window\n",
    "ChatBox = Text(root, bd=0, bg=\"white\", height=\"8\", width=\"50\", font=\"Arial\",)\n",
    "\n",
    "ChatBox.config(state=DISABLED)"
   ]
  },
  {
   "cell_type": "code",
   "execution_count": 9,
   "id": "a0309de8",
   "metadata": {
    "ExecuteTime": {
     "end_time": "2021-10-01T06:37:28.050440Z",
     "start_time": "2021-10-01T06:37:27.968340Z"
    }
   },
   "outputs": [],
   "source": [
    "#Bind scrollbar to Chat window\n",
    "scrollbar = Scrollbar(root, command=ChatBox.yview, cursor=\"heart\")\n",
    "ChatBox['yscrollcommand'] = scrollbar.set"
   ]
  },
  {
   "cell_type": "code",
   "execution_count": 10,
   "id": "9deca093",
   "metadata": {
    "ExecuteTime": {
     "end_time": "2021-10-01T06:37:28.174779Z",
     "start_time": "2021-10-01T06:37:28.059324Z"
    }
   },
   "outputs": [],
   "source": [
    "#Create Button to send message\n",
    "SendButton = Button(root, font=(\"Verdana\",12,'bold'), text=\"Send\", width=\"12\", height=5,\n",
    "                    bd=0, bg=\"#f9a602\", activebackground=\"#3c9d9b\",fg='#000000',\n",
    "                    command= send )"
   ]
  },
  {
   "cell_type": "code",
   "execution_count": 11,
   "id": "3e901a64",
   "metadata": {
    "ExecuteTime": {
     "end_time": "2021-10-01T06:37:28.299083Z",
     "start_time": "2021-10-01T06:37:28.183662Z"
    }
   },
   "outputs": [],
   "source": [
    "#Create the box to enter message\n",
    "EntryBox = Text(root, bd=0, bg=\"white\",width=\"29\", height=\"5\", font=\"Arial\")\n",
    "#EntryBox.bind(\"<Return>\", send)"
   ]
  },
  {
   "cell_type": "code",
   "execution_count": 12,
   "id": "22fcb3a5",
   "metadata": {
    "ExecuteTime": {
     "end_time": "2021-10-01T06:37:28.456054Z",
     "start_time": "2021-10-01T06:37:28.310096Z"
    }
   },
   "outputs": [],
   "source": [
    "#Place all components on the screen\n",
    "scrollbar.place(x=376,y=6, height=386)\n",
    "ChatBox.place(x=6,y=6, height=386, width=370)\n",
    "EntryBox.place(x=128, y=401, height=90, width=265)\n",
    "SendButton.place(x=6, y=401, height=90)\n",
    "\n",
    "root.mainloop()"
   ]
  },
  {
   "cell_type": "code",
   "execution_count": null,
   "id": "945a8bd2",
   "metadata": {},
   "outputs": [],
   "source": []
  },
  {
   "cell_type": "code",
   "execution_count": 2,
   "id": "043df693",
   "metadata": {},
   "outputs": [],
   "source": [
    "from tkinter import *\n",
    "window=Tk()\n",
    "# add widgets here\n",
    "\n",
    "window.title('Hello Python')\n",
    "window.geometry(\"300x200+10+20\")\n",
    "window.mainloop()"
   ]
  },
  {
   "cell_type": "code",
   "execution_count": 3,
   "id": "a49126a8",
   "metadata": {},
   "outputs": [],
   "source": [
    "from tkinter import *\n",
    "window=Tk()\n",
    "btn=Button(window, text=\"This is Button widget\", fg='blue')\n",
    "btn.place(x=80, y=100)\n",
    "window.title('Hello Python')\n",
    "window.geometry(\"300x200+10+10\")\n",
    "window.mainloop()"
   ]
  },
  {
   "cell_type": "code",
   "execution_count": 4,
   "id": "fdae9034",
   "metadata": {},
   "outputs": [],
   "source": [
    "from tkinter import *\n",
    "window=Tk()\n",
    "lbl=Label(window, text=\"This is Label widget\", fg='red', font=(\"Helvetica\", 16))\n",
    "lbl.place(x=60, y=50)\n",
    "window.title('Hello Python')\n",
    "window.geometry(\"300x200+10+10\")\n",
    "window.mainloop()"
   ]
  },
  {
   "cell_type": "code",
   "execution_count": 5,
   "id": "5cf173ed",
   "metadata": {},
   "outputs": [],
   "source": [
    "from tkinter import *\n",
    "window=Tk()\n",
    "btn=Button(window, text=\"This is Button widget\", fg='blue')\n",
    "btn.place(x=80, y=100)\n",
    "lbl=Label(window, text=\"This is Label widget\", fg='red', font=(\"Helvetica\", 16))\n",
    "lbl.place(x=60, y=50)\n",
    "txtfld=Entry(window, text=\"This is Entry Widget\", bd=5)\n",
    "txtfld.place(x=80, y=150)\n",
    "window.title('Hello Python')\n",
    "window.geometry(\"300x200+10+10\")\n",
    "window.mainloop()"
   ]
  },
  {
   "cell_type": "code",
   "execution_count": 6,
   "id": "9799e01a",
   "metadata": {},
   "outputs": [],
   "source": [
    "from tkinter import *\n",
    "from tkinter.ttk import Combobox\n",
    "window=Tk()\n",
    "var = StringVar()\n",
    "var.set(\"one\")\n",
    "data=(\"one\", \"two\", \"three\", \"four\")\n",
    "cb=Combobox(window, values=data)\n",
    "cb.place(x=60, y=150)\n",
    "\n",
    "lb=Listbox(window, height=5, selectmode='multiple')\n",
    "for num in data:\n",
    "    lb.insert(END,num)\n",
    "lb.place(x=250, y=150)\n",
    "\n",
    "v0=IntVar()\n",
    "v0.set(1)\n",
    "r1=Radiobutton(window, text=\"male\", variable=v0,value=1)\n",
    "r2=Radiobutton(window, text=\"female\", variable=v0,value=2)\n",
    "r1.place(x=100,y=50)\n",
    "r2.place(x=180, y=50)\n",
    "                \n",
    "v1 = IntVar()\n",
    "v2 = IntVar()\n",
    "C1 = Checkbutton(window, text = \"Cricket\", variable = v1)\n",
    "C2 = Checkbutton(window, text = \"Tennis\", variable = v2)\n",
    "C1.place(x=100, y=100)\n",
    "C2.place(x=180, y=100)\n",
    "\n",
    "window.title('Hello Python')\n",
    "window.geometry(\"400x300+10+10\")\n",
    "window.mainloop()"
   ]
  },
  {
   "cell_type": "code",
   "execution_count": 8,
   "id": "0de2b325",
   "metadata": {},
   "outputs": [],
   "source": [
    "from tkinter import *\n",
    "class MyWindow:\n",
    "    def __init__(self, win):\n",
    "        self.lbl1=Label(win, text='First number')\n",
    "        self.lbl2=Label(win, text='Second number')\n",
    "        self.lbl3=Label(win, text='Result')\n",
    "        self.t1=Entry(bd=3)\n",
    "        self.t2=Entry()\n",
    "        self.t3=Entry()\n",
    "        self.btn1 = Button(win, text='Add')\n",
    "        self.btn2=Button(win, text='Subtract')\n",
    "        self.lbl1.place(x=100, y=50)\n",
    "        self.t1.place(x=200, y=50)\n",
    "        self.lbl2.place(x=100, y=100)\n",
    "        self.t2.place(x=200, y=100)\n",
    "        self.b1=Button(win, text='Add', command=self.add)\n",
    "        self.b2=Button(win, text='Subtract')\n",
    "        self.b2.bind('<Button-1>', self.sub)\n",
    "        self.b1.place(x=100, y=150)\n",
    "        self.b2.place(x=200, y=150)\n",
    "        self.lbl3.place(x=100, y=200)\n",
    "        self.t3.place(x=200, y=200)\n",
    "    def add(self):\n",
    "        self.t3.delete(0, 'end')\n",
    "        num1=int(self.t1.get())\n",
    "        num2=int(self.t2.get())\n",
    "        result=num1+num2\n",
    "        self.t3.insert(END, str(result))\n",
    "    def sub(self, event):\n",
    "        self.t3.delete(0, 'end')\n",
    "        num1=int(self.t1.get())\n",
    "        num2=int(self.t2.get())\n",
    "        result=num1-num2\n",
    "        self.t3.insert(END, str(result))\n",
    "\n",
    "window=Tk()\n",
    "mywin=MyWindow(window)\n",
    "window.title('Hello Python')\n",
    "window.geometry(\"400x300+10+10\")\n",
    "window.mainloop()"
   ]
  },
  {
   "cell_type": "code",
   "execution_count": 1,
   "id": "5fc8c426",
   "metadata": {},
   "outputs": [
    {
     "name": "stdout",
     "output_type": "stream",
     "text": [
      "Requirement already satisfied: flask in c:\\users\\admin\\anaconda3\\lib\\site-packages (1.1.2)\n",
      "Requirement already satisfied: click>=5.1 in c:\\users\\admin\\anaconda3\\lib\\site-packages (from flask) (7.1.2)\n",
      "Requirement already satisfied: itsdangerous>=0.24 in c:\\users\\admin\\anaconda3\\lib\\site-packages (from flask) (1.1.0)\n",
      "Requirement already satisfied: Jinja2>=2.10.1 in c:\\users\\admin\\anaconda3\\lib\\site-packages (from flask) (2.11.3)\n",
      "Requirement already satisfied: Werkzeug>=0.15 in c:\\users\\admin\\anaconda3\\lib\\site-packages (from flask) (1.0.1)\n",
      "Requirement already satisfied: MarkupSafe>=0.23 in c:\\users\\admin\\anaconda3\\lib\\site-packages (from Jinja2>=2.10.1->flask) (1.1.1)\n"
     ]
    },
    {
     "name": "stderr",
     "output_type": "stream",
     "text": [
      "WARNING: Ignoring invalid distribution -yyaml (c:\\users\\admin\\appdata\\roaming\\python\\python38\\site-packages)\n",
      "WARNING: Ignoring invalid distribution -yyaml (c:\\users\\admin\\appdata\\roaming\\python\\python38\\site-packages)\n",
      "WARNING: Ignoring invalid distribution -yyaml (c:\\users\\admin\\appdata\\roaming\\python\\python38\\site-packages)\n",
      "WARNING: Ignoring invalid distribution -yyaml (c:\\users\\admin\\appdata\\roaming\\python\\python38\\site-packages)\n",
      "WARNING: Ignoring invalid distribution -yyaml (c:\\users\\admin\\appdata\\roaming\\python\\python38\\site-packages)\n"
     ]
    }
   ],
   "source": [
    "!pip install flask"
   ]
  },
  {
   "cell_type": "code",
   "execution_count": null,
   "id": "9369424a",
   "metadata": {},
   "outputs": [],
   "source": []
  }
 ],
 "metadata": {
  "kernelspec": {
   "display_name": "Python 3 (ipykernel)",
   "language": "python",
   "name": "python3"
  },
  "language_info": {
   "codemirror_mode": {
    "name": "ipython",
    "version": 3
   },
   "file_extension": ".py",
   "mimetype": "text/x-python",
   "name": "python",
   "nbconvert_exporter": "python",
   "pygments_lexer": "ipython3",
   "version": "3.8.8"
  },
  "toc": {
   "base_numbering": 1,
   "nav_menu": {},
   "number_sections": true,
   "sideBar": true,
   "skip_h1_title": false,
   "title_cell": "Table of Contents",
   "title_sidebar": "Contents",
   "toc_cell": false,
   "toc_position": {},
   "toc_section_display": true,
   "toc_window_display": false
  },
  "varInspector": {
   "cols": {
    "lenName": 16,
    "lenType": 16,
    "lenVar": 40
   },
   "kernels_config": {
    "python": {
     "delete_cmd_postfix": "",
     "delete_cmd_prefix": "del ",
     "library": "var_list.py",
     "varRefreshCmd": "print(var_dic_list())"
    },
    "r": {
     "delete_cmd_postfix": ") ",
     "delete_cmd_prefix": "rm(",
     "library": "var_list.r",
     "varRefreshCmd": "cat(var_dic_list()) "
    }
   },
   "types_to_exclude": [
    "module",
    "function",
    "builtin_function_or_method",
    "instance",
    "_Feature"
   ],
   "window_display": false
  }
 },
 "nbformat": 4,
 "nbformat_minor": 5
}

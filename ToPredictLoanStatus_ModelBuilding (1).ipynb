{
 "cells": [
  {
   "cell_type": "markdown",
   "id": "070eeae2",
   "metadata": {},
   "source": [
    "# Team-G4-ExcelR-P53"
   ]
  },
  {
   "cell_type": "markdown",
   "id": "60f95fee",
   "metadata": {},
   "source": [
    "# To predict loan status\n",
    "\n",
    "\n",
    "\n",
    "### Business Objective:\n",
    "To predict the impact of the incident raised by the customer.\n",
    "\n",
    "### Data Set Details:\n",
    "It’s not at all easy to get a loan from the bank. Getting a loan approved requires a complex mix of factors not the least of which is a steady income! So this ML project aims **to create a model that will classify how much loan the user can obtain** based on various factors such as the user’s marital status, income, education, employment prospects, number of dependents, etc. The dataset attached provides details about all these factors which can then be used to create an ML model that demonstrates the amount of loan that can be approved"
   ]
  },
  {
   "cell_type": "code",
   "execution_count": 1,
   "id": "0f2dc400",
   "metadata": {},
   "outputs": [],
   "source": [
    "#Importing important libraries\n",
    "import pandas as pd\n",
    "import numpy as np\n",
    "import matplotlib.pyplot as plt\n",
    "import seaborn as sns\n",
    "import warnings\n",
    "warnings.filterwarnings('ignore')"
   ]
  },
  {
   "cell_type": "code",
   "execution_count": 2,
   "id": "6093bc39",
   "metadata": {},
   "outputs": [],
   "source": [
    "# Importing the data\n",
    "loan = pd.read_csv(\"train.csv\")"
   ]
  },
  {
   "cell_type": "markdown",
   "id": "ade5e63c",
   "metadata": {},
   "source": [
    "# Exploratory Data Analysis-(EDA)"
   ]
  },
  {
   "cell_type": "markdown",
   "id": "e54b0670",
   "metadata": {},
   "source": [
    "steps involved to understand, clean and prepare our data for building model <br />\n",
    "1. variable identification <br />\n",
    "2. univariate analysis <br />\n",
    "3. bi-variate analysis <br />\n",
    "4. missing values treatment <br />\n",
    "5. outliers treatment <br />\n",
    "6. variable transformation <br />\n",
    "7. variable creation <br />\n",
    "Finally we iterate steps 4-7 till we get good model."
   ]
  },
  {
   "cell_type": "markdown",
   "id": "4072ff23",
   "metadata": {},
   "source": [
    "## Variable Identification"
   ]
  },
  {
   "cell_type": "code",
   "execution_count": 3,
   "id": "a8f43aea",
   "metadata": {},
   "outputs": [
    {
     "data": {
      "text/html": [
       "<div>\n",
       "<style scoped>\n",
       "    .dataframe tbody tr th:only-of-type {\n",
       "        vertical-align: middle;\n",
       "    }\n",
       "\n",
       "    .dataframe tbody tr th {\n",
       "        vertical-align: top;\n",
       "    }\n",
       "\n",
       "    .dataframe thead th {\n",
       "        text-align: right;\n",
       "    }\n",
       "</style>\n",
       "<table border=\"1\" class=\"dataframe\">\n",
       "  <thead>\n",
       "    <tr style=\"text-align: right;\">\n",
       "      <th></th>\n",
       "      <th>Loan_ID</th>\n",
       "      <th>Gender</th>\n",
       "      <th>Married</th>\n",
       "      <th>Dependents</th>\n",
       "      <th>Education</th>\n",
       "      <th>Self_Employed</th>\n",
       "      <th>ApplicantIncome</th>\n",
       "      <th>CoapplicantIncome</th>\n",
       "      <th>LoanAmount</th>\n",
       "      <th>Loan_Amount_Term</th>\n",
       "      <th>Credit_History</th>\n",
       "      <th>Property_Area</th>\n",
       "      <th>Loan_Status</th>\n",
       "    </tr>\n",
       "  </thead>\n",
       "  <tbody>\n",
       "    <tr>\n",
       "      <th>0</th>\n",
       "      <td>LP001002</td>\n",
       "      <td>Male</td>\n",
       "      <td>No</td>\n",
       "      <td>0</td>\n",
       "      <td>Graduate</td>\n",
       "      <td>No</td>\n",
       "      <td>5849</td>\n",
       "      <td>0.0</td>\n",
       "      <td>NaN</td>\n",
       "      <td>360.0</td>\n",
       "      <td>1.0</td>\n",
       "      <td>Urban</td>\n",
       "      <td>Y</td>\n",
       "    </tr>\n",
       "    <tr>\n",
       "      <th>1</th>\n",
       "      <td>LP001003</td>\n",
       "      <td>Male</td>\n",
       "      <td>Yes</td>\n",
       "      <td>1</td>\n",
       "      <td>Graduate</td>\n",
       "      <td>No</td>\n",
       "      <td>4583</td>\n",
       "      <td>1508.0</td>\n",
       "      <td>128.0</td>\n",
       "      <td>360.0</td>\n",
       "      <td>1.0</td>\n",
       "      <td>Rural</td>\n",
       "      <td>N</td>\n",
       "    </tr>\n",
       "    <tr>\n",
       "      <th>2</th>\n",
       "      <td>LP001005</td>\n",
       "      <td>Male</td>\n",
       "      <td>Yes</td>\n",
       "      <td>0</td>\n",
       "      <td>Graduate</td>\n",
       "      <td>Yes</td>\n",
       "      <td>3000</td>\n",
       "      <td>0.0</td>\n",
       "      <td>66.0</td>\n",
       "      <td>360.0</td>\n",
       "      <td>1.0</td>\n",
       "      <td>Urban</td>\n",
       "      <td>Y</td>\n",
       "    </tr>\n",
       "    <tr>\n",
       "      <th>3</th>\n",
       "      <td>LP001006</td>\n",
       "      <td>Male</td>\n",
       "      <td>Yes</td>\n",
       "      <td>0</td>\n",
       "      <td>Not Graduate</td>\n",
       "      <td>No</td>\n",
       "      <td>2583</td>\n",
       "      <td>2358.0</td>\n",
       "      <td>120.0</td>\n",
       "      <td>360.0</td>\n",
       "      <td>1.0</td>\n",
       "      <td>Urban</td>\n",
       "      <td>Y</td>\n",
       "    </tr>\n",
       "    <tr>\n",
       "      <th>4</th>\n",
       "      <td>LP001008</td>\n",
       "      <td>Male</td>\n",
       "      <td>No</td>\n",
       "      <td>0</td>\n",
       "      <td>Graduate</td>\n",
       "      <td>No</td>\n",
       "      <td>6000</td>\n",
       "      <td>0.0</td>\n",
       "      <td>141.0</td>\n",
       "      <td>360.0</td>\n",
       "      <td>1.0</td>\n",
       "      <td>Urban</td>\n",
       "      <td>Y</td>\n",
       "    </tr>\n",
       "  </tbody>\n",
       "</table>\n",
       "</div>"
      ],
      "text/plain": [
       "    Loan_ID Gender Married Dependents     Education Self_Employed  \\\n",
       "0  LP001002   Male      No          0      Graduate            No   \n",
       "1  LP001003   Male     Yes          1      Graduate            No   \n",
       "2  LP001005   Male     Yes          0      Graduate           Yes   \n",
       "3  LP001006   Male     Yes          0  Not Graduate            No   \n",
       "4  LP001008   Male      No          0      Graduate            No   \n",
       "\n",
       "   ApplicantIncome  CoapplicantIncome  LoanAmount  Loan_Amount_Term  \\\n",
       "0             5849                0.0         NaN             360.0   \n",
       "1             4583             1508.0       128.0             360.0   \n",
       "2             3000                0.0        66.0             360.0   \n",
       "3             2583             2358.0       120.0             360.0   \n",
       "4             6000                0.0       141.0             360.0   \n",
       "\n",
       "   Credit_History Property_Area Loan_Status  \n",
       "0             1.0         Urban           Y  \n",
       "1             1.0         Rural           N  \n",
       "2             1.0         Urban           Y  \n",
       "3             1.0         Urban           Y  \n",
       "4             1.0         Urban           Y  "
      ]
     },
     "execution_count": 3,
     "metadata": {},
     "output_type": "execute_result"
    }
   ],
   "source": [
    "# look the data\n",
    "loan.head()"
   ]
  },
  {
   "cell_type": "code",
   "execution_count": 4,
   "id": "e7d55d27",
   "metadata": {},
   "outputs": [
    {
     "data": {
      "text/plain": [
       "(614, 13)"
      ]
     },
     "execution_count": 4,
     "metadata": {},
     "output_type": "execute_result"
    }
   ],
   "source": [
    "#check no. of rows and columns\n",
    "loan.shape"
   ]
  },
  {
   "cell_type": "markdown",
   "id": "9ee0fc90",
   "metadata": {},
   "source": [
    "**Inference:** <br />\n",
    "      There are 614 records and 13 features."
   ]
  },
  {
   "cell_type": "code",
   "execution_count": 5,
   "id": "b52484d7",
   "metadata": {},
   "outputs": [
    {
     "name": "stdout",
     "output_type": "stream",
     "text": [
      "<class 'pandas.core.frame.DataFrame'>\n",
      "RangeIndex: 614 entries, 0 to 613\n",
      "Data columns (total 13 columns):\n",
      " #   Column             Non-Null Count  Dtype  \n",
      "---  ------             --------------  -----  \n",
      " 0   Loan_ID            614 non-null    object \n",
      " 1   Gender             601 non-null    object \n",
      " 2   Married            611 non-null    object \n",
      " 3   Dependents         599 non-null    object \n",
      " 4   Education          614 non-null    object \n",
      " 5   Self_Employed      582 non-null    object \n",
      " 6   ApplicantIncome    614 non-null    int64  \n",
      " 7   CoapplicantIncome  614 non-null    float64\n",
      " 8   LoanAmount         592 non-null    float64\n",
      " 9   Loan_Amount_Term   600 non-null    float64\n",
      " 10  Credit_History     564 non-null    float64\n",
      " 11  Property_Area      614 non-null    object \n",
      " 12  Loan_Status        614 non-null    object \n",
      "dtypes: float64(4), int64(1), object(8)\n",
      "memory usage: 62.5+ KB\n"
     ]
    }
   ],
   "source": [
    "loan.info()  #There are some missing values in  data,we will handle as go along."
   ]
  },
  {
   "cell_type": "code",
   "execution_count": 6,
   "id": "fce7c56c",
   "metadata": {},
   "outputs": [
    {
     "data": {
      "text/plain": [
       "Loan_ID              614\n",
       "ApplicantIncome      505\n",
       "CoapplicantIncome    287\n",
       "LoanAmount           203\n",
       "Loan_Amount_Term      10\n",
       "Dependents             4\n",
       "Property_Area          3\n",
       "Loan_Status            2\n",
       "Credit_History         2\n",
       "Self_Employed          2\n",
       "Education              2\n",
       "Married                2\n",
       "Gender                 2\n",
       "dtype: int64"
      ]
     },
     "execution_count": 6,
     "metadata": {},
     "output_type": "execute_result"
    }
   ],
   "source": [
    "#Count distinct observations without NaN values.\n",
    "loan.nunique().sort_values(ascending=False)"
   ]
  },
  {
   "cell_type": "markdown",
   "id": "fdd72c8a",
   "metadata": {},
   "source": [
    "**Inference:** <br />\n",
    "Most of the categorical variables have a relatively small number of unique entries. We will need to find a way to deal with these categorical variables."
   ]
  },
  {
   "cell_type": "code",
   "execution_count": 7,
   "id": "005c654c",
   "metadata": {},
   "outputs": [],
   "source": [
    "# change the data type of Credit_History column\n",
    "loan['Credit_History'] = loan['Credit_History'].astype('O')"
   ]
  },
  {
   "cell_type": "code",
   "execution_count": 8,
   "id": "98befc26",
   "metadata": {},
   "outputs": [
    {
     "data": {
      "text/plain": [
       "object     9\n",
       "float64    3\n",
       "int64      1\n",
       "dtype: int64"
      ]
     },
     "execution_count": 8,
     "metadata": {},
     "output_type": "execute_result"
    }
   ],
   "source": [
    "#Let's look at the number of columns of each data type. int64 and float64 are numeric variables \n",
    "# (which can be either discrete or continuous). object columns contain strings and are categorical features.\n",
    "loan.dtypes.value_counts()"
   ]
  },
  {
   "cell_type": "code",
   "execution_count": 9,
   "id": "8fc077d8",
   "metadata": {},
   "outputs": [
    {
     "data": {
      "text/html": [
       "<div>\n",
       "<style scoped>\n",
       "    .dataframe tbody tr th:only-of-type {\n",
       "        vertical-align: middle;\n",
       "    }\n",
       "\n",
       "    .dataframe tbody tr th {\n",
       "        vertical-align: top;\n",
       "    }\n",
       "\n",
       "    .dataframe thead th {\n",
       "        text-align: right;\n",
       "    }\n",
       "</style>\n",
       "<table border=\"1\" class=\"dataframe\">\n",
       "  <thead>\n",
       "    <tr style=\"text-align: right;\">\n",
       "      <th></th>\n",
       "      <th>Object_variable</th>\n",
       "      <th>Unique_Values</th>\n",
       "    </tr>\n",
       "  </thead>\n",
       "  <tbody>\n",
       "    <tr>\n",
       "      <th>0</th>\n",
       "      <td>Gender</td>\n",
       "      <td>[Male, Female, nan]</td>\n",
       "    </tr>\n",
       "    <tr>\n",
       "      <th>1</th>\n",
       "      <td>Married</td>\n",
       "      <td>[No, Yes, nan]</td>\n",
       "    </tr>\n",
       "    <tr>\n",
       "      <th>2</th>\n",
       "      <td>Dependents</td>\n",
       "      <td>[0, 1, 2, 3+, nan]</td>\n",
       "    </tr>\n",
       "    <tr>\n",
       "      <th>3</th>\n",
       "      <td>Education</td>\n",
       "      <td>[Graduate, Not Graduate]</td>\n",
       "    </tr>\n",
       "    <tr>\n",
       "      <th>4</th>\n",
       "      <td>Self_Employed</td>\n",
       "      <td>[No, Yes, nan]</td>\n",
       "    </tr>\n",
       "    <tr>\n",
       "      <th>5</th>\n",
       "      <td>Credit_History</td>\n",
       "      <td>[1.0, 0.0, nan]</td>\n",
       "    </tr>\n",
       "    <tr>\n",
       "      <th>6</th>\n",
       "      <td>Property_Area</td>\n",
       "      <td>[Urban, Rural, Semiurban]</td>\n",
       "    </tr>\n",
       "    <tr>\n",
       "      <th>7</th>\n",
       "      <td>Loan_Status</td>\n",
       "      <td>[Y, N]</td>\n",
       "    </tr>\n",
       "  </tbody>\n",
       "</table>\n",
       "</div>"
      ],
      "text/plain": [
       "  Object_variable              Unique_Values\n",
       "0          Gender        [Male, Female, nan]\n",
       "1         Married             [No, Yes, nan]\n",
       "2      Dependents         [0, 1, 2, 3+, nan]\n",
       "3       Education   [Graduate, Not Graduate]\n",
       "4   Self_Employed             [No, Yes, nan]\n",
       "5  Credit_History            [1.0, 0.0, nan]\n",
       "6   Property_Area  [Urban, Rural, Semiurban]\n",
       "7     Loan_Status                     [Y, N]"
      ]
     },
     "execution_count": 9,
     "metadata": {},
     "output_type": "execute_result"
    }
   ],
   "source": [
    "# unique classes in each object columns\n",
    "object_var=loan.select_dtypes('object').columns\n",
    "object_var=object_var[1:]\n",
    "unique_values=[]\n",
    "for i in range(0,8):\n",
    "    unique_values.append(loan[object_var[i]].unique())\n",
    "object_var_table=pd.DataFrame({\"Object_variable\":object_var,\"Unique_Values\":unique_values})\n",
    "object_var_table"
   ]
  },
  {
   "cell_type": "code",
   "execution_count": 10,
   "id": "fe4db6c3",
   "metadata": {},
   "outputs": [
    {
     "data": {
      "text/html": [
       "<div>\n",
       "<style scoped>\n",
       "    .dataframe tbody tr th:only-of-type {\n",
       "        vertical-align: middle;\n",
       "    }\n",
       "\n",
       "    .dataframe tbody tr th {\n",
       "        vertical-align: top;\n",
       "    }\n",
       "\n",
       "    .dataframe thead th {\n",
       "        text-align: right;\n",
       "    }\n",
       "</style>\n",
       "<table border=\"1\" class=\"dataframe\">\n",
       "  <thead>\n",
       "    <tr style=\"text-align: right;\">\n",
       "      <th></th>\n",
       "      <th>ApplicantIncome</th>\n",
       "      <th>CoapplicantIncome</th>\n",
       "      <th>LoanAmount</th>\n",
       "      <th>Loan_Amount_Term</th>\n",
       "    </tr>\n",
       "  </thead>\n",
       "  <tbody>\n",
       "    <tr>\n",
       "      <th>count</th>\n",
       "      <td>614.000000</td>\n",
       "      <td>614.000000</td>\n",
       "      <td>592.000000</td>\n",
       "      <td>600.00000</td>\n",
       "    </tr>\n",
       "    <tr>\n",
       "      <th>mean</th>\n",
       "      <td>5403.459283</td>\n",
       "      <td>1621.245798</td>\n",
       "      <td>146.412162</td>\n",
       "      <td>342.00000</td>\n",
       "    </tr>\n",
       "    <tr>\n",
       "      <th>std</th>\n",
       "      <td>6109.041673</td>\n",
       "      <td>2926.248369</td>\n",
       "      <td>85.587325</td>\n",
       "      <td>65.12041</td>\n",
       "    </tr>\n",
       "    <tr>\n",
       "      <th>min</th>\n",
       "      <td>150.000000</td>\n",
       "      <td>0.000000</td>\n",
       "      <td>9.000000</td>\n",
       "      <td>12.00000</td>\n",
       "    </tr>\n",
       "    <tr>\n",
       "      <th>25%</th>\n",
       "      <td>2877.500000</td>\n",
       "      <td>0.000000</td>\n",
       "      <td>100.000000</td>\n",
       "      <td>360.00000</td>\n",
       "    </tr>\n",
       "    <tr>\n",
       "      <th>50%</th>\n",
       "      <td>3812.500000</td>\n",
       "      <td>1188.500000</td>\n",
       "      <td>128.000000</td>\n",
       "      <td>360.00000</td>\n",
       "    </tr>\n",
       "    <tr>\n",
       "      <th>75%</th>\n",
       "      <td>5795.000000</td>\n",
       "      <td>2297.250000</td>\n",
       "      <td>168.000000</td>\n",
       "      <td>360.00000</td>\n",
       "    </tr>\n",
       "    <tr>\n",
       "      <th>max</th>\n",
       "      <td>81000.000000</td>\n",
       "      <td>41667.000000</td>\n",
       "      <td>700.000000</td>\n",
       "      <td>480.00000</td>\n",
       "    </tr>\n",
       "  </tbody>\n",
       "</table>\n",
       "</div>"
      ],
      "text/plain": [
       "       ApplicantIncome  CoapplicantIncome  LoanAmount  Loan_Amount_Term\n",
       "count       614.000000         614.000000  592.000000         600.00000\n",
       "mean       5403.459283        1621.245798  146.412162         342.00000\n",
       "std        6109.041673        2926.248369   85.587325          65.12041\n",
       "min         150.000000           0.000000    9.000000          12.00000\n",
       "25%        2877.500000           0.000000  100.000000         360.00000\n",
       "50%        3812.500000        1188.500000  128.000000         360.00000\n",
       "75%        5795.000000        2297.250000  168.000000         360.00000\n",
       "max       81000.000000       41667.000000  700.000000         480.00000"
      ]
     },
     "execution_count": 10,
     "metadata": {},
     "output_type": "execute_result"
    }
   ],
   "source": [
    "#describe the numeric columns\n",
    "loan.describe()"
   ]
  },
  {
   "cell_type": "code",
   "execution_count": 11,
   "id": "2fd3f368",
   "metadata": {},
   "outputs": [
    {
     "data": {
      "text/html": [
       "<div>\n",
       "<style scoped>\n",
       "    .dataframe tbody tr th:only-of-type {\n",
       "        vertical-align: middle;\n",
       "    }\n",
       "\n",
       "    .dataframe tbody tr th {\n",
       "        vertical-align: top;\n",
       "    }\n",
       "\n",
       "    .dataframe thead th {\n",
       "        text-align: right;\n",
       "    }\n",
       "</style>\n",
       "<table border=\"1\" class=\"dataframe\">\n",
       "  <thead>\n",
       "    <tr style=\"text-align: right;\">\n",
       "      <th></th>\n",
       "      <th>Loan_ID</th>\n",
       "      <th>Gender</th>\n",
       "      <th>Married</th>\n",
       "      <th>Dependents</th>\n",
       "      <th>Education</th>\n",
       "      <th>Self_Employed</th>\n",
       "      <th>Credit_History</th>\n",
       "      <th>Property_Area</th>\n",
       "      <th>Loan_Status</th>\n",
       "    </tr>\n",
       "  </thead>\n",
       "  <tbody>\n",
       "    <tr>\n",
       "      <th>count</th>\n",
       "      <td>614</td>\n",
       "      <td>601</td>\n",
       "      <td>611</td>\n",
       "      <td>599</td>\n",
       "      <td>614</td>\n",
       "      <td>582</td>\n",
       "      <td>564.0</td>\n",
       "      <td>614</td>\n",
       "      <td>614</td>\n",
       "    </tr>\n",
       "    <tr>\n",
       "      <th>unique</th>\n",
       "      <td>614</td>\n",
       "      <td>2</td>\n",
       "      <td>2</td>\n",
       "      <td>4</td>\n",
       "      <td>2</td>\n",
       "      <td>2</td>\n",
       "      <td>2.0</td>\n",
       "      <td>3</td>\n",
       "      <td>2</td>\n",
       "    </tr>\n",
       "    <tr>\n",
       "      <th>top</th>\n",
       "      <td>LP002778</td>\n",
       "      <td>Male</td>\n",
       "      <td>Yes</td>\n",
       "      <td>0</td>\n",
       "      <td>Graduate</td>\n",
       "      <td>No</td>\n",
       "      <td>1.0</td>\n",
       "      <td>Semiurban</td>\n",
       "      <td>Y</td>\n",
       "    </tr>\n",
       "    <tr>\n",
       "      <th>freq</th>\n",
       "      <td>1</td>\n",
       "      <td>489</td>\n",
       "      <td>398</td>\n",
       "      <td>345</td>\n",
       "      <td>480</td>\n",
       "      <td>500</td>\n",
       "      <td>475.0</td>\n",
       "      <td>233</td>\n",
       "      <td>422</td>\n",
       "    </tr>\n",
       "  </tbody>\n",
       "</table>\n",
       "</div>"
      ],
      "text/plain": [
       "         Loan_ID Gender Married Dependents Education Self_Employed  \\\n",
       "count        614    601     611        599       614           582   \n",
       "unique       614      2       2          4         2             2   \n",
       "top     LP002778   Male     Yes          0  Graduate            No   \n",
       "freq           1    489     398        345       480           500   \n",
       "\n",
       "        Credit_History Property_Area Loan_Status  \n",
       "count            564.0           614         614  \n",
       "unique             2.0             3           2  \n",
       "top                1.0     Semiurban           Y  \n",
       "freq             475.0           233         422  "
      ]
     },
     "execution_count": 11,
     "metadata": {},
     "output_type": "execute_result"
    }
   ],
   "source": [
    "# describe the chategoric columns\n",
    "loan.describe(include=['O'])"
   ]
  },
  {
   "cell_type": "markdown",
   "id": "8532ac37",
   "metadata": {},
   "source": [
    "# Data visualization"
   ]
  },
  {
   "cell_type": "markdown",
   "id": "d830c2e5",
   "metadata": {},
   "source": [
    "## Univariate Analysis"
   ]
  },
  {
   "cell_type": "markdown",
   "id": "fcb0267f",
   "metadata": {},
   "source": [
    "#### Categorical Variables:"
   ]
  },
  {
   "cell_type": "code",
   "execution_count": 12,
   "id": "e83d4bbe",
   "metadata": {},
   "outputs": [
    {
     "data": {
      "image/png": "[encoded data removed]",
      "text/plain": [
       "<Figure size 1440x576 with 6 Axes>"
      ]
     },
     "metadata": {
      "needs_background": "light"
     },
     "output_type": "display_data"
    }
   ],
   "source": [
    "#Univariate Analysis\n",
    "plt.figure(figsize=(20,8))\n",
    "plt.subplot(231);sns.countplot('Gender',data=loan);        plt.subplot(232);sns.countplot('Married',data=loan)\n",
    "plt.subplot(233);sns.countplot('Education',data=loan);     plt.subplot(234);sns.countplot('Self_Employed',data=loan)\n",
    "plt.subplot(235);sns.countplot('Credit_History',data=loan);plt.subplot(236);sns.countplot('Property_Area',data=loan);plt.show()"
   ]
  },
  {
   "cell_type": "markdown",
   "id": "b9837eed",
   "metadata": {},
   "source": [
    "**Inference:** <br />\n",
    "Mostly, those who **Male**, **Married**, **Graduated**, **Not Self_Employed** they applied for Loan.<br />\n",
    "Those who a high **Credit_History** (1.0) they mostly applied for Loan.<br />\n",
    "From any **Property_Area** people applied for Loan."
   ]
  },
  {
   "cell_type": "code",
   "execution_count": 13,
   "id": "303d6284",
   "metadata": {},
   "outputs": [
    {
     "data": {
      "image/png": "[encoded data removed]",
      "text/plain": [
       "<Figure size 720x360 with 1 Axes>"
      ]
     },
     "metadata": {},
     "output_type": "display_data"
    }
   ],
   "source": [
    "plt.figure(figsize=(10,5))\n",
    "loan['Dependents'].value_counts().plot(kind='pie',autopct='%1.1f%%',shadow=True);plt.show()"
   ]
  },
  {
   "cell_type": "markdown",
   "id": "6664843c",
   "metadata": {},
   "source": [
    "**Inference:** <br />\n",
    "Mostly those who have **NO dependents** they applied for Loan"
   ]
  },
  {
   "cell_type": "code",
   "execution_count": 14,
   "id": "c18f0b59",
   "metadata": {
    "scrolled": true
   },
   "outputs": [
    {
     "name": "stdout",
     "output_type": "stream",
     "text": [
      "Y    422\n",
      "N    192\n",
      "Name: Loan_Status, dtype: int64\n"
     ]
    },
    {
     "data": {
      "image/png": "[encoded data removed]",
      "text/plain": [
       "<Figure size 864x288 with 1 Axes>"
      ]
     },
     "metadata": {
      "needs_background": "light"
     },
     "output_type": "display_data"
    }
   ],
   "source": [
    "# Targate Vaariable\n",
    "plt.figure(figsize=(12,4));plt.subplot(122);sns.countplot(loan['Loan_Status'])#check our data is balanced or not\n",
    "print(loan['Loan_Status'].value_counts())"
   ]
  },
  {
   "cell_type": "markdown",
   "id": "a89d6adf",
   "metadata": {},
   "source": [
    "**Inference:** <br />\n",
    "From above, data is imbalanced we need to balance it."
   ]
  },
  {
   "cell_type": "markdown",
   "id": "0e50ddeb",
   "metadata": {},
   "source": [
    "### Continuous Variables:"
   ]
  },
  {
   "cell_type": "code",
   "execution_count": 15,
   "id": "3719fd12",
   "metadata": {},
   "outputs": [
    {
     "data": {
      "image/png": "[encoded data removed]",
      "text/plain": [
       "<Figure size 1440x360 with 2 Axes>"
      ]
     },
     "metadata": {
      "needs_background": "light"
     },
     "output_type": "display_data"
    }
   ],
   "source": [
    "plt.figure(figsize=(20,5));plt.subplot(121); sns.histplot(loan['ApplicantIncome']);plt.subplot(122);sns.boxplot(loan['ApplicantIncome'])\n",
    "plt.show()"
   ]
  },
  {
   "cell_type": "markdown",
   "id": "3fc4da17",
   "metadata": {},
   "source": [
    "**Inference:** <br />\n",
    "Our data is *Not Normal* (Right Skewed) and Huge *Outliers* in ApplicantIncome."
   ]
  },
  {
   "cell_type": "code",
   "execution_count": 16,
   "id": "1d830cf0",
   "metadata": {},
   "outputs": [
    {
     "data": {
      "image/png": "[encoded data removed]",
      "text/plain": [
       "<Figure size 1440x360 with 2 Axes>"
      ]
     },
     "metadata": {
      "needs_background": "light"
     },
     "output_type": "display_data"
    }
   ],
   "source": [
    "plt.figure(figsize=(20,5));plt.subplot(121); sns.histplot(loan['CoapplicantIncome']);plt.subplot(122);sns.boxplot(loan['CoapplicantIncome'])\n",
    "plt.show()"
   ]
  },
  {
   "cell_type": "markdown",
   "id": "febb7136",
   "metadata": {},
   "source": [
    "**Inference:** <br />\n",
    "Our data is *Not Normal* (Right Skewed) and There are *Outliers* in CoapplicantIncome."
   ]
  },
  {
   "cell_type": "code",
   "execution_count": 17,
   "id": "c4fc851f",
   "metadata": {},
   "outputs": [
    {
     "data": {
      "image/png": "[encoded data removed]",
      "text/plain": [
       "<Figure size 1440x360 with 2 Axes>"
      ]
     },
     "metadata": {
      "needs_background": "light"
     },
     "output_type": "display_data"
    }
   ],
   "source": [
    "plt.figure(figsize=(20,5));plt.subplot(121); sns.histplot(loan['LoanAmount']);plt.subplot(122);sns.boxplot(loan['LoanAmount'])\n",
    "plt.show()"
   ]
  },
  {
   "cell_type": "markdown",
   "id": "025fe537",
   "metadata": {},
   "source": [
    "**Inference:** <br />\n",
    "Our data is *Not Normal* (Right Skewed) and Huge *Outliers* in LoanAmount."
   ]
  },
  {
   "cell_type": "code",
   "execution_count": 18,
   "id": "6fed1737",
   "metadata": {},
   "outputs": [
    {
     "data": {
      "image/png": "[encoded data removed]",
      "text/plain": [
       "<Figure size 1440x360 with 2 Axes>"
      ]
     },
     "metadata": {
      "needs_background": "light"
     },
     "output_type": "display_data"
    }
   ],
   "source": [
    "plt.figure(figsize=(20,5));plt.subplot(121); sns.histplot(loan['Loan_Amount_Term']);plt.subplot(122);sns.boxplot(loan['Loan_Amount_Term'])\n",
    "plt.show()"
   ]
  },
  {
   "cell_type": "markdown",
   "id": "fe11f541",
   "metadata": {},
   "source": [
    "**Inference:** <br />\n",
    "Most **Loan_Amount_Term** is 360 only."
   ]
  },
  {
   "cell_type": "markdown",
   "id": "19efea34",
   "metadata": {},
   "source": [
    "## Bi-variate Analysis"
   ]
  },
  {
   "cell_type": "code",
   "execution_count": 19,
   "id": "42f6402b",
   "metadata": {},
   "outputs": [
    {
     "data": {
      "text/html": [
       "<div>\n",
       "<style scoped>\n",
       "    .dataframe tbody tr th:only-of-type {\n",
       "        vertical-align: middle;\n",
       "    }\n",
       "\n",
       "    .dataframe tbody tr th {\n",
       "        vertical-align: top;\n",
       "    }\n",
       "\n",
       "    .dataframe thead th {\n",
       "        text-align: right;\n",
       "    }\n",
       "</style>\n",
       "<table border=\"1\" class=\"dataframe\">\n",
       "  <thead>\n",
       "    <tr style=\"text-align: right;\">\n",
       "      <th></th>\n",
       "      <th>Loan_ID</th>\n",
       "      <th>Gender</th>\n",
       "      <th>Married</th>\n",
       "      <th>Dependents</th>\n",
       "      <th>Education</th>\n",
       "      <th>Self_Employed</th>\n",
       "      <th>ApplicantIncome</th>\n",
       "      <th>CoapplicantIncome</th>\n",
       "      <th>LoanAmount</th>\n",
       "      <th>Loan_Amount_Term</th>\n",
       "      <th>Credit_History</th>\n",
       "      <th>Property_Area</th>\n",
       "      <th>Loan_Status</th>\n",
       "    </tr>\n",
       "  </thead>\n",
       "  <tbody>\n",
       "    <tr>\n",
       "      <th>0</th>\n",
       "      <td>LP001002</td>\n",
       "      <td>Male</td>\n",
       "      <td>No</td>\n",
       "      <td>0</td>\n",
       "      <td>Graduate</td>\n",
       "      <td>No</td>\n",
       "      <td>5849</td>\n",
       "      <td>0.0</td>\n",
       "      <td>NaN</td>\n",
       "      <td>360.0</td>\n",
       "      <td>1</td>\n",
       "      <td>Urban</td>\n",
       "      <td>Y</td>\n",
       "    </tr>\n",
       "  </tbody>\n",
       "</table>\n",
       "</div>"
      ],
      "text/plain": [
       "    Loan_ID Gender Married Dependents Education Self_Employed  \\\n",
       "0  LP001002   Male      No          0  Graduate            No   \n",
       "\n",
       "   ApplicantIncome  CoapplicantIncome  LoanAmount  Loan_Amount_Term  \\\n",
       "0             5849                0.0         NaN             360.0   \n",
       "\n",
       "  Credit_History Property_Area Loan_Status  \n",
       "0              1         Urban           Y  "
      ]
     },
     "execution_count": 19,
     "metadata": {},
     "output_type": "execute_result"
    }
   ],
   "source": [
    "loan.head(1)"
   ]
  },
  {
   "cell_type": "code",
   "execution_count": 20,
   "id": "8d36cb2e",
   "metadata": {},
   "outputs": [],
   "source": [
    "# First we split numeric and chategoric columns seperately\n",
    "cat_data = []\n",
    "num_data = []\n",
    "for col,types in enumerate(loan.dtypes):\n",
    "    if types=='object':\n",
    "        cat_data.append(loan.iloc[:,col])\n",
    "    else:\n",
    "        num_data.append(loan.iloc[:,col])\n",
    "\n",
    "cat_data = pd.DataFrame(cat_data).T\n",
    "num_data = pd.DataFrame(num_data).T"
   ]
  },
  {
   "cell_type": "markdown",
   "id": "1670602c",
   "metadata": {},
   "source": [
    "### Continuous & Continuous :"
   ]
  },
  {
   "cell_type": "code",
   "execution_count": 21,
   "id": "964b9711",
   "metadata": {},
   "outputs": [
    {
     "data": {
      "image/png": "[encoded data removed]",
      "text/plain": [
       "<Figure size 720x720 with 20 Axes>"
      ]
     },
     "metadata": {},
     "output_type": "display_data"
    }
   ],
   "source": [
    "plt.style.use('seaborn-darkgrid')\n",
    "sns.pairplot(num_data);plt.show();"
   ]
  },
  {
   "cell_type": "code",
   "execution_count": 22,
   "id": "7d13c580",
   "metadata": {},
   "outputs": [
    {
     "data": {
      "image/png": "[encoded data removed]",
      "text/plain": [
       "<Figure size 1008x576 with 2 Axes>"
      ]
     },
     "metadata": {},
     "output_type": "display_data"
    }
   ],
   "source": [
    "plt.figure(figsize=(14,8))\n",
    "sns.heatmap(loan.corr(), annot = True, cmap=\"YlGn\");plt.show()"
   ]
  },
  {
   "cell_type": "markdown",
   "id": "f8c7693d",
   "metadata": {},
   "source": [
    "### Categorical & Categorical :"
   ]
  },
  {
   "cell_type": "markdown",
   "id": "556eea4f",
   "metadata": {},
   "source": [
    "#### Two-way table"
   ]
  },
  {
   "cell_type": "code",
   "execution_count": 23,
   "id": "24068ff6",
   "metadata": {},
   "outputs": [
    {
     "data": {
      "text/html": [
       "<div>\n",
       "<style scoped>\n",
       "    .dataframe tbody tr th:only-of-type {\n",
       "        vertical-align: middle;\n",
       "    }\n",
       "\n",
       "    .dataframe tbody tr th {\n",
       "        vertical-align: top;\n",
       "    }\n",
       "\n",
       "    .dataframe thead th {\n",
       "        text-align: right;\n",
       "    }\n",
       "</style>\n",
       "<table border=\"1\" class=\"dataframe\">\n",
       "  <thead>\n",
       "    <tr style=\"text-align: right;\">\n",
       "      <th>Gender</th>\n",
       "      <th>Female</th>\n",
       "      <th>Male</th>\n",
       "    </tr>\n",
       "    <tr>\n",
       "      <th>Education</th>\n",
       "      <th></th>\n",
       "      <th></th>\n",
       "    </tr>\n",
       "  </thead>\n",
       "  <tbody>\n",
       "    <tr>\n",
       "      <th>Graduate</th>\n",
       "      <td>92</td>\n",
       "      <td>376</td>\n",
       "    </tr>\n",
       "    <tr>\n",
       "      <th>Not Graduate</th>\n",
       "      <td>20</td>\n",
       "      <td>113</td>\n",
       "    </tr>\n",
       "  </tbody>\n",
       "</table>\n",
       "</div>"
      ],
      "text/plain": [
       "Gender        Female  Male\n",
       "Education                 \n",
       "Graduate          92   376\n",
       "Not Graduate      20   113"
      ]
     },
     "execution_count": 23,
     "metadata": {},
     "output_type": "execute_result"
    }
   ],
   "source": [
    "Education_tab=pd.crosstab(loan.Education,loan.Gender)\n",
    "Education_tab  # we can see how many males and females are graduated or not."
   ]
  },
  {
   "cell_type": "code",
   "execution_count": 24,
   "id": "5f9187a0",
   "metadata": {},
   "outputs": [
    {
     "data": {
      "text/html": [
       "<div>\n",
       "<style scoped>\n",
       "    .dataframe tbody tr th:only-of-type {\n",
       "        vertical-align: middle;\n",
       "    }\n",
       "\n",
       "    .dataframe tbody tr th {\n",
       "        vertical-align: top;\n",
       "    }\n",
       "\n",
       "    .dataframe thead th {\n",
       "        text-align: right;\n",
       "    }\n",
       "</style>\n",
       "<table border=\"1\" class=\"dataframe\">\n",
       "  <thead>\n",
       "    <tr style=\"text-align: right;\">\n",
       "      <th>Self_Employed</th>\n",
       "      <th>No</th>\n",
       "      <th>Yes</th>\n",
       "    </tr>\n",
       "    <tr>\n",
       "      <th>Dependents</th>\n",
       "      <th></th>\n",
       "      <th></th>\n",
       "    </tr>\n",
       "  </thead>\n",
       "  <tbody>\n",
       "    <tr>\n",
       "      <th>0</th>\n",
       "      <td>289</td>\n",
       "      <td>37</td>\n",
       "    </tr>\n",
       "    <tr>\n",
       "      <th>1</th>\n",
       "      <td>76</td>\n",
       "      <td>20</td>\n",
       "    </tr>\n",
       "    <tr>\n",
       "      <th>2</th>\n",
       "      <td>80</td>\n",
       "      <td>16</td>\n",
       "    </tr>\n",
       "    <tr>\n",
       "      <th>3+</th>\n",
       "      <td>42</td>\n",
       "      <td>7</td>\n",
       "    </tr>\n",
       "  </tbody>\n",
       "</table>\n",
       "</div>"
      ],
      "text/plain": [
       "Self_Employed   No  Yes\n",
       "Dependents             \n",
       "0              289   37\n",
       "1               76   20\n",
       "2               80   16\n",
       "3+              42    7"
      ]
     },
     "execution_count": 24,
     "metadata": {},
     "output_type": "execute_result"
    }
   ],
   "source": [
    "dependence_tab=pd.crosstab(loan.Dependents,loan.Self_Employed)\n",
    "dependence_tab   # we can see those who NOT Self_Employed and NOT dependent mostly they apply for loan"
   ]
  },
  {
   "cell_type": "markdown",
   "id": "5e458290",
   "metadata": {},
   "source": [
    "####  Pie Chart : (with target variable)"
   ]
  },
  {
   "cell_type": "code",
   "execution_count": 25,
   "id": "e38825f0",
   "metadata": {},
   "outputs": [
    {
     "data": {
      "image/png": "[encoded data removed]",
      "text/plain": [
       "<Figure size 720x576 with 2 Axes>"
      ]
     },
     "metadata": {},
     "output_type": "display_data"
    },
    {
     "data": {
      "image/png": "[encoded data removed]",
      "text/plain": [
       "<Figure size 720x576 with 2 Axes>"
      ]
     },
     "metadata": {},
     "output_type": "display_data"
    },
    {
     "data": {
      "image/png": "[encoded data removed]",
      "text/plain": [
       "<Figure size 720x576 with 4 Axes>"
      ]
     },
     "metadata": {},
     "output_type": "display_data"
    },
    {
     "data": {
      "image/png": "[encoded data removed]",
      "text/plain": [
       "<Figure size 720x576 with 2 Axes>"
      ]
     },
     "metadata": {},
     "output_type": "display_data"
    },
    {
     "data": {
      "image/png": "[encoded data removed]",
      "text/plain": [
       "<Figure size 720x576 with 2 Axes>"
      ]
     },
     "metadata": {},
     "output_type": "display_data"
    },
    {
     "data": {
      "image/png": "[encoded data removed]",
      "text/plain": [
       "<Figure size 720x576 with 2 Axes>"
      ]
     },
     "metadata": {},
     "output_type": "display_data"
    },
    {
     "data": {
      "image/png": "[encoded data removed]",
      "text/plain": [
       "<Figure size 720x576 with 3 Axes>"
      ]
     },
     "metadata": {},
     "output_type": "display_data"
    }
   ],
   "source": [
    "for i in object_var:\n",
    "    if i!=\"Loan_Status\":\n",
    "        loan.groupby([\"Loan_Status\",i]).size().unstack(fill_value=0).plot.pie(subplots=True,figsize=(10, 8),startangle=90,shadow=True,autopct='%1.1f%%',legend=False)\n",
    "        plt.title(i)"
   ]
  },
  {
   "cell_type": "markdown",
   "id": "fd31ea1a",
   "metadata": {},
   "source": [
    "**Inference:** <br />\n",
    "The People who have  good Credit History they got loan  most of the Time and other variables plays less importance role."
   ]
  },
  {
   "cell_type": "markdown",
   "id": "8dae8d1e",
   "metadata": {},
   "source": [
    "#### Chi-Square Test:"
   ]
  },
  {
   "cell_type": "code",
   "execution_count": 26,
   "id": "cc8c01f2",
   "metadata": {},
   "outputs": [
    {
     "data": {
      "text/html": [
       "<div>\n",
       "<style scoped>\n",
       "    .dataframe tbody tr th:only-of-type {\n",
       "        vertical-align: middle;\n",
       "    }\n",
       "\n",
       "    .dataframe tbody tr th {\n",
       "        vertical-align: top;\n",
       "    }\n",
       "\n",
       "    .dataframe thead th {\n",
       "        text-align: right;\n",
       "    }\n",
       "</style>\n",
       "<table border=\"1\" class=\"dataframe\">\n",
       "  <thead>\n",
       "    <tr style=\"text-align: right;\">\n",
       "      <th></th>\n",
       "      <th>Features</th>\n",
       "      <th>Target variable</th>\n",
       "      <th>chi2_score</th>\n",
       "      <th>p_value</th>\n",
       "      <th>Interpretation</th>\n",
       "    </tr>\n",
       "  </thead>\n",
       "  <tbody>\n",
       "    <tr>\n",
       "      <th>0</th>\n",
       "      <td>Loan_ID</td>\n",
       "      <td>Loan_Status</td>\n",
       "      <td>614.000000</td>\n",
       "      <td>4.810243e-01</td>\n",
       "      <td>The two categorical variables are independent</td>\n",
       "    </tr>\n",
       "    <tr>\n",
       "      <th>1</th>\n",
       "      <td>Gender</td>\n",
       "      <td>Loan_Status</td>\n",
       "      <td>0.139626</td>\n",
       "      <td>7.086530e-01</td>\n",
       "      <td>The two categorical variables are independent</td>\n",
       "    </tr>\n",
       "    <tr>\n",
       "      <th>2</th>\n",
       "      <td>Married</td>\n",
       "      <td>Loan_Status</td>\n",
       "      <td>4.475019</td>\n",
       "      <td>3.439381e-02</td>\n",
       "      <td>The two categorical variables are dependent</td>\n",
       "    </tr>\n",
       "    <tr>\n",
       "      <th>3</th>\n",
       "      <td>Dependents</td>\n",
       "      <td>Loan_Status</td>\n",
       "      <td>3.158340</td>\n",
       "      <td>3.678507e-01</td>\n",
       "      <td>The two categorical variables are independent</td>\n",
       "    </tr>\n",
       "    <tr>\n",
       "      <th>4</th>\n",
       "      <td>Education</td>\n",
       "      <td>Loan_Status</td>\n",
       "      <td>4.091490</td>\n",
       "      <td>4.309962e-02</td>\n",
       "      <td>The two categorical variables are dependent</td>\n",
       "    </tr>\n",
       "    <tr>\n",
       "      <th>5</th>\n",
       "      <td>Self_Employed</td>\n",
       "      <td>Loan_Status</td>\n",
       "      <td>0.005293</td>\n",
       "      <td>9.420039e-01</td>\n",
       "      <td>The two categorical variables are independent</td>\n",
       "    </tr>\n",
       "    <tr>\n",
       "      <th>6</th>\n",
       "      <td>Credit_History</td>\n",
       "      <td>Loan_Status</td>\n",
       "      <td>174.637297</td>\n",
       "      <td>7.184760e-40</td>\n",
       "      <td>The two categorical variables are dependent</td>\n",
       "    </tr>\n",
       "    <tr>\n",
       "      <th>7</th>\n",
       "      <td>Property_Area</td>\n",
       "      <td>Loan_Status</td>\n",
       "      <td>12.297623</td>\n",
       "      <td>2.136019e-03</td>\n",
       "      <td>The two categorical variables are dependent</td>\n",
       "    </tr>\n",
       "    <tr>\n",
       "      <th>8</th>\n",
       "      <td>Loan_Status</td>\n",
       "      <td>Loan_Status</td>\n",
       "      <td>609.355922</td>\n",
       "      <td>1.544676e-134</td>\n",
       "      <td>The two categorical variables are dependent</td>\n",
       "    </tr>\n",
       "  </tbody>\n",
       "</table>\n",
       "</div>"
      ],
      "text/plain": [
       "         Features Target variable  chi2_score        p_value  \\\n",
       "0         Loan_ID     Loan_Status  614.000000   4.810243e-01   \n",
       "1          Gender     Loan_Status    0.139626   7.086530e-01   \n",
       "2         Married     Loan_Status    4.475019   3.439381e-02   \n",
       "3      Dependents     Loan_Status    3.158340   3.678507e-01   \n",
       "4       Education     Loan_Status    4.091490   4.309962e-02   \n",
       "5   Self_Employed     Loan_Status    0.005293   9.420039e-01   \n",
       "6  Credit_History     Loan_Status  174.637297   7.184760e-40   \n",
       "7   Property_Area     Loan_Status   12.297623   2.136019e-03   \n",
       "8     Loan_Status     Loan_Status  609.355922  1.544676e-134   \n",
       "\n",
       "                                  Interpretation  \n",
       "0  The two categorical variables are independent  \n",
       "1  The two categorical variables are independent  \n",
       "2    The two categorical variables are dependent  \n",
       "3  The two categorical variables are independent  \n",
       "4    The two categorical variables are dependent  \n",
       "5  The two categorical variables are independent  \n",
       "6    The two categorical variables are dependent  \n",
       "7    The two categorical variables are dependent  \n",
       "8    The two categorical variables are dependent  "
      ]
     },
     "execution_count": 26,
     "metadata": {},
     "output_type": "execute_result"
    }
   ],
   "source": [
    "from scipy.stats import chi2_contingency\n",
    "First_var=[]\n",
    "Sec_var=[]\n",
    "p_value=[]\n",
    "Interpretation=[]\n",
    "chi_square=[]\n",
    "for i in cat_data.columns:\n",
    "    crossT=pd.crosstab(cat_data[i],cat_data['Loan_Status'])\n",
    "    p=chi2_contingency(crossT)[1]\n",
    "    c=chi2_contingency(crossT)[0]\n",
    "    First_var.append(i)\n",
    "    Sec_var.append(\"Loan_Status\")\n",
    "    p_value.append(p)\n",
    "    chi_square.append(c)\n",
    "    if p<=0.05:\n",
    "        Interpretation.append(\"The two categorical variables are dependent\")\n",
    "    else:\n",
    "        Interpretation.append(\"The two categorical variables are independent\")\n",
    "description=pd.DataFrame({\"Features\":cat_data.columns,\"Target variable\":Sec_var,\"chi2_score\":chi_square,\"p_value\":p_value,\"Interpretation\":Interpretation})\n",
    "description"
   ]
  },
  {
   "cell_type": "markdown",
   "id": "f74823fb",
   "metadata": {},
   "source": [
    "### Categorical & Continuous :"
   ]
  },
  {
   "cell_type": "code",
   "execution_count": 27,
   "id": "80c399fb",
   "metadata": {
    "scrolled": false
   },
   "outputs": [
    {
     "data": {
      "text/html": [
       "<div>\n",
       "<style scoped>\n",
       "    .dataframe tbody tr th:only-of-type {\n",
       "        vertical-align: middle;\n",
       "    }\n",
       "\n",
       "    .dataframe tbody tr th {\n",
       "        vertical-align: top;\n",
       "    }\n",
       "\n",
       "    .dataframe thead th {\n",
       "        text-align: right;\n",
       "    }\n",
       "</style>\n",
       "<table border=\"1\" class=\"dataframe\">\n",
       "  <thead>\n",
       "    <tr style=\"text-align: right;\">\n",
       "      <th></th>\n",
       "      <th>x</th>\n",
       "      <th>y</th>\n",
       "      <th>ppscore</th>\n",
       "      <th>case</th>\n",
       "      <th>is_valid_score</th>\n",
       "      <th>metric</th>\n",
       "      <th>baseline_score</th>\n",
       "      <th>model_score</th>\n",
       "      <th>model</th>\n",
       "    </tr>\n",
       "  </thead>\n",
       "  <tbody>\n",
       "    <tr>\n",
       "      <th>0</th>\n",
       "      <td>Credit_History</td>\n",
       "      <td>Loan_Status</td>\n",
       "      <td>0.492600</td>\n",
       "      <td>classification</td>\n",
       "      <td>True</td>\n",
       "      <td>weighted F1</td>\n",
       "      <td>0.592199</td>\n",
       "      <td>0.793081</td>\n",
       "      <td>DecisionTreeClassifier()</td>\n",
       "    </tr>\n",
       "    <tr>\n",
       "      <th>1</th>\n",
       "      <td>LoanAmount</td>\n",
       "      <td>Loan_Status</td>\n",
       "      <td>0.055993</td>\n",
       "      <td>classification</td>\n",
       "      <td>True</td>\n",
       "      <td>weighted F1</td>\n",
       "      <td>0.570946</td>\n",
       "      <td>0.594970</td>\n",
       "      <td>DecisionTreeClassifier()</td>\n",
       "    </tr>\n",
       "    <tr>\n",
       "      <th>2</th>\n",
       "      <td>Loan_Amount_Term</td>\n",
       "      <td>Loan_Status</td>\n",
       "      <td>0.039016</td>\n",
       "      <td>classification</td>\n",
       "      <td>True</td>\n",
       "      <td>weighted F1</td>\n",
       "      <td>0.573333</td>\n",
       "      <td>0.589980</td>\n",
       "      <td>DecisionTreeClassifier()</td>\n",
       "    </tr>\n",
       "    <tr>\n",
       "      <th>3</th>\n",
       "      <td>CoapplicantIncome</td>\n",
       "      <td>Loan_Status</td>\n",
       "      <td>0.036726</td>\n",
       "      <td>classification</td>\n",
       "      <td>True</td>\n",
       "      <td>weighted F1</td>\n",
       "      <td>0.563518</td>\n",
       "      <td>0.579548</td>\n",
       "      <td>DecisionTreeClassifier()</td>\n",
       "    </tr>\n",
       "    <tr>\n",
       "      <th>4</th>\n",
       "      <td>ApplicantIncome</td>\n",
       "      <td>Loan_Status</td>\n",
       "      <td>0.004756</td>\n",
       "      <td>classification</td>\n",
       "      <td>True</td>\n",
       "      <td>weighted F1</td>\n",
       "      <td>0.563518</td>\n",
       "      <td>0.565594</td>\n",
       "      <td>DecisionTreeClassifier()</td>\n",
       "    </tr>\n",
       "    <tr>\n",
       "      <th>5</th>\n",
       "      <td>Loan_ID</td>\n",
       "      <td>Loan_Status</td>\n",
       "      <td>0.000000</td>\n",
       "      <td>feature_is_id</td>\n",
       "      <td>True</td>\n",
       "      <td>None</td>\n",
       "      <td>0.000000</td>\n",
       "      <td>0.000000</td>\n",
       "      <td>None</td>\n",
       "    </tr>\n",
       "    <tr>\n",
       "      <th>6</th>\n",
       "      <td>Gender</td>\n",
       "      <td>Loan_Status</td>\n",
       "      <td>0.000000</td>\n",
       "      <td>classification</td>\n",
       "      <td>True</td>\n",
       "      <td>weighted F1</td>\n",
       "      <td>0.577371</td>\n",
       "      <td>0.561944</td>\n",
       "      <td>DecisionTreeClassifier()</td>\n",
       "    </tr>\n",
       "    <tr>\n",
       "      <th>7</th>\n",
       "      <td>Married</td>\n",
       "      <td>Loan_Status</td>\n",
       "      <td>0.000000</td>\n",
       "      <td>classification</td>\n",
       "      <td>True</td>\n",
       "      <td>weighted F1</td>\n",
       "      <td>0.557930</td>\n",
       "      <td>0.557927</td>\n",
       "      <td>DecisionTreeClassifier()</td>\n",
       "    </tr>\n",
       "    <tr>\n",
       "      <th>8</th>\n",
       "      <td>Dependents</td>\n",
       "      <td>Loan_Status</td>\n",
       "      <td>0.000000</td>\n",
       "      <td>classification</td>\n",
       "      <td>True</td>\n",
       "      <td>weighted F1</td>\n",
       "      <td>0.569282</td>\n",
       "      <td>0.562767</td>\n",
       "      <td>DecisionTreeClassifier()</td>\n",
       "    </tr>\n",
       "    <tr>\n",
       "      <th>9</th>\n",
       "      <td>Education</td>\n",
       "      <td>Loan_Status</td>\n",
       "      <td>0.000000</td>\n",
       "      <td>classification</td>\n",
       "      <td>True</td>\n",
       "      <td>weighted F1</td>\n",
       "      <td>0.563518</td>\n",
       "      <td>0.559917</td>\n",
       "      <td>DecisionTreeClassifier()</td>\n",
       "    </tr>\n",
       "    <tr>\n",
       "      <th>10</th>\n",
       "      <td>Self_Employed</td>\n",
       "      <td>Loan_Status</td>\n",
       "      <td>0.000000</td>\n",
       "      <td>classification</td>\n",
       "      <td>True</td>\n",
       "      <td>weighted F1</td>\n",
       "      <td>0.577320</td>\n",
       "      <td>0.557684</td>\n",
       "      <td>DecisionTreeClassifier()</td>\n",
       "    </tr>\n",
       "    <tr>\n",
       "      <th>11</th>\n",
       "      <td>Property_Area</td>\n",
       "      <td>Loan_Status</td>\n",
       "      <td>0.000000</td>\n",
       "      <td>classification</td>\n",
       "      <td>True</td>\n",
       "      <td>weighted F1</td>\n",
       "      <td>0.563518</td>\n",
       "      <td>0.559917</td>\n",
       "      <td>DecisionTreeClassifier()</td>\n",
       "    </tr>\n",
       "  </tbody>\n",
       "</table>\n",
       "</div>"
      ],
      "text/plain": [
       "                    x            y   ppscore            case  is_valid_score  \\\n",
       "0      Credit_History  Loan_Status  0.492600  classification            True   \n",
       "1          LoanAmount  Loan_Status  0.055993  classification            True   \n",
       "2    Loan_Amount_Term  Loan_Status  0.039016  classification            True   \n",
       "3   CoapplicantIncome  Loan_Status  0.036726  classification            True   \n",
       "4     ApplicantIncome  Loan_Status  0.004756  classification            True   \n",
       "5             Loan_ID  Loan_Status  0.000000   feature_is_id            True   \n",
       "6              Gender  Loan_Status  0.000000  classification            True   \n",
       "7             Married  Loan_Status  0.000000  classification            True   \n",
       "8          Dependents  Loan_Status  0.000000  classification            True   \n",
       "9           Education  Loan_Status  0.000000  classification            True   \n",
       "10      Self_Employed  Loan_Status  0.000000  classification            True   \n",
       "11      Property_Area  Loan_Status  0.000000  classification            True   \n",
       "\n",
       "         metric  baseline_score  model_score                     model  \n",
       "0   weighted F1        0.592199     0.793081  DecisionTreeClassifier()  \n",
       "1   weighted F1        0.570946     0.594970  DecisionTreeClassifier()  \n",
       "2   weighted F1        0.573333     0.589980  DecisionTreeClassifier()  \n",
       "3   weighted F1        0.563518     0.579548  DecisionTreeClassifier()  \n",
       "4   weighted F1        0.563518     0.565594  DecisionTreeClassifier()  \n",
       "5          None        0.000000     0.000000                      None  \n",
       "6   weighted F1        0.577371     0.561944  DecisionTreeClassifier()  \n",
       "7   weighted F1        0.557930     0.557927  DecisionTreeClassifier()  \n",
       "8   weighted F1        0.569282     0.562767  DecisionTreeClassifier()  \n",
       "9   weighted F1        0.563518     0.559917  DecisionTreeClassifier()  \n",
       "10  weighted F1        0.577320     0.557684  DecisionTreeClassifier()  \n",
       "11  weighted F1        0.563518     0.559917  DecisionTreeClassifier()  "
      ]
     },
     "execution_count": 27,
     "metadata": {},
     "output_type": "execute_result"
    }
   ],
   "source": [
    "import ppscore as pps\n",
    "pps.predictors(loan,\"Loan_Status\") #We can calculate the PPS of all the predictors in the dataframe against a target y"
   ]
  },
  {
   "cell_type": "code",
   "execution_count": 28,
   "id": "2687db07",
   "metadata": {},
   "outputs": [
    {
     "data": {
      "image/png": "[encoded data removed]",
      "text/plain": [
       "<Figure size 1008x360 with 1 Axes>"
      ]
     },
     "metadata": {},
     "output_type": "display_data"
    }
   ],
   "source": [
    "#Visualization of the results\n",
    "plt.figure(figsize=(14,5))\n",
    "predictors_df = pps.predictors(loan, y=\"Loan_Status\")\n",
    "sns.barplot(data=predictors_df, x=\"ppscore\", y=\"x\");plt.show()"
   ]
  },
  {
   "cell_type": "markdown",
   "id": "6ca76178",
   "metadata": {},
   "source": [
    "## Missing Value Treatment"
   ]
  },
  {
   "cell_type": "code",
   "execution_count": 29,
   "id": "93301339",
   "metadata": {},
   "outputs": [
    {
     "data": {
      "image/png": "[encoded data removed]",
      "text/plain": [
       "<Figure size 1440x576 with 1 Axes>"
      ]
     },
     "metadata": {},
     "output_type": "display_data"
    }
   ],
   "source": [
    "# visualize using Heat map\n",
    "plt.figure(figsize=(20,8))\n",
    "sns.heatmap(loan.isnull(), cbar=False);plt.show()"
   ]
  },
  {
   "cell_type": "code",
   "execution_count": 30,
   "id": "cb052946",
   "metadata": {},
   "outputs": [
    {
     "data": {
      "text/plain": [
       "Credit_History       50\n",
       "Self_Employed        32\n",
       "LoanAmount           22\n",
       "Dependents           15\n",
       "Loan_Amount_Term     14\n",
       "Gender               13\n",
       "Married               3\n",
       "Loan_Status           0\n",
       "Property_Area         0\n",
       "CoapplicantIncome     0\n",
       "ApplicantIncome       0\n",
       "Education             0\n",
       "Loan_ID               0\n",
       "dtype: int64"
      ]
     },
     "execution_count": 30,
     "metadata": {},
     "output_type": "execute_result"
    }
   ],
   "source": [
    "#Checking the null Values in Data\n",
    "loan.isnull().sum().sort_values(ascending=False)"
   ]
  },
  {
   "cell_type": "code",
   "execution_count": 31,
   "id": "d89b3d58",
   "metadata": {},
   "outputs": [
    {
     "data": {
      "text/html": [
       "<div>\n",
       "<style scoped>\n",
       "    .dataframe tbody tr th:only-of-type {\n",
       "        vertical-align: middle;\n",
       "    }\n",
       "\n",
       "    .dataframe tbody tr th {\n",
       "        vertical-align: top;\n",
       "    }\n",
       "\n",
       "    .dataframe thead th {\n",
       "        text-align: right;\n",
       "    }\n",
       "</style>\n",
       "<table border=\"1\" class=\"dataframe\">\n",
       "  <thead>\n",
       "    <tr style=\"text-align: right;\">\n",
       "      <th></th>\n",
       "      <th>Missing Values</th>\n",
       "      <th>% of Total Values</th>\n",
       "    </tr>\n",
       "  </thead>\n",
       "  <tbody>\n",
       "    <tr>\n",
       "      <th>Credit_History</th>\n",
       "      <td>50</td>\n",
       "      <td>8.1</td>\n",
       "    </tr>\n",
       "    <tr>\n",
       "      <th>Self_Employed</th>\n",
       "      <td>32</td>\n",
       "      <td>5.2</td>\n",
       "    </tr>\n",
       "    <tr>\n",
       "      <th>LoanAmount</th>\n",
       "      <td>22</td>\n",
       "      <td>3.6</td>\n",
       "    </tr>\n",
       "    <tr>\n",
       "      <th>Dependents</th>\n",
       "      <td>15</td>\n",
       "      <td>2.4</td>\n",
       "    </tr>\n",
       "    <tr>\n",
       "      <th>Loan_Amount_Term</th>\n",
       "      <td>14</td>\n",
       "      <td>2.3</td>\n",
       "    </tr>\n",
       "    <tr>\n",
       "      <th>Gender</th>\n",
       "      <td>13</td>\n",
       "      <td>2.1</td>\n",
       "    </tr>\n",
       "    <tr>\n",
       "      <th>Married</th>\n",
       "      <td>3</td>\n",
       "      <td>0.5</td>\n",
       "    </tr>\n",
       "  </tbody>\n",
       "</table>\n",
       "</div>"
      ],
      "text/plain": [
       "                  Missing Values  % of Total Values\n",
       "Credit_History                50                8.1\n",
       "Self_Employed                 32                5.2\n",
       "LoanAmount                    22                3.6\n",
       "Dependents                    15                2.4\n",
       "Loan_Amount_Term              14                2.3\n",
       "Gender                        13                2.1\n",
       "Married                        3                0.5"
      ]
     },
     "execution_count": 31,
     "metadata": {},
     "output_type": "execute_result"
    }
   ],
   "source": [
    "#Function to calculate missing values by column function\n",
    "def miss_value_table(df):\n",
    "    miss_value=df.isnull().sum()\n",
    "    percent_miss_value=(miss_value/len(df))*100\n",
    "    miss_value_table=pd.concat([miss_value, percent_miss_value],axis=1)\n",
    "    miss_value_table_columns=miss_value_table.rename({0:'Missing Values',1 : '% of Total Values'},axis=1)\n",
    "    miss_value_table_columns=miss_value_table_columns[miss_value_table_columns.iloc[:,1]!=0].sort_values('% of Total Values',ascending=False).round(1)\n",
    "    return miss_value_table_columns    \n",
    "missing_values=miss_value_table(loan)\n",
    "missing_values"
   ]
  },
  {
   "cell_type": "markdown",
   "id": "34a5c912",
   "metadata": {},
   "source": [
    "**Inference:** <br />\n",
    "When it comes time to build our machine learning models, we will have to fill in these missing values (known as imputation). "
   ]
  },
  {
   "cell_type": "code",
   "execution_count": 32,
   "id": "dac982f1",
   "metadata": {},
   "outputs": [
    {
     "data": {
      "text/html": [
       "<div>\n",
       "<style scoped>\n",
       "    .dataframe tbody tr th:only-of-type {\n",
       "        vertical-align: middle;\n",
       "    }\n",
       "\n",
       "    .dataframe tbody tr th {\n",
       "        vertical-align: top;\n",
       "    }\n",
       "\n",
       "    .dataframe thead th {\n",
       "        text-align: right;\n",
       "    }\n",
       "</style>\n",
       "<table border=\"1\" class=\"dataframe\">\n",
       "  <thead>\n",
       "    <tr style=\"text-align: right;\">\n",
       "      <th></th>\n",
       "      <th>Loan_ID</th>\n",
       "      <th>Gender</th>\n",
       "      <th>Married</th>\n",
       "      <th>Dependents</th>\n",
       "      <th>Education</th>\n",
       "      <th>Self_Employed</th>\n",
       "      <th>Credit_History</th>\n",
       "      <th>Property_Area</th>\n",
       "      <th>Loan_Status</th>\n",
       "    </tr>\n",
       "  </thead>\n",
       "  <tbody>\n",
       "    <tr>\n",
       "      <th>0</th>\n",
       "      <td>LP001002</td>\n",
       "      <td>Male</td>\n",
       "      <td>No</td>\n",
       "      <td>0</td>\n",
       "      <td>Graduate</td>\n",
       "      <td>No</td>\n",
       "      <td>1</td>\n",
       "      <td>Urban</td>\n",
       "      <td>Y</td>\n",
       "    </tr>\n",
       "    <tr>\n",
       "      <th>1</th>\n",
       "      <td>LP001003</td>\n",
       "      <td>Male</td>\n",
       "      <td>Yes</td>\n",
       "      <td>1</td>\n",
       "      <td>Graduate</td>\n",
       "      <td>No</td>\n",
       "      <td>1</td>\n",
       "      <td>Rural</td>\n",
       "      <td>N</td>\n",
       "    </tr>\n",
       "    <tr>\n",
       "      <th>2</th>\n",
       "      <td>LP001005</td>\n",
       "      <td>Male</td>\n",
       "      <td>Yes</td>\n",
       "      <td>0</td>\n",
       "      <td>Graduate</td>\n",
       "      <td>Yes</td>\n",
       "      <td>1</td>\n",
       "      <td>Urban</td>\n",
       "      <td>Y</td>\n",
       "    </tr>\n",
       "    <tr>\n",
       "      <th>3</th>\n",
       "      <td>LP001006</td>\n",
       "      <td>Male</td>\n",
       "      <td>Yes</td>\n",
       "      <td>0</td>\n",
       "      <td>Not Graduate</td>\n",
       "      <td>No</td>\n",
       "      <td>1</td>\n",
       "      <td>Urban</td>\n",
       "      <td>Y</td>\n",
       "    </tr>\n",
       "    <tr>\n",
       "      <th>4</th>\n",
       "      <td>LP001008</td>\n",
       "      <td>Male</td>\n",
       "      <td>No</td>\n",
       "      <td>0</td>\n",
       "      <td>Graduate</td>\n",
       "      <td>No</td>\n",
       "      <td>1</td>\n",
       "      <td>Urban</td>\n",
       "      <td>Y</td>\n",
       "    </tr>\n",
       "  </tbody>\n",
       "</table>\n",
       "</div>"
      ],
      "text/plain": [
       "    Loan_ID Gender Married Dependents     Education Self_Employed  \\\n",
       "0  LP001002   Male      No          0      Graduate            No   \n",
       "1  LP001003   Male     Yes          1      Graduate            No   \n",
       "2  LP001005   Male     Yes          0      Graduate           Yes   \n",
       "3  LP001006   Male     Yes          0  Not Graduate            No   \n",
       "4  LP001008   Male      No          0      Graduate            No   \n",
       "\n",
       "  Credit_History Property_Area Loan_Status  \n",
       "0              1         Urban           Y  \n",
       "1              1         Rural           N  \n",
       "2              1         Urban           Y  \n",
       "3              1         Urban           Y  \n",
       "4              1         Urban           Y  "
      ]
     },
     "execution_count": 32,
     "metadata": {},
     "output_type": "execute_result"
    }
   ],
   "source": [
    "cat_data.head()"
   ]
  },
  {
   "cell_type": "code",
   "execution_count": 33,
   "id": "72fdac47",
   "metadata": {},
   "outputs": [
    {
     "data": {
      "text/plain": [
       "False"
      ]
     },
     "execution_count": 33,
     "metadata": {},
     "output_type": "execute_result"
    }
   ],
   "source": [
    "#missing value imputation for categorical variable using mode\n",
    "cat_data.fillna(cat_data.mode().iloc[0], inplace=True)\n",
    "cat_data.isnull().sum().any() # no more missing data "
   ]
  },
  {
   "cell_type": "code",
   "execution_count": 34,
   "id": "b09724df",
   "metadata": {},
   "outputs": [
    {
     "data": {
      "text/html": [
       "<div>\n",
       "<style scoped>\n",
       "    .dataframe tbody tr th:only-of-type {\n",
       "        vertical-align: middle;\n",
       "    }\n",
       "\n",
       "    .dataframe tbody tr th {\n",
       "        vertical-align: top;\n",
       "    }\n",
       "\n",
       "    .dataframe thead th {\n",
       "        text-align: right;\n",
       "    }\n",
       "</style>\n",
       "<table border=\"1\" class=\"dataframe\">\n",
       "  <thead>\n",
       "    <tr style=\"text-align: right;\">\n",
       "      <th></th>\n",
       "      <th>ApplicantIncome</th>\n",
       "      <th>CoapplicantIncome</th>\n",
       "      <th>LoanAmount</th>\n",
       "      <th>Loan_Amount_Term</th>\n",
       "    </tr>\n",
       "  </thead>\n",
       "  <tbody>\n",
       "    <tr>\n",
       "      <th>0</th>\n",
       "      <td>5849.0</td>\n",
       "      <td>0.0</td>\n",
       "      <td>NaN</td>\n",
       "      <td>360.0</td>\n",
       "    </tr>\n",
       "    <tr>\n",
       "      <th>1</th>\n",
       "      <td>4583.0</td>\n",
       "      <td>1508.0</td>\n",
       "      <td>128.0</td>\n",
       "      <td>360.0</td>\n",
       "    </tr>\n",
       "    <tr>\n",
       "      <th>2</th>\n",
       "      <td>3000.0</td>\n",
       "      <td>0.0</td>\n",
       "      <td>66.0</td>\n",
       "      <td>360.0</td>\n",
       "    </tr>\n",
       "    <tr>\n",
       "      <th>3</th>\n",
       "      <td>2583.0</td>\n",
       "      <td>2358.0</td>\n",
       "      <td>120.0</td>\n",
       "      <td>360.0</td>\n",
       "    </tr>\n",
       "    <tr>\n",
       "      <th>4</th>\n",
       "      <td>6000.0</td>\n",
       "      <td>0.0</td>\n",
       "      <td>141.0</td>\n",
       "      <td>360.0</td>\n",
       "    </tr>\n",
       "  </tbody>\n",
       "</table>\n",
       "</div>"
      ],
      "text/plain": [
       "   ApplicantIncome  CoapplicantIncome  LoanAmount  Loan_Amount_Term\n",
       "0           5849.0                0.0         NaN             360.0\n",
       "1           4583.0             1508.0       128.0             360.0\n",
       "2           3000.0                0.0        66.0             360.0\n",
       "3           2583.0             2358.0       120.0             360.0\n",
       "4           6000.0                0.0       141.0             360.0"
      ]
     },
     "execution_count": 34,
     "metadata": {},
     "output_type": "execute_result"
    }
   ],
   "source": [
    "num_data.head()"
   ]
  },
  {
   "cell_type": "code",
   "execution_count": 35,
   "id": "b9b1af49",
   "metadata": {},
   "outputs": [
    {
     "data": {
      "text/plain": [
       "False"
      ]
     },
     "execution_count": 35,
     "metadata": {},
     "output_type": "execute_result"
    }
   ],
   "source": [
    "#missing value imputation for numeric variable using backfill (use next valid observation to fill gap)\n",
    "num_data.fillna(method='bfill', inplace=True)\n",
    "num_data.isnull().sum().any() #no more missing data"
   ]
  },
  {
   "cell_type": "code",
   "execution_count": 36,
   "id": "67dc548f",
   "metadata": {},
   "outputs": [],
   "source": [
    "# Add both ApplicantIncome and CoapplicantIncome to TotalIncome on train data\n",
    "num_data['TotalIncome'] = num_data['ApplicantIncome'] + num_data['CoapplicantIncome']"
   ]
  },
  {
   "cell_type": "code",
   "execution_count": 37,
   "id": "7be1bea2",
   "metadata": {},
   "outputs": [],
   "source": [
    "num_data.drop(['ApplicantIncome','CoapplicantIncome'],axis=1,inplace=True)"
   ]
  },
  {
   "cell_type": "code",
   "execution_count": 38,
   "id": "5c9fb74b",
   "metadata": {},
   "outputs": [
    {
     "data": {
      "text/html": [
       "<div>\n",
       "<style scoped>\n",
       "    .dataframe tbody tr th:only-of-type {\n",
       "        vertical-align: middle;\n",
       "    }\n",
       "\n",
       "    .dataframe tbody tr th {\n",
       "        vertical-align: top;\n",
       "    }\n",
       "\n",
       "    .dataframe thead th {\n",
       "        text-align: right;\n",
       "    }\n",
       "</style>\n",
       "<table border=\"1\" class=\"dataframe\">\n",
       "  <thead>\n",
       "    <tr style=\"text-align: right;\">\n",
       "      <th></th>\n",
       "      <th>LoanAmount</th>\n",
       "      <th>Loan_Amount_Term</th>\n",
       "      <th>TotalIncome</th>\n",
       "    </tr>\n",
       "  </thead>\n",
       "  <tbody>\n",
       "    <tr>\n",
       "      <th>0</th>\n",
       "      <td>128.0</td>\n",
       "      <td>360.0</td>\n",
       "      <td>5849.0</td>\n",
       "    </tr>\n",
       "    <tr>\n",
       "      <th>1</th>\n",
       "      <td>128.0</td>\n",
       "      <td>360.0</td>\n",
       "      <td>6091.0</td>\n",
       "    </tr>\n",
       "    <tr>\n",
       "      <th>2</th>\n",
       "      <td>66.0</td>\n",
       "      <td>360.0</td>\n",
       "      <td>3000.0</td>\n",
       "    </tr>\n",
       "    <tr>\n",
       "      <th>3</th>\n",
       "      <td>120.0</td>\n",
       "      <td>360.0</td>\n",
       "      <td>4941.0</td>\n",
       "    </tr>\n",
       "    <tr>\n",
       "      <th>4</th>\n",
       "      <td>141.0</td>\n",
       "      <td>360.0</td>\n",
       "      <td>6000.0</td>\n",
       "    </tr>\n",
       "  </tbody>\n",
       "</table>\n",
       "</div>"
      ],
      "text/plain": [
       "   LoanAmount  Loan_Amount_Term  TotalIncome\n",
       "0       128.0             360.0       5849.0\n",
       "1       128.0             360.0       6091.0\n",
       "2        66.0             360.0       3000.0\n",
       "3       120.0             360.0       4941.0\n",
       "4       141.0             360.0       6000.0"
      ]
     },
     "execution_count": 38,
     "metadata": {},
     "output_type": "execute_result"
    }
   ],
   "source": [
    "num_data.head()"
   ]
  },
  {
   "cell_type": "code",
   "execution_count": 39,
   "id": "b5ce36c5",
   "metadata": {},
   "outputs": [],
   "source": [
    "# Transform the Target column\n",
    "target_values = {'Y':1,'N':0}\n",
    "target = cat_data['Loan_Status']\n",
    "y = target.map(target_values)"
   ]
  },
  {
   "cell_type": "code",
   "execution_count": 40,
   "id": "32e868d3",
   "metadata": {},
   "outputs": [
    {
     "data": {
      "text/plain": [
       "0    1\n",
       "1    0\n",
       "2    1\n",
       "3    1\n",
       "4    1\n",
       "Name: Loan_Status, dtype: int64"
      ]
     },
     "execution_count": 40,
     "metadata": {},
     "output_type": "execute_result"
    }
   ],
   "source": [
    "y.head()"
   ]
  },
  {
   "cell_type": "code",
   "execution_count": 41,
   "id": "7b634ff3",
   "metadata": {},
   "outputs": [],
   "source": [
    "cat_data.drop(columns={'Loan_Status','Loan_ID'}, axis=1, inplace=True)"
   ]
  },
  {
   "cell_type": "code",
   "execution_count": 42,
   "id": "6635ad08",
   "metadata": {},
   "outputs": [],
   "source": [
    "cat_data['Gender'].replace({'Male':1,'Female':0},inplace=True)\n",
    "cat_data['Married'].replace({'Yes':1,'No':0},inplace=True)\n",
    "cat_data['Education'].replace({'Graduate':1,'Not Graduate':0},inplace=True)\n",
    "cat_data['Self_Employed'].replace({'Yes':1,'No':0},inplace=True)"
   ]
  },
  {
   "cell_type": "code",
   "execution_count": 43,
   "id": "dbdf30d1",
   "metadata": {},
   "outputs": [],
   "source": [
    "cat_data['Credit_History'] = cat_data['Credit_History'].astype('int64')"
   ]
  },
  {
   "cell_type": "code",
   "execution_count": 44,
   "id": "882f4d7b",
   "metadata": {
    "scrolled": true
   },
   "outputs": [
    {
     "data": {
      "text/html": [
       "<div>\n",
       "<style scoped>\n",
       "    .dataframe tbody tr th:only-of-type {\n",
       "        vertical-align: middle;\n",
       "    }\n",
       "\n",
       "    .dataframe tbody tr th {\n",
       "        vertical-align: top;\n",
       "    }\n",
       "\n",
       "    .dataframe thead th {\n",
       "        text-align: right;\n",
       "    }\n",
       "</style>\n",
       "<table border=\"1\" class=\"dataframe\">\n",
       "  <thead>\n",
       "    <tr style=\"text-align: right;\">\n",
       "      <th></th>\n",
       "      <th>Gender</th>\n",
       "      <th>Married</th>\n",
       "      <th>Education</th>\n",
       "      <th>Self_Employed</th>\n",
       "      <th>Credit_History</th>\n",
       "      <th>Dependents_0</th>\n",
       "      <th>Dependents_1</th>\n",
       "      <th>Dependents_2</th>\n",
       "      <th>Dependents_3+</th>\n",
       "      <th>Property_Area_Rural</th>\n",
       "      <th>Property_Area_Semiurban</th>\n",
       "      <th>Property_Area_Urban</th>\n",
       "    </tr>\n",
       "  </thead>\n",
       "  <tbody>\n",
       "    <tr>\n",
       "      <th>0</th>\n",
       "      <td>1</td>\n",
       "      <td>0</td>\n",
       "      <td>1</td>\n",
       "      <td>0</td>\n",
       "      <td>1</td>\n",
       "      <td>1</td>\n",
       "      <td>0</td>\n",
       "      <td>0</td>\n",
       "      <td>0</td>\n",
       "      <td>0</td>\n",
       "      <td>0</td>\n",
       "      <td>1</td>\n",
       "    </tr>\n",
       "    <tr>\n",
       "      <th>1</th>\n",
       "      <td>1</td>\n",
       "      <td>1</td>\n",
       "      <td>1</td>\n",
       "      <td>0</td>\n",
       "      <td>1</td>\n",
       "      <td>0</td>\n",
       "      <td>1</td>\n",
       "      <td>0</td>\n",
       "      <td>0</td>\n",
       "      <td>1</td>\n",
       "      <td>0</td>\n",
       "      <td>0</td>\n",
       "    </tr>\n",
       "    <tr>\n",
       "      <th>2</th>\n",
       "      <td>1</td>\n",
       "      <td>1</td>\n",
       "      <td>1</td>\n",
       "      <td>1</td>\n",
       "      <td>1</td>\n",
       "      <td>1</td>\n",
       "      <td>0</td>\n",
       "      <td>0</td>\n",
       "      <td>0</td>\n",
       "      <td>0</td>\n",
       "      <td>0</td>\n",
       "      <td>1</td>\n",
       "    </tr>\n",
       "    <tr>\n",
       "      <th>3</th>\n",
       "      <td>1</td>\n",
       "      <td>1</td>\n",
       "      <td>0</td>\n",
       "      <td>0</td>\n",
       "      <td>1</td>\n",
       "      <td>1</td>\n",
       "      <td>0</td>\n",
       "      <td>0</td>\n",
       "      <td>0</td>\n",
       "      <td>0</td>\n",
       "      <td>0</td>\n",
       "      <td>1</td>\n",
       "    </tr>\n",
       "    <tr>\n",
       "      <th>4</th>\n",
       "      <td>1</td>\n",
       "      <td>0</td>\n",
       "      <td>1</td>\n",
       "      <td>0</td>\n",
       "      <td>1</td>\n",
       "      <td>1</td>\n",
       "      <td>0</td>\n",
       "      <td>0</td>\n",
       "      <td>0</td>\n",
       "      <td>0</td>\n",
       "      <td>0</td>\n",
       "      <td>1</td>\n",
       "    </tr>\n",
       "  </tbody>\n",
       "</table>\n",
       "</div>"
      ],
      "text/plain": [
       "   Gender  Married  Education  Self_Employed  Credit_History  Dependents_0  \\\n",
       "0       1        0          1              0               1             1   \n",
       "1       1        1          1              0               1             0   \n",
       "2       1        1          1              1               1             1   \n",
       "3       1        1          0              0               1             1   \n",
       "4       1        0          1              0               1             1   \n",
       "\n",
       "   Dependents_1  Dependents_2  Dependents_3+  Property_Area_Rural  \\\n",
       "0             0             0              0                    0   \n",
       "1             1             0              0                    1   \n",
       "2             0             0              0                    0   \n",
       "3             0             0              0                    0   \n",
       "4             0             0              0                    0   \n",
       "\n",
       "   Property_Area_Semiurban  Property_Area_Urban  \n",
       "0                        0                    1  \n",
       "1                        0                    0  \n",
       "2                        0                    1  \n",
       "3                        0                    1  \n",
       "4                        0                    1  "
      ]
     },
     "execution_count": 44,
     "metadata": {},
     "output_type": "execute_result"
    }
   ],
   "source": [
    "# transform other columns\n",
    "cat_data = pd.get_dummies(cat_data)\n",
    "cat_data.head()"
   ]
  },
  {
   "cell_type": "markdown",
   "id": "e8f4c908",
   "metadata": {},
   "source": [
    "## variable transformation"
   ]
  },
  {
   "cell_type": "code",
   "execution_count": 45,
   "id": "8c9faeb3",
   "metadata": {},
   "outputs": [
    {
     "data": {
      "image/png": "[encoded data removed]",
      "text/plain": [
       "<Figure size 1440x1080 with 6 Axes>"
      ]
     },
     "metadata": {},
     "output_type": "display_data"
    }
   ],
   "source": [
    "plt.figure(figsize=(20,15))\n",
    "plt.subplot(321);sns.distplot(num_data['LoanAmount']);      plt.subplot(322);sns.distplot(np.log(np.cbrt(num_data[\"LoanAmount\"]+1)))\n",
    "plt.subplot(323);sns.distplot(num_data['Loan_Amount_Term']);plt.subplot(324);sns.distplot(np.log(np.log(num_data['Loan_Amount_Term'])))\n",
    "plt.subplot(325);sns.distplot(num_data['TotalIncome']);     plt.subplot(326);sns.distplot(np.log(np.log(num_data[\"TotalIncome\"]+1)));plt.show()"
   ]
  },
  {
   "cell_type": "code",
   "execution_count": 46,
   "id": "19b97b47",
   "metadata": {},
   "outputs": [],
   "source": [
    "num_data_trans = pd.DataFrame()   \n",
    "num_data_trans['LoanAmount'] =np.log(np.cbrt(num_data[\"LoanAmount\"]+1))\n",
    "num_data_trans['Loan_Amount_Term']=np.log(np.log(num_data['Loan_Amount_Term']))\n",
    "num_data_trans['TotalIncome'] =np.log(np.log(num_data[\"TotalIncome\"]+1))"
   ]
  },
  {
   "cell_type": "code",
   "execution_count": 47,
   "id": "6d759d44",
   "metadata": {
    "scrolled": false
   },
   "outputs": [
    {
     "data": {
      "text/html": [
       "<div>\n",
       "<style scoped>\n",
       "    .dataframe tbody tr th:only-of-type {\n",
       "        vertical-align: middle;\n",
       "    }\n",
       "\n",
       "    .dataframe tbody tr th {\n",
       "        vertical-align: top;\n",
       "    }\n",
       "\n",
       "    .dataframe thead th {\n",
       "        text-align: right;\n",
       "    }\n",
       "</style>\n",
       "<table border=\"1\" class=\"dataframe\">\n",
       "  <thead>\n",
       "    <tr style=\"text-align: right;\">\n",
       "      <th></th>\n",
       "      <th>LoanAmount</th>\n",
       "      <th>Loan_Amount_Term</th>\n",
       "      <th>TotalIncome</th>\n",
       "    </tr>\n",
       "  </thead>\n",
       "  <tbody>\n",
       "    <tr>\n",
       "      <th>0</th>\n",
       "      <td>1.619937</td>\n",
       "      <td>1.772594</td>\n",
       "      <td>2.160353</td>\n",
       "    </tr>\n",
       "    <tr>\n",
       "      <th>1</th>\n",
       "      <td>1.619937</td>\n",
       "      <td>1.772594</td>\n",
       "      <td>2.165015</td>\n",
       "    </tr>\n",
       "    <tr>\n",
       "      <th>2</th>\n",
       "      <td>1.401564</td>\n",
       "      <td>1.772594</td>\n",
       "      <td>2.080279</td>\n",
       "    </tr>\n",
       "    <tr>\n",
       "      <th>3</th>\n",
       "      <td>1.598597</td>\n",
       "      <td>1.772594</td>\n",
       "      <td>2.140716</td>\n",
       "    </tr>\n",
       "    <tr>\n",
       "      <th>4</th>\n",
       "      <td>1.651942</td>\n",
       "      <td>1.772594</td>\n",
       "      <td>2.163286</td>\n",
       "    </tr>\n",
       "  </tbody>\n",
       "</table>\n",
       "</div>"
      ],
      "text/plain": [
       "   LoanAmount  Loan_Amount_Term  TotalIncome\n",
       "0    1.619937          1.772594     2.160353\n",
       "1    1.619937          1.772594     2.165015\n",
       "2    1.401564          1.772594     2.080279\n",
       "3    1.598597          1.772594     2.140716\n",
       "4    1.651942          1.772594     2.163286"
      ]
     },
     "execution_count": 47,
     "metadata": {},
     "output_type": "execute_result"
    }
   ],
   "source": [
    "num_data_trans.head()"
   ]
  },
  {
   "cell_type": "markdown",
   "id": "29105b53",
   "metadata": {},
   "source": [
    "### Normalizaiton of data"
   ]
  },
  {
   "cell_type": "code",
   "execution_count": 48,
   "id": "a4d2caac",
   "metadata": {},
   "outputs": [],
   "source": [
    "from sklearn.preprocessing import MinMaxScaler\n",
    "scale= MinMaxScaler()\n",
    "num_scale = pd.DataFrame(scale.fit_transform(num_data_trans),columns=num_data_trans.columns)"
   ]
  },
  {
   "cell_type": "code",
   "execution_count": 49,
   "id": "ef129406",
   "metadata": {},
   "outputs": [
    {
     "data": {
      "text/html": [
       "<div>\n",
       "<style scoped>\n",
       "    .dataframe tbody tr th:only-of-type {\n",
       "        vertical-align: middle;\n",
       "    }\n",
       "\n",
       "    .dataframe tbody tr th {\n",
       "        vertical-align: top;\n",
       "    }\n",
       "\n",
       "    .dataframe thead th {\n",
       "        text-align: right;\n",
       "    }\n",
       "</style>\n",
       "<table border=\"1\" class=\"dataframe\">\n",
       "  <thead>\n",
       "    <tr style=\"text-align: right;\">\n",
       "      <th></th>\n",
       "      <th>LoanAmount</th>\n",
       "      <th>Loan_Amount_Term</th>\n",
       "      <th>TotalIncome</th>\n",
       "    </tr>\n",
       "  </thead>\n",
       "  <tbody>\n",
       "    <tr>\n",
       "      <th>0</th>\n",
       "      <td>0.601711</td>\n",
       "      <td>0.947567</td>\n",
       "      <td>0.399387</td>\n",
       "    </tr>\n",
       "    <tr>\n",
       "      <th>1</th>\n",
       "      <td>0.601711</td>\n",
       "      <td>0.947567</td>\n",
       "      <td>0.409968</td>\n",
       "    </tr>\n",
       "    <tr>\n",
       "      <th>2</th>\n",
       "      <td>0.447563</td>\n",
       "      <td>0.947567</td>\n",
       "      <td>0.217659</td>\n",
       "    </tr>\n",
       "    <tr>\n",
       "      <th>3</th>\n",
       "      <td>0.586647</td>\n",
       "      <td>0.947567</td>\n",
       "      <td>0.354821</td>\n",
       "    </tr>\n",
       "    <tr>\n",
       "      <th>4</th>\n",
       "      <td>0.624304</td>\n",
       "      <td>0.947567</td>\n",
       "      <td>0.406045</td>\n",
       "    </tr>\n",
       "  </tbody>\n",
       "</table>\n",
       "</div>"
      ],
      "text/plain": [
       "   LoanAmount  Loan_Amount_Term  TotalIncome\n",
       "0    0.601711          0.947567     0.399387\n",
       "1    0.601711          0.947567     0.409968\n",
       "2    0.447563          0.947567     0.217659\n",
       "3    0.586647          0.947567     0.354821\n",
       "4    0.624304          0.947567     0.406045"
      ]
     },
     "execution_count": 49,
     "metadata": {},
     "output_type": "execute_result"
    }
   ],
   "source": [
    "num_scale.head()"
   ]
  },
  {
   "cell_type": "code",
   "execution_count": 50,
   "id": "096678aa",
   "metadata": {},
   "outputs": [],
   "source": [
    "final_loan = pd.concat([cat_data, num_scale, y], axis=1)"
   ]
  },
  {
   "cell_type": "code",
   "execution_count": 51,
   "id": "e74a35f3",
   "metadata": {
    "scrolled": true
   },
   "outputs": [
    {
     "data": {
      "text/html": [
       "<div>\n",
       "<style scoped>\n",
       "    .dataframe tbody tr th:only-of-type {\n",
       "        vertical-align: middle;\n",
       "    }\n",
       "\n",
       "    .dataframe tbody tr th {\n",
       "        vertical-align: top;\n",
       "    }\n",
       "\n",
       "    .dataframe thead th {\n",
       "        text-align: right;\n",
       "    }\n",
       "</style>\n",
       "<table border=\"1\" class=\"dataframe\">\n",
       "  <thead>\n",
       "    <tr style=\"text-align: right;\">\n",
       "      <th></th>\n",
       "      <th>Gender</th>\n",
       "      <th>Married</th>\n",
       "      <th>Education</th>\n",
       "      <th>Self_Employed</th>\n",
       "      <th>Credit_History</th>\n",
       "      <th>Dependents_0</th>\n",
       "      <th>Dependents_1</th>\n",
       "      <th>Dependents_2</th>\n",
       "      <th>Dependents_3+</th>\n",
       "      <th>Property_Area_Rural</th>\n",
       "      <th>Property_Area_Semiurban</th>\n",
       "      <th>Property_Area_Urban</th>\n",
       "      <th>LoanAmount</th>\n",
       "      <th>Loan_Amount_Term</th>\n",
       "      <th>TotalIncome</th>\n",
       "      <th>Loan_Status</th>\n",
       "    </tr>\n",
       "  </thead>\n",
       "  <tbody>\n",
       "    <tr>\n",
       "      <th>0</th>\n",
       "      <td>1</td>\n",
       "      <td>0</td>\n",
       "      <td>1</td>\n",
       "      <td>0</td>\n",
       "      <td>1</td>\n",
       "      <td>1</td>\n",
       "      <td>0</td>\n",
       "      <td>0</td>\n",
       "      <td>0</td>\n",
       "      <td>0</td>\n",
       "      <td>0</td>\n",
       "      <td>1</td>\n",
       "      <td>0.601711</td>\n",
       "      <td>0.947567</td>\n",
       "      <td>0.399387</td>\n",
       "      <td>1</td>\n",
       "    </tr>\n",
       "    <tr>\n",
       "      <th>1</th>\n",
       "      <td>1</td>\n",
       "      <td>1</td>\n",
       "      <td>1</td>\n",
       "      <td>0</td>\n",
       "      <td>1</td>\n",
       "      <td>0</td>\n",
       "      <td>1</td>\n",
       "      <td>0</td>\n",
       "      <td>0</td>\n",
       "      <td>1</td>\n",
       "      <td>0</td>\n",
       "      <td>0</td>\n",
       "      <td>0.601711</td>\n",
       "      <td>0.947567</td>\n",
       "      <td>0.409968</td>\n",
       "      <td>0</td>\n",
       "    </tr>\n",
       "    <tr>\n",
       "      <th>2</th>\n",
       "      <td>1</td>\n",
       "      <td>1</td>\n",
       "      <td>1</td>\n",
       "      <td>1</td>\n",
       "      <td>1</td>\n",
       "      <td>1</td>\n",
       "      <td>0</td>\n",
       "      <td>0</td>\n",
       "      <td>0</td>\n",
       "      <td>0</td>\n",
       "      <td>0</td>\n",
       "      <td>1</td>\n",
       "      <td>0.447563</td>\n",
       "      <td>0.947567</td>\n",
       "      <td>0.217659</td>\n",
       "      <td>1</td>\n",
       "    </tr>\n",
       "    <tr>\n",
       "      <th>3</th>\n",
       "      <td>1</td>\n",
       "      <td>1</td>\n",
       "      <td>0</td>\n",
       "      <td>0</td>\n",
       "      <td>1</td>\n",
       "      <td>1</td>\n",
       "      <td>0</td>\n",
       "      <td>0</td>\n",
       "      <td>0</td>\n",
       "      <td>0</td>\n",
       "      <td>0</td>\n",
       "      <td>1</td>\n",
       "      <td>0.586647</td>\n",
       "      <td>0.947567</td>\n",
       "      <td>0.354821</td>\n",
       "      <td>1</td>\n",
       "    </tr>\n",
       "    <tr>\n",
       "      <th>4</th>\n",
       "      <td>1</td>\n",
       "      <td>0</td>\n",
       "      <td>1</td>\n",
       "      <td>0</td>\n",
       "      <td>1</td>\n",
       "      <td>1</td>\n",
       "      <td>0</td>\n",
       "      <td>0</td>\n",
       "      <td>0</td>\n",
       "      <td>0</td>\n",
       "      <td>0</td>\n",
       "      <td>1</td>\n",
       "      <td>0.624304</td>\n",
       "      <td>0.947567</td>\n",
       "      <td>0.406045</td>\n",
       "      <td>1</td>\n",
       "    </tr>\n",
       "  </tbody>\n",
       "</table>\n",
       "</div>"
      ],
      "text/plain": [
       "   Gender  Married  Education  Self_Employed  Credit_History  Dependents_0  \\\n",
       "0       1        0          1              0               1             1   \n",
       "1       1        1          1              0               1             0   \n",
       "2       1        1          1              1               1             1   \n",
       "3       1        1          0              0               1             1   \n",
       "4       1        0          1              0               1             1   \n",
       "\n",
       "   Dependents_1  Dependents_2  Dependents_3+  Property_Area_Rural  \\\n",
       "0             0             0              0                    0   \n",
       "1             1             0              0                    1   \n",
       "2             0             0              0                    0   \n",
       "3             0             0              0                    0   \n",
       "4             0             0              0                    0   \n",
       "\n",
       "   Property_Area_Semiurban  Property_Area_Urban  LoanAmount  Loan_Amount_Term  \\\n",
       "0                        0                    1    0.601711          0.947567   \n",
       "1                        0                    0    0.601711          0.947567   \n",
       "2                        0                    1    0.447563          0.947567   \n",
       "3                        0                    1    0.586647          0.947567   \n",
       "4                        0                    1    0.624304          0.947567   \n",
       "\n",
       "   TotalIncome  Loan_Status  \n",
       "0     0.399387            1  \n",
       "1     0.409968            0  \n",
       "2     0.217659            1  \n",
       "3     0.354821            1  \n",
       "4     0.406045            1  "
      ]
     },
     "execution_count": 51,
     "metadata": {},
     "output_type": "execute_result"
    }
   ],
   "source": [
    "final_loan.head()"
   ]
  },
  {
   "cell_type": "code",
   "execution_count": 52,
   "id": "8172e8ab",
   "metadata": {},
   "outputs": [
    {
     "data": {
      "text/plain": [
       "(614, 16)"
      ]
     },
     "execution_count": 52,
     "metadata": {},
     "output_type": "execute_result"
    }
   ],
   "source": [
    "final_loan.shape"
   ]
  },
  {
   "cell_type": "code",
   "execution_count": 53,
   "id": "33e00431",
   "metadata": {},
   "outputs": [],
   "source": [
    "# spliting data \n",
    "X = final_loan.iloc[:,:-1]\n",
    "Y = final_loan.iloc[:,-1]"
   ]
  },
  {
   "cell_type": "code",
   "execution_count": 54,
   "id": "b7d250c0",
   "metadata": {
    "scrolled": true
   },
   "outputs": [
    {
     "data": {
      "text/html": [
       "<div>\n",
       "<style scoped>\n",
       "    .dataframe tbody tr th:only-of-type {\n",
       "        vertical-align: middle;\n",
       "    }\n",
       "\n",
       "    .dataframe tbody tr th {\n",
       "        vertical-align: top;\n",
       "    }\n",
       "\n",
       "    .dataframe thead th {\n",
       "        text-align: right;\n",
       "    }\n",
       "</style>\n",
       "<table border=\"1\" class=\"dataframe\">\n",
       "  <thead>\n",
       "    <tr style=\"text-align: right;\">\n",
       "      <th></th>\n",
       "      <th>Gender</th>\n",
       "      <th>Married</th>\n",
       "      <th>Education</th>\n",
       "      <th>Self_Employed</th>\n",
       "      <th>Credit_History</th>\n",
       "      <th>Dependents_0</th>\n",
       "      <th>Dependents_1</th>\n",
       "      <th>Dependents_2</th>\n",
       "      <th>Dependents_3+</th>\n",
       "      <th>Property_Area_Rural</th>\n",
       "      <th>Property_Area_Semiurban</th>\n",
       "      <th>Property_Area_Urban</th>\n",
       "      <th>LoanAmount</th>\n",
       "      <th>Loan_Amount_Term</th>\n",
       "      <th>TotalIncome</th>\n",
       "    </tr>\n",
       "  </thead>\n",
       "  <tbody>\n",
       "    <tr>\n",
       "      <th>0</th>\n",
       "      <td>1</td>\n",
       "      <td>0</td>\n",
       "      <td>1</td>\n",
       "      <td>0</td>\n",
       "      <td>1</td>\n",
       "      <td>1</td>\n",
       "      <td>0</td>\n",
       "      <td>0</td>\n",
       "      <td>0</td>\n",
       "      <td>0</td>\n",
       "      <td>0</td>\n",
       "      <td>1</td>\n",
       "      <td>0.601711</td>\n",
       "      <td>0.947567</td>\n",
       "      <td>0.399387</td>\n",
       "    </tr>\n",
       "    <tr>\n",
       "      <th>1</th>\n",
       "      <td>1</td>\n",
       "      <td>1</td>\n",
       "      <td>1</td>\n",
       "      <td>0</td>\n",
       "      <td>1</td>\n",
       "      <td>0</td>\n",
       "      <td>1</td>\n",
       "      <td>0</td>\n",
       "      <td>0</td>\n",
       "      <td>1</td>\n",
       "      <td>0</td>\n",
       "      <td>0</td>\n",
       "      <td>0.601711</td>\n",
       "      <td>0.947567</td>\n",
       "      <td>0.409968</td>\n",
       "    </tr>\n",
       "    <tr>\n",
       "      <th>2</th>\n",
       "      <td>1</td>\n",
       "      <td>1</td>\n",
       "      <td>1</td>\n",
       "      <td>1</td>\n",
       "      <td>1</td>\n",
       "      <td>1</td>\n",
       "      <td>0</td>\n",
       "      <td>0</td>\n",
       "      <td>0</td>\n",
       "      <td>0</td>\n",
       "      <td>0</td>\n",
       "      <td>1</td>\n",
       "      <td>0.447563</td>\n",
       "      <td>0.947567</td>\n",
       "      <td>0.217659</td>\n",
       "    </tr>\n",
       "    <tr>\n",
       "      <th>3</th>\n",
       "      <td>1</td>\n",
       "      <td>1</td>\n",
       "      <td>0</td>\n",
       "      <td>0</td>\n",
       "      <td>1</td>\n",
       "      <td>1</td>\n",
       "      <td>0</td>\n",
       "      <td>0</td>\n",
       "      <td>0</td>\n",
       "      <td>0</td>\n",
       "      <td>0</td>\n",
       "      <td>1</td>\n",
       "      <td>0.586647</td>\n",
       "      <td>0.947567</td>\n",
       "      <td>0.354821</td>\n",
       "    </tr>\n",
       "    <tr>\n",
       "      <th>4</th>\n",
       "      <td>1</td>\n",
       "      <td>0</td>\n",
       "      <td>1</td>\n",
       "      <td>0</td>\n",
       "      <td>1</td>\n",
       "      <td>1</td>\n",
       "      <td>0</td>\n",
       "      <td>0</td>\n",
       "      <td>0</td>\n",
       "      <td>0</td>\n",
       "      <td>0</td>\n",
       "      <td>1</td>\n",
       "      <td>0.624304</td>\n",
       "      <td>0.947567</td>\n",
       "      <td>0.406045</td>\n",
       "    </tr>\n",
       "  </tbody>\n",
       "</table>\n",
       "</div>"
      ],
      "text/plain": [
       "   Gender  Married  Education  Self_Employed  Credit_History  Dependents_0  \\\n",
       "0       1        0          1              0               1             1   \n",
       "1       1        1          1              0               1             0   \n",
       "2       1        1          1              1               1             1   \n",
       "3       1        1          0              0               1             1   \n",
       "4       1        0          1              0               1             1   \n",
       "\n",
       "   Dependents_1  Dependents_2  Dependents_3+  Property_Area_Rural  \\\n",
       "0             0             0              0                    0   \n",
       "1             1             0              0                    1   \n",
       "2             0             0              0                    0   \n",
       "3             0             0              0                    0   \n",
       "4             0             0              0                    0   \n",
       "\n",
       "   Property_Area_Semiurban  Property_Area_Urban  LoanAmount  Loan_Amount_Term  \\\n",
       "0                        0                    1    0.601711          0.947567   \n",
       "1                        0                    0    0.601711          0.947567   \n",
       "2                        0                    1    0.447563          0.947567   \n",
       "3                        0                    1    0.586647          0.947567   \n",
       "4                        0                    1    0.624304          0.947567   \n",
       "\n",
       "   TotalIncome  \n",
       "0     0.399387  \n",
       "1     0.409968  \n",
       "2     0.217659  \n",
       "3     0.354821  \n",
       "4     0.406045  "
      ]
     },
     "execution_count": 54,
     "metadata": {},
     "output_type": "execute_result"
    }
   ],
   "source": [
    "X.head()"
   ]
  },
  {
   "cell_type": "code",
   "execution_count": 55,
   "id": "58483c73",
   "metadata": {},
   "outputs": [
    {
     "data": {
      "text/plain": [
       "0    1\n",
       "1    0\n",
       "2    1\n",
       "3    1\n",
       "4    1\n",
       "Name: Loan_Status, dtype: int64"
      ]
     },
     "execution_count": 55,
     "metadata": {},
     "output_type": "execute_result"
    }
   ],
   "source": [
    "Y.head()"
   ]
  },
  {
   "cell_type": "markdown",
   "id": "50a1873b",
   "metadata": {},
   "source": [
    "## Balancing the data"
   ]
  },
  {
   "cell_type": "code",
   "execution_count": 56,
   "id": "f4f8bb79",
   "metadata": {},
   "outputs": [],
   "source": [
    "from collections import Counter\n",
    "#from imblearn.over_sampling import RandomOverSampler \n",
    "from imblearn.combine import SMOTETomek"
   ]
  },
  {
   "cell_type": "markdown",
   "id": "9debe0f3",
   "metadata": {},
   "source": [
    "for more [information](https://imbalanced-learn.org/stable/references/generated/imblearn.combine.SMOTETomek.html)"
   ]
  },
  {
   "cell_type": "code",
   "execution_count": 122,
   "id": "b2553ee6",
   "metadata": {},
   "outputs": [
    {
     "name": "stdout",
     "output_type": "stream",
     "text": [
      "Original data set shape Counter({1: 422, 0: 192})\n",
      "Resample data set shape Counter({1: 383, 0: 383})\n"
     ]
    }
   ],
   "source": [
    "print('Original data set shape %s' % Counter(Y))\n",
    "imb = SMOTETomek(sampling_strategy='minority',random_state=1)\n",
    "X_res,Y_res = imb.fit_resample(X,Y)\n",
    "print('Resample data set shape %s' % Counter(Y_res))"
   ]
  },
  {
   "cell_type": "code",
   "execution_count": 125,
   "id": "d6575e78",
   "metadata": {},
   "outputs": [
    {
     "name": "stdout",
     "output_type": "stream",
     "text": [
      "1    383\n",
      "0    383\n",
      "Name: Loan_Status, dtype: int64\n"
     ]
    },
    {
     "data": {
      "image/png": "[encoded data removed]",
      "text/plain": [
       "<Figure size 864x288 with 1 Axes>"
      ]
     },
     "metadata": {},
     "output_type": "display_data"
    }
   ],
   "source": [
    "plt.figure(figsize=(12,4));plt.subplot(122);sns.countplot(Y_res)#check our data is balanced or not\n",
    "print(Y_res.value_counts())"
   ]
  },
  {
   "cell_type": "markdown",
   "id": "81fde36d",
   "metadata": {},
   "source": [
    "### Feature Engineering(Univariate Feature Selection)"
   ]
  },
  {
   "cell_type": "code",
   "execution_count": 58,
   "id": "272eb9de",
   "metadata": {
    "scrolled": false
   },
   "outputs": [
    {
     "data": {
      "text/html": [
       "<div>\n",
       "<style scoped>\n",
       "    .dataframe tbody tr th:only-of-type {\n",
       "        vertical-align: middle;\n",
       "    }\n",
       "\n",
       "    .dataframe tbody tr th {\n",
       "        vertical-align: top;\n",
       "    }\n",
       "\n",
       "    .dataframe thead th {\n",
       "        text-align: right;\n",
       "    }\n",
       "</style>\n",
       "<table border=\"1\" class=\"dataframe\">\n",
       "  <thead>\n",
       "    <tr style=\"text-align: right;\">\n",
       "      <th></th>\n",
       "      <th>Features</th>\n",
       "      <th>Target variable</th>\n",
       "      <th>chi2_score</th>\n",
       "      <th>p_value</th>\n",
       "    </tr>\n",
       "  </thead>\n",
       "  <tbody>\n",
       "    <tr>\n",
       "      <th>4</th>\n",
       "      <td>Credit_History</td>\n",
       "      <td>Loan_Status</td>\n",
       "      <td>26.005877</td>\n",
       "      <td>3.403796e-07</td>\n",
       "    </tr>\n",
       "    <tr>\n",
       "      <th>10</th>\n",
       "      <td>Property_Area_Semiurban</td>\n",
       "      <td>Loan_Status</td>\n",
       "      <td>7.103093</td>\n",
       "      <td>7.695104e-03</td>\n",
       "    </tr>\n",
       "    <tr>\n",
       "      <th>9</th>\n",
       "      <td>Property_Area_Rural</td>\n",
       "      <td>Loan_Status</td>\n",
       "      <td>4.410584</td>\n",
       "      <td>3.571661e-02</td>\n",
       "    </tr>\n",
       "    <tr>\n",
       "      <th>7</th>\n",
       "      <td>Dependents_2</td>\n",
       "      <td>Loan_Status</td>\n",
       "      <td>1.996446</td>\n",
       "      <td>1.576685e-01</td>\n",
       "    </tr>\n",
       "    <tr>\n",
       "      <th>1</th>\n",
       "      <td>Married</td>\n",
       "      <td>Loan_Status</td>\n",
       "      <td>1.782425</td>\n",
       "      <td>1.818518e-01</td>\n",
       "    </tr>\n",
       "    <tr>\n",
       "      <th>2</th>\n",
       "      <td>Education</td>\n",
       "      <td>Loan_Status</td>\n",
       "      <td>0.988390</td>\n",
       "      <td>3.201361e-01</td>\n",
       "    </tr>\n",
       "    <tr>\n",
       "      <th>11</th>\n",
       "      <td>Property_Area_Urban</td>\n",
       "      <td>Loan_Status</td>\n",
       "      <td>0.783946</td>\n",
       "      <td>3.759370e-01</td>\n",
       "    </tr>\n",
       "    <tr>\n",
       "      <th>6</th>\n",
       "      <td>Dependents_1</td>\n",
       "      <td>Loan_Status</td>\n",
       "      <td>0.768400</td>\n",
       "      <td>3.807125e-01</td>\n",
       "    </tr>\n",
       "    <tr>\n",
       "      <th>8</th>\n",
       "      <td>Dependents_3+</td>\n",
       "      <td>Loan_Status</td>\n",
       "      <td>0.384200</td>\n",
       "      <td>5.353641e-01</td>\n",
       "    </tr>\n",
       "    <tr>\n",
       "      <th>0</th>\n",
       "      <td>Gender</td>\n",
       "      <td>Loan_Status</td>\n",
       "      <td>0.036234</td>\n",
       "      <td>8.490324e-01</td>\n",
       "    </tr>\n",
       "    <tr>\n",
       "      <th>12</th>\n",
       "      <td>LoanAmount</td>\n",
       "      <td>Loan_Status</td>\n",
       "      <td>0.024581</td>\n",
       "      <td>8.754168e-01</td>\n",
       "    </tr>\n",
       "    <tr>\n",
       "      <th>3</th>\n",
       "      <td>Self_Employed</td>\n",
       "      <td>Loan_Status</td>\n",
       "      <td>0.007285</td>\n",
       "      <td>9.319823e-01</td>\n",
       "    </tr>\n",
       "    <tr>\n",
       "      <th>14</th>\n",
       "      <td>TotalIncome</td>\n",
       "      <td>Loan_Status</td>\n",
       "      <td>0.004903</td>\n",
       "      <td>9.441758e-01</td>\n",
       "    </tr>\n",
       "    <tr>\n",
       "      <th>5</th>\n",
       "      <td>Dependents_0</td>\n",
       "      <td>Loan_Status</td>\n",
       "      <td>0.002353</td>\n",
       "      <td>9.613087e-01</td>\n",
       "    </tr>\n",
       "    <tr>\n",
       "      <th>13</th>\n",
       "      <td>Loan_Amount_Term</td>\n",
       "      <td>Loan_Status</td>\n",
       "      <td>0.000137</td>\n",
       "      <td>9.906452e-01</td>\n",
       "    </tr>\n",
       "  </tbody>\n",
       "</table>\n",
       "</div>"
      ],
      "text/plain": [
       "                   Features Target variable  chi2_score       p_value\n",
       "4            Credit_History     Loan_Status   26.005877  3.403796e-07\n",
       "10  Property_Area_Semiurban     Loan_Status    7.103093  7.695104e-03\n",
       "9       Property_Area_Rural     Loan_Status    4.410584  3.571661e-02\n",
       "7              Dependents_2     Loan_Status    1.996446  1.576685e-01\n",
       "1                   Married     Loan_Status    1.782425  1.818518e-01\n",
       "2                 Education     Loan_Status    0.988390  3.201361e-01\n",
       "11      Property_Area_Urban     Loan_Status    0.783946  3.759370e-01\n",
       "6              Dependents_1     Loan_Status    0.768400  3.807125e-01\n",
       "8             Dependents_3+     Loan_Status    0.384200  5.353641e-01\n",
       "0                    Gender     Loan_Status    0.036234  8.490324e-01\n",
       "12               LoanAmount     Loan_Status    0.024581  8.754168e-01\n",
       "3             Self_Employed     Loan_Status    0.007285  9.319823e-01\n",
       "14              TotalIncome     Loan_Status    0.004903  9.441758e-01\n",
       "5              Dependents_0     Loan_Status    0.002353  9.613087e-01\n",
       "13         Loan_Amount_Term     Loan_Status    0.000137  9.906452e-01"
      ]
     },
     "execution_count": 58,
     "metadata": {},
     "output_type": "execute_result"
    }
   ],
   "source": [
    "from sklearn.feature_selection import chi2\n",
    "a = chi2(X,Y) # it gives chi2 value and p_values\n",
    "pd.DataFrame({\"Features\":X.columns,\"Target variable\":\"Loan_Status\",\"chi2_score\":a[0],\"p_value\":a[1]}).sort_values(by='p_value')"
   ]
  },
  {
   "cell_type": "markdown",
   "id": "2dd67cb5",
   "metadata": {},
   "source": [
    "# Model Building"
   ]
  },
  {
   "cell_type": "code",
   "execution_count": 59,
   "id": "e9b08410",
   "metadata": {},
   "outputs": [],
   "source": [
    "from sklearn.metrics import make_scorer,accuracy_score,precision_score,recall_score,f1_score\n",
    "from sklearn.model_selection import KFold, cross_val_score, cross_validate,GridSearchCV"
   ]
  },
  {
   "cell_type": "markdown",
   "id": "48f0b7f6",
   "metadata": {},
   "source": [
    "#### Spliting Data"
   ]
  },
  {
   "cell_type": "code",
   "execution_count": 60,
   "id": "870951b7",
   "metadata": {},
   "outputs": [
    {
     "data": {
      "text/plain": [
       "((628, 15), (138, 15), (628,), (138,))"
      ]
     },
     "execution_count": 60,
     "metadata": {},
     "output_type": "execute_result"
    }
   ],
   "source": [
    "from sklearn.model_selection import train_test_split\n",
    "X_train,X_test,y_train,y_test=train_test_split(X_res,Y_res,test_size=0.18,random_state=10)\n",
    "X_train.shape,X_test.shape,y_train.shape,y_test.shape"
   ]
  },
  {
   "cell_type": "markdown",
   "id": "cd486378",
   "metadata": {},
   "source": [
    "## Logistic Regression"
   ]
  },
  {
   "cell_type": "code",
   "execution_count": 61,
   "id": "8d7f4532",
   "metadata": {},
   "outputs": [],
   "source": [
    "from sklearn.linear_model import LogisticRegression"
   ]
  },
  {
   "cell_type": "code",
   "execution_count": 62,
   "id": "028448ee",
   "metadata": {},
   "outputs": [
    {
     "data": {
      "text/plain": [
       "({'C': 0.01, 'max_iter': 5}, 0.7466973886328725)"
      ]
     },
     "execution_count": 62,
     "metadata": {},
     "output_type": "execute_result"
    }
   ],
   "source": [
    "# Using Grid Search CV for Tunning Parameters\n",
    "clf = LogisticRegression() \n",
    "param_grid = [{'max_iter':[5,10,20,30,50,],'C':[0.01,0.1,0.2,0.3,0.4,0.6] }]\n",
    "gsv = GridSearchCV(clf,param_grid,cv=10)\n",
    "gsv.fit(X_train,y_train)\n",
    "gsv.best_params_ , gsv.best_score_ "
   ]
  },
  {
   "cell_type": "code",
   "execution_count": 63,
   "id": "11dd7216",
   "metadata": {},
   "outputs": [
    {
     "data": {
      "text/plain": [
       "0.7608695652173914"
      ]
     },
     "execution_count": 63,
     "metadata": {},
     "output_type": "execute_result"
    }
   ],
   "source": [
    "model_LR=LogisticRegression(C=0.09,max_iter=5)\n",
    "model_LR.fit(X_train, y_train)\n",
    "model_LR.score(X_test,y_test)"
   ]
  },
  {
   "cell_type": "code",
   "execution_count": 64,
   "id": "1b63705e",
   "metadata": {},
   "outputs": [
    {
     "name": "stdout",
     "output_type": "stream",
     "text": [
      "[[37 26]\n",
      " [ 7 68]]\n",
      "              precision    recall  f1-score   support\n",
      "\n",
      "           0       0.84      0.59      0.69        63\n",
      "           1       0.72      0.91      0.80        75\n",
      "\n",
      "    accuracy                           0.76       138\n",
      "   macro avg       0.78      0.75      0.75       138\n",
      "weighted avg       0.78      0.76      0.75       138\n",
      "\n"
     ]
    }
   ],
   "source": [
    "from sklearn.metrics import confusion_matrix\n",
    "y_pred=model_LR.predict(X_test)\n",
    "confusion_matrix=confusion_matrix(y_test,y_pred)\n",
    "print(confusion_matrix)\n",
    "\n",
    "from sklearn.metrics import classification_report\n",
    "classification_report=classification_report(y_test,y_pred)\n",
    "print(classification_report)"
   ]
  },
  {
   "cell_type": "code",
   "execution_count": 65,
   "id": "e1ea2bdc",
   "metadata": {},
   "outputs": [],
   "source": [
    "# Model Validation\n",
    "scoring = {'accuracy' : make_scorer(accuracy_score), \n",
    "           'precision' : make_scorer(precision_score),\n",
    "           'recall' : make_scorer(recall_score), \n",
    "           'f1_score' : make_scorer(f1_score)}"
   ]
  },
  {
   "cell_type": "code",
   "execution_count": 66,
   "id": "7c063a5e",
   "metadata": {},
   "outputs": [
    {
     "data": {
      "text/plain": [
       "fit_time           0.025684\n",
       "score_time         0.023644\n",
       "test_accuracy      0.758346\n",
       "train_accuracy     0.752997\n",
       "test_precision     0.693437\n",
       "train_precision    0.691341\n",
       "test_recall        0.925707\n",
       "train_recall       0.913524\n",
       "test_f1_score      0.790969\n",
       "train_f1_score     0.787007\n",
       "dtype: float64"
      ]
     },
     "execution_count": 66,
     "metadata": {},
     "output_type": "execute_result"
    }
   ],
   "source": [
    "kfold = KFold(shuffle=True, n_splits=6,random_state=7)\n",
    "results = cross_validate(estimator=model_LR,X=X_res,y=Y_res, cv=kfold, scoring=scoring,return_train_score=True)\n",
    "pd.DataFrame(results).mean()"
   ]
  },
  {
   "cell_type": "markdown",
   "id": "07b79d04",
   "metadata": {},
   "source": [
    "###  Feature Engineering(RFE) For LR"
   ]
  },
  {
   "cell_type": "code",
   "execution_count": 67,
   "id": "23f19b1b",
   "metadata": {},
   "outputs": [
    {
     "name": "stdout",
     "output_type": "stream",
     "text": [
      "[False  True False False  True False  True False False  True False  True\n",
      "  True  True False]\n",
      "[8 1 2 9 1 3 1 7 4 1 5 1 1 1 6]\n"
     ]
    }
   ],
   "source": [
    "from sklearn.feature_selection import RFE\n",
    "model_rfe=LogisticRegression(max_iter=5)   # max_iter=100 by default\n",
    "rfe=RFE(model_rfe)  #n_features_to_select=4\n",
    "fit=rfe.fit(X,Y)\n",
    "print(fit.support_)\n",
    "print(fit.ranking_)"
   ]
  },
  {
   "cell_type": "code",
   "execution_count": 68,
   "id": "9142edb2",
   "metadata": {},
   "outputs": [
    {
     "data": {
      "text/plain": [
       "Index(['Gender', 'Married', 'Education', 'Self_Employed', 'Credit_History',\n",
       "       'Dependents_0', 'Dependents_1', 'Dependents_2', 'Dependents_3+',\n",
       "       'Property_Area_Rural', 'Property_Area_Semiurban', 'Property_Area_Urban',\n",
       "       'LoanAmount', 'Loan_Amount_Term', 'TotalIncome'],\n",
       "      dtype='object')"
      ]
     },
     "execution_count": 68,
     "metadata": {},
     "output_type": "execute_result"
    }
   ],
   "source": [
    "X_res.columns"
   ]
  },
  {
   "cell_type": "code",
   "execution_count": 69,
   "id": "a6df037a",
   "metadata": {},
   "outputs": [
    {
     "data": {
      "text/html": [
       "<div>\n",
       "<style scoped>\n",
       "    .dataframe tbody tr th:only-of-type {\n",
       "        vertical-align: middle;\n",
       "    }\n",
       "\n",
       "    .dataframe tbody tr th {\n",
       "        vertical-align: top;\n",
       "    }\n",
       "\n",
       "    .dataframe thead th {\n",
       "        text-align: right;\n",
       "    }\n",
       "</style>\n",
       "<table border=\"1\" class=\"dataframe\">\n",
       "  <thead>\n",
       "    <tr style=\"text-align: right;\">\n",
       "      <th></th>\n",
       "      <th>Married</th>\n",
       "      <th>Education</th>\n",
       "      <th>Credit_History</th>\n",
       "      <th>Dependents_0</th>\n",
       "      <th>Dependents_1</th>\n",
       "      <th>Dependents_3+</th>\n",
       "      <th>Property_Area_Rural</th>\n",
       "      <th>Property_Area_Semiurban</th>\n",
       "      <th>Property_Area_Urban</th>\n",
       "      <th>LoanAmount</th>\n",
       "      <th>Loan_Amount_Term</th>\n",
       "      <th>TotalIncome</th>\n",
       "    </tr>\n",
       "  </thead>\n",
       "  <tbody>\n",
       "    <tr>\n",
       "      <th>0</th>\n",
       "      <td>0</td>\n",
       "      <td>1</td>\n",
       "      <td>1</td>\n",
       "      <td>1</td>\n",
       "      <td>0</td>\n",
       "      <td>0</td>\n",
       "      <td>0</td>\n",
       "      <td>0</td>\n",
       "      <td>1</td>\n",
       "      <td>0.601711</td>\n",
       "      <td>0.947567</td>\n",
       "      <td>0.399387</td>\n",
       "    </tr>\n",
       "    <tr>\n",
       "      <th>1</th>\n",
       "      <td>1</td>\n",
       "      <td>1</td>\n",
       "      <td>1</td>\n",
       "      <td>0</td>\n",
       "      <td>1</td>\n",
       "      <td>0</td>\n",
       "      <td>1</td>\n",
       "      <td>0</td>\n",
       "      <td>0</td>\n",
       "      <td>0.601711</td>\n",
       "      <td>0.947567</td>\n",
       "      <td>0.409968</td>\n",
       "    </tr>\n",
       "    <tr>\n",
       "      <th>2</th>\n",
       "      <td>1</td>\n",
       "      <td>1</td>\n",
       "      <td>1</td>\n",
       "      <td>1</td>\n",
       "      <td>0</td>\n",
       "      <td>0</td>\n",
       "      <td>0</td>\n",
       "      <td>0</td>\n",
       "      <td>1</td>\n",
       "      <td>0.447563</td>\n",
       "      <td>0.947567</td>\n",
       "      <td>0.217659</td>\n",
       "    </tr>\n",
       "    <tr>\n",
       "      <th>3</th>\n",
       "      <td>1</td>\n",
       "      <td>0</td>\n",
       "      <td>1</td>\n",
       "      <td>1</td>\n",
       "      <td>0</td>\n",
       "      <td>0</td>\n",
       "      <td>0</td>\n",
       "      <td>0</td>\n",
       "      <td>1</td>\n",
       "      <td>0.586647</td>\n",
       "      <td>0.947567</td>\n",
       "      <td>0.354821</td>\n",
       "    </tr>\n",
       "    <tr>\n",
       "      <th>4</th>\n",
       "      <td>0</td>\n",
       "      <td>1</td>\n",
       "      <td>1</td>\n",
       "      <td>1</td>\n",
       "      <td>0</td>\n",
       "      <td>0</td>\n",
       "      <td>0</td>\n",
       "      <td>0</td>\n",
       "      <td>1</td>\n",
       "      <td>0.624304</td>\n",
       "      <td>0.947567</td>\n",
       "      <td>0.406045</td>\n",
       "    </tr>\n",
       "    <tr>\n",
       "      <th>...</th>\n",
       "      <td>...</td>\n",
       "      <td>...</td>\n",
       "      <td>...</td>\n",
       "      <td>...</td>\n",
       "      <td>...</td>\n",
       "      <td>...</td>\n",
       "      <td>...</td>\n",
       "      <td>...</td>\n",
       "      <td>...</td>\n",
       "      <td>...</td>\n",
       "      <td>...</td>\n",
       "      <td>...</td>\n",
       "    </tr>\n",
       "    <tr>\n",
       "      <th>761</th>\n",
       "      <td>1</td>\n",
       "      <td>1</td>\n",
       "      <td>1</td>\n",
       "      <td>1</td>\n",
       "      <td>0</td>\n",
       "      <td>0</td>\n",
       "      <td>1</td>\n",
       "      <td>0</td>\n",
       "      <td>0</td>\n",
       "      <td>0.922169</td>\n",
       "      <td>0.947567</td>\n",
       "      <td>0.732464</td>\n",
       "    </tr>\n",
       "    <tr>\n",
       "      <th>762</th>\n",
       "      <td>1</td>\n",
       "      <td>0</td>\n",
       "      <td>0</td>\n",
       "      <td>0</td>\n",
       "      <td>0</td>\n",
       "      <td>0</td>\n",
       "      <td>0</td>\n",
       "      <td>0</td>\n",
       "      <td>1</td>\n",
       "      <td>0.751660</td>\n",
       "      <td>0.942808</td>\n",
       "      <td>0.493516</td>\n",
       "    </tr>\n",
       "    <tr>\n",
       "      <th>763</th>\n",
       "      <td>0</td>\n",
       "      <td>1</td>\n",
       "      <td>1</td>\n",
       "      <td>1</td>\n",
       "      <td>0</td>\n",
       "      <td>0</td>\n",
       "      <td>0</td>\n",
       "      <td>0</td>\n",
       "      <td>1</td>\n",
       "      <td>0.474820</td>\n",
       "      <td>0.947567</td>\n",
       "      <td>0.215678</td>\n",
       "    </tr>\n",
       "    <tr>\n",
       "      <th>764</th>\n",
       "      <td>0</td>\n",
       "      <td>1</td>\n",
       "      <td>0</td>\n",
       "      <td>1</td>\n",
       "      <td>0</td>\n",
       "      <td>0</td>\n",
       "      <td>0</td>\n",
       "      <td>0</td>\n",
       "      <td>1</td>\n",
       "      <td>0.533697</td>\n",
       "      <td>0.947567</td>\n",
       "      <td>0.300781</td>\n",
       "    </tr>\n",
       "    <tr>\n",
       "      <th>765</th>\n",
       "      <td>1</td>\n",
       "      <td>1</td>\n",
       "      <td>0</td>\n",
       "      <td>0</td>\n",
       "      <td>1</td>\n",
       "      <td>0</td>\n",
       "      <td>0</td>\n",
       "      <td>0</td>\n",
       "      <td>1</td>\n",
       "      <td>0.674248</td>\n",
       "      <td>0.911814</td>\n",
       "      <td>0.614062</td>\n",
       "    </tr>\n",
       "  </tbody>\n",
       "</table>\n",
       "<p>766 rows × 12 columns</p>\n",
       "</div>"
      ],
      "text/plain": [
       "     Married  Education  Credit_History  Dependents_0  Dependents_1  \\\n",
       "0          0          1               1             1             0   \n",
       "1          1          1               1             0             1   \n",
       "2          1          1               1             1             0   \n",
       "3          1          0               1             1             0   \n",
       "4          0          1               1             1             0   \n",
       "..       ...        ...             ...           ...           ...   \n",
       "761        1          1               1             1             0   \n",
       "762        1          0               0             0             0   \n",
       "763        0          1               1             1             0   \n",
       "764        0          1               0             1             0   \n",
       "765        1          1               0             0             1   \n",
       "\n",
       "     Dependents_3+  Property_Area_Rural  Property_Area_Semiurban  \\\n",
       "0                0                    0                        0   \n",
       "1                0                    1                        0   \n",
       "2                0                    0                        0   \n",
       "3                0                    0                        0   \n",
       "4                0                    0                        0   \n",
       "..             ...                  ...                      ...   \n",
       "761              0                    1                        0   \n",
       "762              0                    0                        0   \n",
       "763              0                    0                        0   \n",
       "764              0                    0                        0   \n",
       "765              0                    0                        0   \n",
       "\n",
       "     Property_Area_Urban  LoanAmount  Loan_Amount_Term  TotalIncome  \n",
       "0                      1    0.601711          0.947567     0.399387  \n",
       "1                      0    0.601711          0.947567     0.409968  \n",
       "2                      1    0.447563          0.947567     0.217659  \n",
       "3                      1    0.586647          0.947567     0.354821  \n",
       "4                      1    0.624304          0.947567     0.406045  \n",
       "..                   ...         ...               ...          ...  \n",
       "761                    0    0.922169          0.947567     0.732464  \n",
       "762                    1    0.751660          0.942808     0.493516  \n",
       "763                    1    0.474820          0.947567     0.215678  \n",
       "764                    1    0.533697          0.947567     0.300781  \n",
       "765                    1    0.674248          0.911814     0.614062  \n",
       "\n",
       "[766 rows x 12 columns]"
      ]
     },
     "execution_count": 69,
     "metadata": {},
     "output_type": "execute_result"
    }
   ],
   "source": [
    "X_RFE = X_res.drop(columns={'Gender','Self_Employed','Dependents_2'},axis=1)\n",
    "X_RFE"
   ]
  },
  {
   "cell_type": "code",
   "execution_count": 70,
   "id": "9e65b37c",
   "metadata": {},
   "outputs": [
    {
     "data": {
      "text/plain": [
       "({'C': 0.6, 'max_iter': 10}, 0.7532786885245901)"
      ]
     },
     "execution_count": 70,
     "metadata": {},
     "output_type": "execute_result"
    }
   ],
   "source": [
    "# Using Grid Search CV for Tunning Parameters\n",
    "X_train,X_test,y_train,y_test=train_test_split(X_RFE,Y_res,test_size=0.20,random_state=20)\n",
    "clf = LogisticRegression()  #clf.get_params().keys()\n",
    "param_grid = [{'max_iter':[5,10,20,30,50],'C':[0.2,0.3,0.4,0.6,1] }]\n",
    "gsv = GridSearchCV(clf,param_grid,cv=10)\n",
    "gsv.fit(X_train,y_train)\n",
    "gsv.best_params_ , gsv.best_score_ "
   ]
  },
  {
   "cell_type": "code",
   "execution_count": 71,
   "id": "184b4b27",
   "metadata": {},
   "outputs": [
    {
     "data": {
      "text/plain": [
       "0.7012987012987013"
      ]
     },
     "execution_count": 71,
     "metadata": {},
     "output_type": "execute_result"
    }
   ],
   "source": [
    "model_LR=LogisticRegression(C=0.6,max_iter=10)\n",
    "model_LR.fit(X_train, y_train)\n",
    "model_LR.score(X_test,y_test)"
   ]
  },
  {
   "cell_type": "code",
   "execution_count": 72,
   "id": "3cfec480",
   "metadata": {},
   "outputs": [
    {
     "name": "stdout",
     "output_type": "stream",
     "text": [
      "[[37 25]\n",
      " [21 71]]\n",
      "              precision    recall  f1-score   support\n",
      "\n",
      "           0       0.64      0.60      0.62        62\n",
      "           1       0.74      0.77      0.76        92\n",
      "\n",
      "    accuracy                           0.70       154\n",
      "   macro avg       0.69      0.68      0.69       154\n",
      "weighted avg       0.70      0.70      0.70       154\n",
      "\n"
     ]
    }
   ],
   "source": [
    "from sklearn.metrics import confusion_matrix\n",
    "y_pred=model_LR.predict(X_test)\n",
    "confusion_matrix=confusion_matrix(y_test,y_pred)\n",
    "print(confusion_matrix)\n",
    "from sklearn.metrics import classification_report\n",
    "classification_report=classification_report(y_test,y_pred)\n",
    "print(classification_report)"
   ]
  },
  {
   "cell_type": "markdown",
   "id": "8f796e4f",
   "metadata": {},
   "source": [
    "# Decision Tree "
   ]
  },
  {
   "cell_type": "code",
   "execution_count": 73,
   "id": "6f6674ce",
   "metadata": {},
   "outputs": [],
   "source": [
    "X_train,X_test,y_train,y_test=train_test_split(X_res,Y_res,test_size=0.20,random_state=10)"
   ]
  },
  {
   "cell_type": "code",
   "execution_count": 74,
   "id": "f47ca252",
   "metadata": {},
   "outputs": [],
   "source": [
    "#using Model of Decision Tree\n",
    "from sklearn.tree import DecisionTreeClassifier"
   ]
  },
  {
   "cell_type": "code",
   "execution_count": 75,
   "id": "b74afc48",
   "metadata": {},
   "outputs": [
    {
     "data": {
      "text/plain": [
       "0.7857142857142857"
      ]
     },
     "execution_count": 75,
     "metadata": {},
     "output_type": "execute_result"
    }
   ],
   "source": [
    "model_ent = DecisionTreeClassifier(criterion='entropy',splitter='random',min_samples_split=3,min_samples_leaf=2,ccp_alpha=0.001,\n",
    "                                    max_depth=7,random_state=9)\n",
    "model_ent.fit(X_train, y_train)\n",
    "model_ent.score(X_test,y_test)"
   ]
  },
  {
   "cell_type": "code",
   "execution_count": 76,
   "id": "616e4346",
   "metadata": {
    "scrolled": true
   },
   "outputs": [
    {
     "name": "stdout",
     "output_type": "stream",
     "text": [
      "[[50 23]\n",
      " [10 71]]\n",
      "              precision    recall  f1-score   support\n",
      "\n",
      "           0       0.83      0.68      0.75        73\n",
      "           1       0.76      0.88      0.81        81\n",
      "\n",
      "    accuracy                           0.79       154\n",
      "   macro avg       0.79      0.78      0.78       154\n",
      "weighted avg       0.79      0.79      0.78       154\n",
      "\n"
     ]
    }
   ],
   "source": [
    "from sklearn.metrics import confusion_matrix\n",
    "y_pred=model_ent.predict(X_test)\n",
    "confusion_matrix=confusion_matrix(y_test,y_pred)\n",
    "print(confusion_matrix)\n",
    "\n",
    "from sklearn.metrics import classification_report\n",
    "classification_report=classification_report(y_test,y_pred)\n",
    "print(classification_report)"
   ]
  },
  {
   "cell_type": "code",
   "execution_count": 77,
   "id": "c14ebac5",
   "metadata": {},
   "outputs": [
    {
     "data": {
      "text/plain": [
       "fit_time           0.022469\n",
       "score_time         0.063225\n",
       "test_accuracy      0.754511\n",
       "train_accuracy     0.807313\n",
       "test_precision     0.739681\n",
       "train_precision    0.784362\n",
       "test_recall        0.804184\n",
       "train_recall       0.853902\n",
       "test_f1_score      0.763442\n",
       "train_f1_score     0.814967\n",
       "dtype: float64"
      ]
     },
     "execution_count": 77,
     "metadata": {},
     "output_type": "execute_result"
    }
   ],
   "source": [
    "kfold = KFold(shuffle=True, n_splits=6,random_state=7)\n",
    "results = cross_validate(estimator=model_ent,X=X_res,y=Y_res, cv=kfold, scoring=scoring, return_train_score=True)\n",
    "pd.DataFrame(results).mean()"
   ]
  },
  {
   "cell_type": "code",
   "execution_count": 78,
   "id": "211cb050",
   "metadata": {},
   "outputs": [
    {
     "data": {
      "text/plain": [
       "0.8181818181818182"
      ]
     },
     "execution_count": 78,
     "metadata": {},
     "output_type": "execute_result"
    }
   ],
   "source": [
    "# Decision Tree using entropy criterion\n",
    "model_gini = DecisionTreeClassifier(criterion='gini', max_depth=13,random_state=30)\n",
    "model_gini.fit(X_train, y_train)\n",
    "model_gini.score(X_test,y_test)"
   ]
  },
  {
   "cell_type": "code",
   "execution_count": 79,
   "id": "235457d5",
   "metadata": {},
   "outputs": [
    {
     "name": "stdout",
     "output_type": "stream",
     "text": [
      "[[57 16]\n",
      " [12 69]]\n",
      "              precision    recall  f1-score   support\n",
      "\n",
      "           0       0.83      0.78      0.80        73\n",
      "           1       0.81      0.85      0.83        81\n",
      "\n",
      "    accuracy                           0.82       154\n",
      "   macro avg       0.82      0.82      0.82       154\n",
      "weighted avg       0.82      0.82      0.82       154\n",
      "\n"
     ]
    }
   ],
   "source": [
    "from sklearn.metrics import confusion_matrix\n",
    "y_pred=model_gini.predict(X_test)\n",
    "confusion_matrix=confusion_matrix(y_test,y_pred)\n",
    "print(confusion_matrix)\n",
    "\n",
    "from sklearn.metrics import classification_report\n",
    "classification_report=classification_report(y_test,y_pred)\n",
    "print(classification_report)"
   ]
  },
  {
   "cell_type": "code",
   "execution_count": 80,
   "id": "cb157aa7",
   "metadata": {},
   "outputs": [
    {
     "data": {
      "text/plain": [
       "fit_time           0.026448\n",
       "score_time         0.038465\n",
       "test_accuracy      0.772811\n",
       "train_accuracy     0.964317\n",
       "test_precision     0.788654\n",
       "train_precision    0.960965\n",
       "test_recall        0.764913\n",
       "train_recall       0.968602\n",
       "test_f1_score      0.768109\n",
       "train_f1_score     0.964545\n",
       "dtype: float64"
      ]
     },
     "execution_count": 80,
     "metadata": {},
     "output_type": "execute_result"
    }
   ],
   "source": [
    "kfold = KFold(shuffle=True, n_splits=7,random_state=7)\n",
    "results = cross_validate(estimator=model_gini,X=X_res,y=Y_res, cv=kfold, scoring=scoring, return_train_score=True)\n",
    "pd.DataFrame(results).mean()"
   ]
  },
  {
   "cell_type": "markdown",
   "id": "818c3c97",
   "metadata": {},
   "source": [
    "# KNN"
   ]
  },
  {
   "cell_type": "code",
   "execution_count": 81,
   "id": "191410cd",
   "metadata": {},
   "outputs": [],
   "source": [
    "from sklearn.neighbors import KNeighborsClassifier"
   ]
  },
  {
   "cell_type": "code",
   "execution_count": 82,
   "id": "6dea7b95",
   "metadata": {},
   "outputs": [],
   "source": [
    "# Using PPScore we drop some variable which has less participation in model building\n",
    "X_knn=X_res.drop(['Self_Employed','Dependents_0','Dependents_1','Dependents_3+','Property_Area_Urban',\"Gender\",'Married',\"Dependents_2\"],axis=1)"
   ]
  },
  {
   "cell_type": "code",
   "execution_count": 83,
   "id": "410b63ce",
   "metadata": {},
   "outputs": [],
   "source": [
    "X_train,X_test,y_train,y_test=train_test_split(X_knn,Y_res,test_size=0.20,random_state=20)"
   ]
  },
  {
   "cell_type": "code",
   "execution_count": 84,
   "id": "a15696ce",
   "metadata": {},
   "outputs": [
    {
     "data": {
      "image/png": "[encoded data removed]",
      "text/plain": [
       "<Figure size 720x432 with 1 Axes>"
      ]
     },
     "metadata": {},
     "output_type": "display_data"
    }
   ],
   "source": [
    "# TO predict k value\n",
    "err_rates = []\n",
    "for idx in range(1,40):\n",
    "    knn = KNeighborsClassifier(n_neighbors = idx)\n",
    "    knn.fit(X_train, y_train)\n",
    "    pred_idx = knn.predict(X_test)\n",
    "    err_rates.append(np.mean(y_test != pred_idx))\n",
    "plt.style.use('ggplot')\n",
    "plt.subplots(figsize = (10,6))\n",
    "plt.plot(range(1,40), err_rates, linestyle = 'dashed', color = 'blue', marker = 'o', markerfacecolor = 'red')\n",
    "plt.xlabel('K-value')\n",
    "plt.ylabel('Error Rate')\n",
    "plt.title('Error Rate vs K-value');plt.show()"
   ]
  },
  {
   "cell_type": "code",
   "execution_count": 85,
   "id": "4aa55e48",
   "metadata": {},
   "outputs": [
    {
     "data": {
      "text/plain": [
       "0.8376623376623377"
      ]
     },
     "execution_count": 85,
     "metadata": {},
     "output_type": "execute_result"
    }
   ],
   "source": [
    "model_KNN = KNeighborsClassifier(n_neighbors=5)\n",
    "model_KNN.fit(X_train, y_train)\n",
    "model_KNN.score(X_test,y_test)"
   ]
  },
  {
   "cell_type": "code",
   "execution_count": 86,
   "id": "58074117",
   "metadata": {
    "scrolled": true
   },
   "outputs": [
    {
     "name": "stdout",
     "output_type": "stream",
     "text": [
      "[[53  9]\n",
      " [16 76]]\n",
      "              precision    recall  f1-score   support\n",
      "\n",
      "           0       0.77      0.85      0.81        62\n",
      "           1       0.89      0.83      0.86        92\n",
      "\n",
      "    accuracy                           0.84       154\n",
      "   macro avg       0.83      0.84      0.83       154\n",
      "weighted avg       0.84      0.84      0.84       154\n",
      "\n"
     ]
    }
   ],
   "source": [
    "from sklearn.metrics import confusion_matrix\n",
    "y_pred=model_KNN.predict(X_test)\n",
    "confusion_matrix=confusion_matrix(y_test,y_pred)\n",
    "print(confusion_matrix)\n",
    "\n",
    "from sklearn.metrics import classification_report\n",
    "classification_report=classification_report(y_test,y_pred)\n",
    "print(classification_report)"
   ]
  },
  {
   "cell_type": "code",
   "execution_count": 87,
   "id": "0a14cd17",
   "metadata": {},
   "outputs": [
    {
     "data": {
      "text/plain": [
       "fit_time           0.017719\n",
       "score_time         0.041852\n",
       "test_accuracy      0.802823\n",
       "train_accuracy     0.873368\n",
       "test_precision     0.800602\n",
       "train_precision    0.863575\n",
       "test_recall        0.819786\n",
       "train_recall       0.886947\n",
       "test_f1_score      0.807442\n",
       "train_f1_score     0.875075\n",
       "dtype: float64"
      ]
     },
     "execution_count": 87,
     "metadata": {},
     "output_type": "execute_result"
    }
   ],
   "source": [
    "from sklearn.model_selection import StratifiedKFold\n",
    "kfold = StratifiedKFold(shuffle=True,n_splits=11, random_state=1)\n",
    "results = cross_validate(estimator=model_KNN,X=X_res,y=Y_res, cv=kfold, scoring=scoring,return_train_score=True)\n",
    "pd.DataFrame(results).mean()"
   ]
  },
  {
   "cell_type": "markdown",
   "id": "43d8b90f",
   "metadata": {},
   "source": [
    "# SVM"
   ]
  },
  {
   "cell_type": "code",
   "execution_count": 88,
   "id": "45c9afd7",
   "metadata": {},
   "outputs": [],
   "source": [
    "from sklearn.svm import SVC"
   ]
  },
  {
   "cell_type": "code",
   "execution_count": 89,
   "id": "12e5dd19",
   "metadata": {},
   "outputs": [],
   "source": [
    "X_train,X_test,y_train,y_test=train_test_split(X_res,Y_res,test_size=0.20,random_state=30)"
   ]
  },
  {
   "cell_type": "code",
   "execution_count": 90,
   "id": "47b58d9a",
   "metadata": {},
   "outputs": [
    {
     "name": "stdout",
     "output_type": "stream",
     "text": [
      "{'C': 0.2, 'gamma': 15, 'kernel': 'poly'}\n",
      "0.8156266525647805\n"
     ]
    }
   ],
   "source": [
    "#Grid Search CV for tunning hyper parameters\n",
    "clf = SVC()  \n",
    "param_grid = [{'kernel':['rbf','poly','sigmoid'],'gamma':[15,5,0.5,0.005,0.0005,0.00005],'C':[0.2,1,0.5,0.1,0.001,0.2] }]\n",
    "gsv = GridSearchCV(clf,param_grid,cv=10)\n",
    "gsv.fit(X_train,y_train)\n",
    "print(gsv.best_params_)\n",
    "print(gsv.best_score_ )"
   ]
  },
  {
   "cell_type": "code",
   "execution_count": 91,
   "id": "381703f3",
   "metadata": {},
   "outputs": [
    {
     "data": {
      "text/plain": [
       "0.8376623376623377"
      ]
     },
     "execution_count": 91,
     "metadata": {},
     "output_type": "execute_result"
    }
   ],
   "source": [
    "model_SVC=SVC(C=0.7,kernel='poly',gamma=16)\n",
    "model_SVC.fit(X_train, y_train)\n",
    "model_SVC.score(X_test,y_test)"
   ]
  },
  {
   "cell_type": "code",
   "execution_count": 92,
   "id": "48d86fed",
   "metadata": {},
   "outputs": [
    {
     "name": "stdout",
     "output_type": "stream",
     "text": [
      "[[62 14]\n",
      " [11 67]]\n",
      "              precision    recall  f1-score   support\n",
      "\n",
      "           0       0.85      0.82      0.83        76\n",
      "           1       0.83      0.86      0.84        78\n",
      "\n",
      "    accuracy                           0.84       154\n",
      "   macro avg       0.84      0.84      0.84       154\n",
      "weighted avg       0.84      0.84      0.84       154\n",
      "\n"
     ]
    }
   ],
   "source": [
    "from sklearn.metrics import confusion_matrix\n",
    "y_pred=model_SVC.predict(X_test)\n",
    "confusion_matrix=confusion_matrix(y_test,y_pred)\n",
    "print(confusion_matrix)\n",
    "\n",
    "from sklearn.metrics import classification_report\n",
    "classification_report=classification_report(y_test,y_pred)\n",
    "print(classification_report)"
   ]
  },
  {
   "cell_type": "code",
   "execution_count": 93,
   "id": "ae9c1417",
   "metadata": {},
   "outputs": [
    {
     "data": {
      "text/plain": [
       "fit_time           12.750450\n",
       "score_time          0.018338\n",
       "test_accuracy       0.804210\n",
       "train_accuracy      0.956429\n",
       "test_precision      0.813342\n",
       "train_precision     0.951679\n",
       "test_recall         0.792538\n",
       "train_recall        0.961795\n",
       "test_f1_score       0.801842\n",
       "train_f1_score      0.956652\n",
       "dtype: float64"
      ]
     },
     "execution_count": 93,
     "metadata": {},
     "output_type": "execute_result"
    }
   ],
   "source": [
    "kfold = KFold(shuffle=True, n_splits=9,random_state=30)\n",
    "results = cross_validate(estimator=model_SVC,X=X_res,y=Y_res, cv=kfold, scoring=scoring,return_train_score=True)\n",
    "pd.DataFrame(results).mean()"
   ]
  },
  {
   "cell_type": "markdown",
   "id": "04c77cb7",
   "metadata": {},
   "source": [
    "# Naive Bayes"
   ]
  },
  {
   "cell_type": "code",
   "execution_count": 94,
   "id": "8f425c7d",
   "metadata": {},
   "outputs": [],
   "source": [
    "from sklearn.naive_bayes import GaussianNB"
   ]
  },
  {
   "cell_type": "code",
   "execution_count": 95,
   "id": "b078d716",
   "metadata": {},
   "outputs": [],
   "source": [
    "X_train,X_test,y_train,y_test=train_test_split(X_res,Y_res,test_size=0.17,random_state=71)"
   ]
  },
  {
   "cell_type": "code",
   "execution_count": 96,
   "id": "800df7de",
   "metadata": {},
   "outputs": [
    {
     "data": {
      "text/plain": [
       "0.7786259541984732"
      ]
     },
     "execution_count": 96,
     "metadata": {},
     "output_type": "execute_result"
    }
   ],
   "source": [
    "# Using Gaussian Naive Bayes\n",
    "model_NB=GaussianNB()\n",
    "model_NB.fit(X_train, y_train)\n",
    "model_NB.score(X_test,y_test)"
   ]
  },
  {
   "cell_type": "code",
   "execution_count": 97,
   "id": "0dc87091",
   "metadata": {},
   "outputs": [
    {
     "name": "stdout",
     "output_type": "stream",
     "text": [
      "[[42 24]\n",
      " [ 5 60]]\n",
      "              precision    recall  f1-score   support\n",
      "\n",
      "           0       0.89      0.64      0.74        66\n",
      "           1       0.71      0.92      0.81        65\n",
      "\n",
      "    accuracy                           0.78       131\n",
      "   macro avg       0.80      0.78      0.77       131\n",
      "weighted avg       0.80      0.78      0.77       131\n",
      "\n"
     ]
    }
   ],
   "source": [
    "from sklearn.metrics import confusion_matrix\n",
    "y_pred=model_NB.predict(X_test)\n",
    "confusion_matrix=confusion_matrix(y_test,y_pred)\n",
    "print(confusion_matrix)\n",
    "\n",
    "from sklearn.metrics import classification_report\n",
    "classification_report=classification_report(y_test,y_pred)\n",
    "print(classification_report)"
   ]
  },
  {
   "cell_type": "code",
   "execution_count": 98,
   "id": "04959420",
   "metadata": {},
   "outputs": [
    {
     "data": {
      "text/plain": [
       "fit_time           0.016474\n",
       "score_time         0.026328\n",
       "test_accuracy      0.737635\n",
       "train_accuracy     0.750491\n",
       "test_precision     0.674283\n",
       "train_precision    0.682274\n",
       "test_recall        0.920035\n",
       "train_recall       0.937663\n",
       "test_f1_score      0.777807\n",
       "train_f1_score     0.789809\n",
       "dtype: float64"
      ]
     },
     "execution_count": 98,
     "metadata": {},
     "output_type": "execute_result"
    }
   ],
   "source": [
    "kfold = KFold(shuffle=True, n_splits=9,random_state=30)\n",
    "results = cross_validate(estimator=model_NB,X=X_res,y=Y_res, cv=kfold, scoring=scoring,return_train_score=True)\n",
    "pd.DataFrame(results).mean()"
   ]
  },
  {
   "cell_type": "markdown",
   "id": "0d1d7bec",
   "metadata": {},
   "source": [
    "# Random Forest"
   ]
  },
  {
   "cell_type": "code",
   "execution_count": 99,
   "id": "115822a1",
   "metadata": {},
   "outputs": [],
   "source": [
    "from sklearn.ensemble import RandomForestClassifier"
   ]
  },
  {
   "cell_type": "code",
   "execution_count": 100,
   "id": "6674eebe",
   "metadata": {},
   "outputs": [],
   "source": [
    "X_train,X_test,y_train,y_test=train_test_split(X_res,Y_res,random_state=55,test_size=0.2)"
   ]
  },
  {
   "cell_type": "code",
   "execution_count": 101,
   "id": "9ed9914f",
   "metadata": {},
   "outputs": [
    {
     "data": {
      "text/plain": [
       "0.8051948051948052"
      ]
     },
     "execution_count": 101,
     "metadata": {},
     "output_type": "execute_result"
    }
   ],
   "source": [
    "model_RF=RandomForestClassifier(n_estimators=120,criterion='entropy',random_state=50,max_depth=7)\n",
    "model_RF.fit(X_train, y_train)\n",
    "model_RF.score(X_test,y_test)"
   ]
  },
  {
   "cell_type": "code",
   "execution_count": 102,
   "id": "502f4b0f",
   "metadata": {},
   "outputs": [
    {
     "name": "stdout",
     "output_type": "stream",
     "text": [
      "[[47 25]\n",
      " [ 5 77]]\n",
      "              precision    recall  f1-score   support\n",
      "\n",
      "           0       0.90      0.65      0.76        72\n",
      "           1       0.75      0.94      0.84        82\n",
      "\n",
      "    accuracy                           0.81       154\n",
      "   macro avg       0.83      0.80      0.80       154\n",
      "weighted avg       0.82      0.81      0.80       154\n",
      "\n"
     ]
    }
   ],
   "source": [
    "from sklearn.metrics import confusion_matrix\n",
    "y_pred=model_RF.predict(X_test)\n",
    "confusion_matrix=confusion_matrix(y_test,y_pred)\n",
    "print(confusion_matrix)\n",
    "\n",
    "from sklearn.metrics import classification_report\n",
    "classification_report=classification_report(y_test,y_pred)\n",
    "print(classification_report)"
   ]
  },
  {
   "cell_type": "code",
   "execution_count": 103,
   "id": "00c3f831",
   "metadata": {},
   "outputs": [
    {
     "data": {
      "text/plain": [
       "fit_time           0.940747\n",
       "score_time         0.058574\n",
       "test_accuracy      0.801611\n",
       "train_accuracy     0.878590\n",
       "test_precision     0.743575\n",
       "train_precision    0.812534\n",
       "test_recall        0.928077\n",
       "train_recall       0.984621\n",
       "test_f1_score      0.824787\n",
       "train_f1_score     0.890293\n",
       "dtype: float64"
      ]
     },
     "execution_count": 103,
     "metadata": {},
     "output_type": "execute_result"
    }
   ],
   "source": [
    "kfold = KFold(shuffle=True, n_splits=9,random_state=30)\n",
    "results = cross_validate(estimator=model_RF,X=X_res,y=Y_res, cv=kfold, scoring=scoring,return_train_score=True)\n",
    "pd.DataFrame(results).mean()"
   ]
  },
  {
   "cell_type": "markdown",
   "id": "8300f12c",
   "metadata": {},
   "source": [
    "# Extra Tree Classifier"
   ]
  },
  {
   "cell_type": "code",
   "execution_count": 104,
   "id": "0edb138e",
   "metadata": {},
   "outputs": [],
   "source": [
    "from sklearn.ensemble import ExtraTreesClassifier"
   ]
  },
  {
   "cell_type": "code",
   "execution_count": 105,
   "id": "b6d52245",
   "metadata": {},
   "outputs": [],
   "source": [
    "X_train,X_test,y_train,y_test=train_test_split(X_res,Y_res,test_size=0.20,random_state=40)"
   ]
  },
  {
   "cell_type": "code",
   "execution_count": 106,
   "id": "2bae756c",
   "metadata": {},
   "outputs": [
    {
     "name": "stdout",
     "output_type": "stream",
     "text": [
      "{'criterion': 'entropy', 'max_features': 'sqrt', 'n_estimators': 100}\n",
      "0.8449233209941831\n"
     ]
    }
   ],
   "source": [
    "#Grid Search CV for tunning hyper parameters\n",
    "clf = ExtraTreesClassifier()\n",
    "param_grid = [{'criterion' :[\"entropy\"], 'n_estimators':[50,80,100,120,150,170], 'max_features':[\"auto\", \"sqrt\", \"log2\"]}]\n",
    "gsv = GridSearchCV(clf,param_grid,cv=10)\n",
    "gsv.fit(X_train,y_train)\n",
    "print(gsv.best_params_)\n",
    "print(gsv.best_score_ )"
   ]
  },
  {
   "cell_type": "code",
   "execution_count": 107,
   "id": "a1fef430",
   "metadata": {},
   "outputs": [
    {
     "data": {
      "text/plain": [
       "0.7987012987012987"
      ]
     },
     "execution_count": 107,
     "metadata": {},
     "output_type": "execute_result"
    }
   ],
   "source": [
    "model_ETC=ExtraTreesClassifier(criterion='entropy',max_features='sqrt',random_state=1,n_estimators=90,max_depth=8)\n",
    "model_ETC.fit(X_train, y_train)\n",
    "model_ETC.score(X_test,y_test)"
   ]
  },
  {
   "cell_type": "code",
   "execution_count": 108,
   "id": "5b5ed6a6",
   "metadata": {},
   "outputs": [
    {
     "name": "stdout",
     "output_type": "stream",
     "text": [
      "[[53 17]\n",
      " [14 70]]\n",
      "              precision    recall  f1-score   support\n",
      "\n",
      "           0       0.79      0.76      0.77        70\n",
      "           1       0.80      0.83      0.82        84\n",
      "\n",
      "    accuracy                           0.80       154\n",
      "   macro avg       0.80      0.80      0.80       154\n",
      "weighted avg       0.80      0.80      0.80       154\n",
      "\n"
     ]
    }
   ],
   "source": [
    "from sklearn.metrics import confusion_matrix\n",
    "y_pred=model_ETC.predict(X_test)\n",
    "confusion_matrix=confusion_matrix(y_test,y_pred)\n",
    "print(confusion_matrix)\n",
    "\n",
    "from sklearn.metrics import classification_report\n",
    "classification_report=classification_report(y_test,y_pred)\n",
    "print(classification_report)"
   ]
  },
  {
   "cell_type": "code",
   "execution_count": 109,
   "id": "70e04c03",
   "metadata": {},
   "outputs": [
    {
     "data": {
      "text/plain": [
       "fit_time           0.559627\n",
       "score_time         0.064894\n",
       "test_accuracy      0.805487\n",
       "train_accuracy     0.887241\n",
       "test_precision     0.765935\n",
       "train_precision    0.837869\n",
       "test_recall        0.886132\n",
       "train_recall       0.960814\n",
       "test_f1_score      0.820847\n",
       "train_f1_score     0.894968\n",
       "dtype: float64"
      ]
     },
     "execution_count": 109,
     "metadata": {},
     "output_type": "execute_result"
    }
   ],
   "source": [
    "kfold = KFold(shuffle=True, n_splits=9,random_state=30)\n",
    "results = cross_validate(estimator=model_ETC,X=X_res,y=Y_res, cv=kfold, scoring=scoring,return_train_score=True)\n",
    "pd.DataFrame(results).mean()"
   ]
  },
  {
   "cell_type": "markdown",
   "id": "e13de686",
   "metadata": {},
   "source": [
    "# XGBM"
   ]
  },
  {
   "cell_type": "code",
   "execution_count": 110,
   "id": "e363bc22",
   "metadata": {},
   "outputs": [],
   "source": [
    "from xgboost import XGBClassifier"
   ]
  },
  {
   "cell_type": "code",
   "execution_count": 111,
   "id": "a68e31df",
   "metadata": {},
   "outputs": [],
   "source": [
    "X_train,X_test,y_train,y_test=train_test_split(X_res,Y_res,test_size=0.20,random_state=66)"
   ]
  },
  {
   "cell_type": "code",
   "execution_count": 112,
   "id": "8b521ea3",
   "metadata": {},
   "outputs": [
    {
     "name": "stdout",
     "output_type": "stream",
     "text": [
      "{'eval_metric': 'mlogloss', 'gamma': 5e-05, 'learning_rate': 0.15, 'n_estimators': 100}\n",
      "0.8006535947712418\n"
     ]
    }
   ],
   "source": [
    "#Grid Search CV for tunning hyper parameters\n",
    "clf = XGBClassifier()  \n",
    "param_grid = [{'gamma':[15,5,0.5,0.005,0.0005,0.00005],'learning_rate':[0.05,0.1,0.15,0.2],'n_estimators':[100,300,500,700,900],'eval_metric':['mlogloss'] }]\n",
    "gsv = GridSearchCV(clf,param_grid,cv=6)\n",
    "gsv.fit(X_train,y_train)\n",
    "print(gsv.best_params_)\n",
    "print(gsv.best_score_ )"
   ]
  },
  {
   "cell_type": "code",
   "execution_count": 113,
   "id": "ae6e1f65",
   "metadata": {},
   "outputs": [
    {
     "data": {
      "text/plain": [
       "0.7922077922077922"
      ]
     },
     "execution_count": 113,
     "metadata": {},
     "output_type": "execute_result"
    }
   ],
   "source": [
    "model_XGB=XGBClassifier(learning_rate =0.005, n_estimators=96,eval_metric='mlogloss',max_depth=8)\n",
    "model_XGB.fit(X_train, y_train)\n",
    "model_XGB.score(X_test,y_test)"
   ]
  },
  {
   "cell_type": "code",
   "execution_count": 114,
   "id": "1abc7df3",
   "metadata": {},
   "outputs": [
    {
     "name": "stdout",
     "output_type": "stream",
     "text": [
      "[[53 17]\n",
      " [15 69]]\n",
      "              precision    recall  f1-score   support\n",
      "\n",
      "           0       0.78      0.76      0.77        70\n",
      "           1       0.80      0.82      0.81        84\n",
      "\n",
      "    accuracy                           0.79       154\n",
      "   macro avg       0.79      0.79      0.79       154\n",
      "weighted avg       0.79      0.79      0.79       154\n",
      "\n"
     ]
    }
   ],
   "source": [
    "from sklearn.metrics import confusion_matrix\n",
    "y_pred=model_XGB.predict(X_test)\n",
    "confusion_matrix=confusion_matrix(y_test,y_pred)\n",
    "print(confusion_matrix)\n",
    "\n",
    "from sklearn.metrics import classification_report\n",
    "classification_report=classification_report(y_test,y_pred)\n",
    "print(classification_report)"
   ]
  },
  {
   "cell_type": "code",
   "execution_count": 160,
   "id": "49423661",
   "metadata": {
    "scrolled": true
   },
   "outputs": [
    {
     "data": {
      "text/plain": [
       "fit_time           0.512800\n",
       "score_time         0.020913\n",
       "test_accuracy      0.786034\n",
       "train_accuracy     0.851564\n",
       "test_precision     0.738604\n",
       "train_precision    0.797102\n",
       "test_recall        0.895833\n",
       "train_recall       0.943820\n",
       "test_f1_score      0.807961\n",
       "train_f1_score     0.864167\n",
       "dtype: float64"
      ]
     },
     "execution_count": 160,
     "metadata": {},
     "output_type": "execute_result"
    }
   ],
   "source": [
    "kfold = KFold(shuffle=True, n_splits=11,random_state=30)\n",
    "results = cross_validate(estimator=model_XGB,X=X_res,y=Y_res, cv=kfold, scoring=scoring,return_train_score=True)\n",
    "pd.DataFrame(results).mean()"
   ]
  },
  {
   "cell_type": "markdown",
   "id": "c33e86d8",
   "metadata": {},
   "source": [
    "# Ensemble Models"
   ]
  },
  {
   "cell_type": "code",
   "execution_count": 116,
   "id": "fb6b083f",
   "metadata": {},
   "outputs": [],
   "source": [
    "#create the ensemble model\n",
    "from sklearn.ensemble import VotingClassifier     #Heterogenious"
   ]
  },
  {
   "cell_type": "code",
   "execution_count": 117,
   "id": "6d0bba66",
   "metadata": {},
   "outputs": [],
   "source": [
    "X_train,X_test,y_train,y_test=train_test_split(X_res,Y_res,test_size=0.20,random_state=80)"
   ]
  },
  {
   "cell_type": "code",
   "execution_count": 118,
   "id": "efce7981",
   "metadata": {},
   "outputs": [],
   "source": [
    "#create the submodels\n",
    "estimators=[]\n",
    "estimators.append(('KNN', model_KNN))\n",
    "estimators.append(('SVM',model_SVC))\n",
    "estimators.append(('ETC',model_ETC))\n",
    "estimators.append(('XGB',model_XGB))"
   ]
  },
  {
   "cell_type": "code",
   "execution_count": 119,
   "id": "4ad17414",
   "metadata": {},
   "outputs": [
    {
     "data": {
      "text/plain": [
       "0.8506493506493507"
      ]
     },
     "execution_count": 119,
     "metadata": {},
     "output_type": "execute_result"
    }
   ],
   "source": [
    "combine_model=VotingClassifier(estimators)\n",
    "combine_model.fit(X_train, y_train)\n",
    "combine_model.score(X_test,y_test)"
   ]
  },
  {
   "cell_type": "code",
   "execution_count": 126,
   "id": "c3bbbc88",
   "metadata": {},
   "outputs": [
    {
     "name": "stdout",
     "output_type": "stream",
     "text": [
      "[[61 13]\n",
      " [10 70]]\n",
      "              precision    recall  f1-score   support\n",
      "\n",
      "           0       0.86      0.82      0.84        74\n",
      "           1       0.84      0.88      0.86        80\n",
      "\n",
      "    accuracy                           0.85       154\n",
      "   macro avg       0.85      0.85      0.85       154\n",
      "weighted avg       0.85      0.85      0.85       154\n",
      "\n"
     ]
    }
   ],
   "source": [
    "from sklearn.metrics import confusion_matrix\n",
    "y_pred=combine_model.predict(X_test)\n",
    "confusion_matrix=confusion_matrix(y_test,y_pred)\n",
    "print(confusion_matrix)\n",
    "\n",
    "from sklearn.metrics import classification_report\n",
    "classification_report=classification_report(y_test,y_pred)\n",
    "print(classification_report)"
   ]
  },
  {
   "cell_type": "code",
   "execution_count": 161,
   "id": "2a9e458d",
   "metadata": {},
   "outputs": [
    {
     "data": {
      "text/plain": [
       "fit_time           10.984772\n",
       "score_time          0.092692\n",
       "test_accuracy       0.818574\n",
       "train_accuracy      0.930484\n",
       "test_precision      0.820140\n",
       "train_precision     0.923064\n",
       "test_recall         0.823255\n",
       "train_recall        0.939276\n",
       "test_f1_score       0.819930\n",
       "train_f1_score      0.931047\n",
       "dtype: float64"
      ]
     },
     "execution_count": 161,
     "metadata": {},
     "output_type": "execute_result"
    }
   ],
   "source": [
    "kfold = KFold(shuffle=True, n_splits=9,random_state=30)\n",
    "results = cross_validate(estimator=combine_model,X=X_res,y=Y_res, cv=kfold, scoring=scoring,return_train_score=True)\n",
    "pd.DataFrame(results).mean()"
   ]
  },
  {
   "cell_type": "code",
   "execution_count": 128,
   "id": "26665148",
   "metadata": {},
   "outputs": [
    {
     "name": "stdout",
     "output_type": "stream",
     "text": [
      "[[347  36]\n",
      " [ 31 352]]\n",
      "              precision    recall  f1-score   support\n",
      "\n",
      "           0       0.92      0.91      0.91       383\n",
      "           1       0.91      0.92      0.91       383\n",
      "\n",
      "    accuracy                           0.91       766\n",
      "   macro avg       0.91      0.91      0.91       766\n",
      "weighted avg       0.91      0.91      0.91       766\n",
      "\n"
     ]
    }
   ],
   "source": [
    "#\n",
    "from sklearn.metrics import confusion_matrix\n",
    "Y_PRED = combine_model.predict(X_res)\n",
    "confusion_matrix=confusion_matrix(Y_res,Y_PRED)\n",
    "print(confusion_matrix)\n",
    "\n",
    "from sklearn.metrics import classification_report\n",
    "classification_report=classification_report(Y_res,Y_PRED)\n",
    "print(classification_report)"
   ]
  },
  {
   "cell_type": "markdown",
   "id": "4507dd62",
   "metadata": {},
   "source": [
    "# Work on test Data"
   ]
  },
  {
   "cell_type": "code",
   "execution_count": 129,
   "id": "7a43fd25",
   "metadata": {},
   "outputs": [
    {
     "data": {
      "text/html": [
       "<div>\n",
       "<style scoped>\n",
       "    .dataframe tbody tr th:only-of-type {\n",
       "        vertical-align: middle;\n",
       "    }\n",
       "\n",
       "    .dataframe tbody tr th {\n",
       "        vertical-align: top;\n",
       "    }\n",
       "\n",
       "    .dataframe thead th {\n",
       "        text-align: right;\n",
       "    }\n",
       "</style>\n",
       "<table border=\"1\" class=\"dataframe\">\n",
       "  <thead>\n",
       "    <tr style=\"text-align: right;\">\n",
       "      <th></th>\n",
       "      <th>Loan_ID</th>\n",
       "      <th>Gender</th>\n",
       "      <th>Married</th>\n",
       "      <th>Dependents</th>\n",
       "      <th>Education</th>\n",
       "      <th>Self_Employed</th>\n",
       "      <th>ApplicantIncome</th>\n",
       "      <th>CoapplicantIncome</th>\n",
       "      <th>LoanAmount</th>\n",
       "      <th>Loan_Amount_Term</th>\n",
       "      <th>Credit_History</th>\n",
       "      <th>Property_Area</th>\n",
       "    </tr>\n",
       "  </thead>\n",
       "  <tbody>\n",
       "    <tr>\n",
       "      <th>0</th>\n",
       "      <td>LP001015</td>\n",
       "      <td>Male</td>\n",
       "      <td>Yes</td>\n",
       "      <td>0</td>\n",
       "      <td>Graduate</td>\n",
       "      <td>No</td>\n",
       "      <td>5720</td>\n",
       "      <td>0</td>\n",
       "      <td>110.0</td>\n",
       "      <td>360.0</td>\n",
       "      <td>1.0</td>\n",
       "      <td>Urban</td>\n",
       "    </tr>\n",
       "    <tr>\n",
       "      <th>1</th>\n",
       "      <td>LP001022</td>\n",
       "      <td>Male</td>\n",
       "      <td>Yes</td>\n",
       "      <td>1</td>\n",
       "      <td>Graduate</td>\n",
       "      <td>No</td>\n",
       "      <td>3076</td>\n",
       "      <td>1500</td>\n",
       "      <td>126.0</td>\n",
       "      <td>360.0</td>\n",
       "      <td>1.0</td>\n",
       "      <td>Urban</td>\n",
       "    </tr>\n",
       "    <tr>\n",
       "      <th>2</th>\n",
       "      <td>LP001031</td>\n",
       "      <td>Male</td>\n",
       "      <td>Yes</td>\n",
       "      <td>2</td>\n",
       "      <td>Graduate</td>\n",
       "      <td>No</td>\n",
       "      <td>5000</td>\n",
       "      <td>1800</td>\n",
       "      <td>208.0</td>\n",
       "      <td>360.0</td>\n",
       "      <td>1.0</td>\n",
       "      <td>Urban</td>\n",
       "    </tr>\n",
       "    <tr>\n",
       "      <th>3</th>\n",
       "      <td>LP001035</td>\n",
       "      <td>Male</td>\n",
       "      <td>Yes</td>\n",
       "      <td>2</td>\n",
       "      <td>Graduate</td>\n",
       "      <td>No</td>\n",
       "      <td>2340</td>\n",
       "      <td>2546</td>\n",
       "      <td>100.0</td>\n",
       "      <td>360.0</td>\n",
       "      <td>NaN</td>\n",
       "      <td>Urban</td>\n",
       "    </tr>\n",
       "    <tr>\n",
       "      <th>4</th>\n",
       "      <td>LP001051</td>\n",
       "      <td>Male</td>\n",
       "      <td>No</td>\n",
       "      <td>0</td>\n",
       "      <td>Not Graduate</td>\n",
       "      <td>No</td>\n",
       "      <td>3276</td>\n",
       "      <td>0</td>\n",
       "      <td>78.0</td>\n",
       "      <td>360.0</td>\n",
       "      <td>1.0</td>\n",
       "      <td>Urban</td>\n",
       "    </tr>\n",
       "  </tbody>\n",
       "</table>\n",
       "</div>"
      ],
      "text/plain": [
       "    Loan_ID Gender Married Dependents     Education Self_Employed  \\\n",
       "0  LP001015   Male     Yes          0      Graduate            No   \n",
       "1  LP001022   Male     Yes          1      Graduate            No   \n",
       "2  LP001031   Male     Yes          2      Graduate            No   \n",
       "3  LP001035   Male     Yes          2      Graduate            No   \n",
       "4  LP001051   Male      No          0  Not Graduate            No   \n",
       "\n",
       "   ApplicantIncome  CoapplicantIncome  LoanAmount  Loan_Amount_Term  \\\n",
       "0             5720                  0       110.0             360.0   \n",
       "1             3076               1500       126.0             360.0   \n",
       "2             5000               1800       208.0             360.0   \n",
       "3             2340               2546       100.0             360.0   \n",
       "4             3276                  0        78.0             360.0   \n",
       "\n",
       "   Credit_History Property_Area  \n",
       "0             1.0         Urban  \n",
       "1             1.0         Urban  \n",
       "2             1.0         Urban  \n",
       "3             NaN         Urban  \n",
       "4             1.0         Urban  "
      ]
     },
     "execution_count": 129,
     "metadata": {},
     "output_type": "execute_result"
    }
   ],
   "source": [
    "# importing test file\n",
    "loan_test = pd.read_csv('test.csv')\n",
    "loan_test.head()"
   ]
  },
  {
   "cell_type": "code",
   "execution_count": 130,
   "id": "667af490",
   "metadata": {},
   "outputs": [
    {
     "data": {
      "text/plain": [
       "(367, 12)"
      ]
     },
     "execution_count": 130,
     "metadata": {},
     "output_type": "execute_result"
    }
   ],
   "source": [
    "loan_test.shape"
   ]
  },
  {
   "cell_type": "code",
   "execution_count": 131,
   "id": "ebb692df",
   "metadata": {
    "scrolled": false
   },
   "outputs": [
    {
     "name": "stdout",
     "output_type": "stream",
     "text": [
      "<class 'pandas.core.frame.DataFrame'>\n",
      "RangeIndex: 367 entries, 0 to 366\n",
      "Data columns (total 12 columns):\n",
      " #   Column             Non-Null Count  Dtype  \n",
      "---  ------             --------------  -----  \n",
      " 0   Loan_ID            367 non-null    object \n",
      " 1   Gender             356 non-null    object \n",
      " 2   Married            367 non-null    object \n",
      " 3   Dependents         357 non-null    object \n",
      " 4   Education          367 non-null    object \n",
      " 5   Self_Employed      344 non-null    object \n",
      " 6   ApplicantIncome    367 non-null    int64  \n",
      " 7   CoapplicantIncome  367 non-null    int64  \n",
      " 8   LoanAmount         362 non-null    float64\n",
      " 9   Loan_Amount_Term   361 non-null    float64\n",
      " 10  Credit_History     338 non-null    float64\n",
      " 11  Property_Area      367 non-null    object \n",
      "dtypes: float64(3), int64(2), object(7)\n",
      "memory usage: 34.5+ KB\n"
     ]
    }
   ],
   "source": [
    "loan_test.info()"
   ]
  },
  {
   "cell_type": "code",
   "execution_count": 132,
   "id": "e6dfb026",
   "metadata": {},
   "outputs": [
    {
     "data": {
      "text/plain": [
       "Loan_ID              367\n",
       "ApplicantIncome      314\n",
       "CoapplicantIncome    194\n",
       "LoanAmount           144\n",
       "Loan_Amount_Term      12\n",
       "Dependents             4\n",
       "Property_Area          3\n",
       "Credit_History         2\n",
       "Self_Employed          2\n",
       "Education              2\n",
       "Married                2\n",
       "Gender                 2\n",
       "dtype: int64"
      ]
     },
     "execution_count": 132,
     "metadata": {},
     "output_type": "execute_result"
    }
   ],
   "source": [
    "loan_test.nunique().sort_values(ascending=False)"
   ]
  },
  {
   "cell_type": "code",
   "execution_count": 133,
   "id": "853a7c7d",
   "metadata": {},
   "outputs": [],
   "source": [
    "# change the data type of Credit_History column\n",
    "loan_test['Credit_History'] = loan_test['Credit_History'].astype('O')"
   ]
  },
  {
   "cell_type": "code",
   "execution_count": 134,
   "id": "02ab2ab4",
   "metadata": {},
   "outputs": [
    {
     "data": {
      "text/plain": [
       "object     8\n",
       "float64    2\n",
       "int64      2\n",
       "dtype: int64"
      ]
     },
     "execution_count": 134,
     "metadata": {},
     "output_type": "execute_result"
    }
   ],
   "source": [
    "loan_test.dtypes.value_counts()"
   ]
  },
  {
   "cell_type": "code",
   "execution_count": 135,
   "id": "84ffe95f",
   "metadata": {},
   "outputs": [
    {
     "data": {
      "text/html": [
       "<div>\n",
       "<style scoped>\n",
       "    .dataframe tbody tr th:only-of-type {\n",
       "        vertical-align: middle;\n",
       "    }\n",
       "\n",
       "    .dataframe tbody tr th {\n",
       "        vertical-align: top;\n",
       "    }\n",
       "\n",
       "    .dataframe thead th {\n",
       "        text-align: right;\n",
       "    }\n",
       "</style>\n",
       "<table border=\"1\" class=\"dataframe\">\n",
       "  <thead>\n",
       "    <tr style=\"text-align: right;\">\n",
       "      <th></th>\n",
       "      <th>Loan_ID</th>\n",
       "      <th>Gender</th>\n",
       "      <th>Married</th>\n",
       "      <th>Dependents</th>\n",
       "      <th>Education</th>\n",
       "      <th>Self_Employed</th>\n",
       "      <th>Credit_History</th>\n",
       "      <th>Property_Area</th>\n",
       "    </tr>\n",
       "  </thead>\n",
       "  <tbody>\n",
       "    <tr>\n",
       "      <th>count</th>\n",
       "      <td>367</td>\n",
       "      <td>356</td>\n",
       "      <td>367</td>\n",
       "      <td>357</td>\n",
       "      <td>367</td>\n",
       "      <td>344</td>\n",
       "      <td>338.0</td>\n",
       "      <td>367</td>\n",
       "    </tr>\n",
       "    <tr>\n",
       "      <th>unique</th>\n",
       "      <td>367</td>\n",
       "      <td>2</td>\n",
       "      <td>2</td>\n",
       "      <td>4</td>\n",
       "      <td>2</td>\n",
       "      <td>2</td>\n",
       "      <td>2.0</td>\n",
       "      <td>3</td>\n",
       "    </tr>\n",
       "    <tr>\n",
       "      <th>top</th>\n",
       "      <td>LP001208</td>\n",
       "      <td>Male</td>\n",
       "      <td>Yes</td>\n",
       "      <td>0</td>\n",
       "      <td>Graduate</td>\n",
       "      <td>No</td>\n",
       "      <td>1.0</td>\n",
       "      <td>Urban</td>\n",
       "    </tr>\n",
       "    <tr>\n",
       "      <th>freq</th>\n",
       "      <td>1</td>\n",
       "      <td>286</td>\n",
       "      <td>233</td>\n",
       "      <td>200</td>\n",
       "      <td>283</td>\n",
       "      <td>307</td>\n",
       "      <td>279.0</td>\n",
       "      <td>140</td>\n",
       "    </tr>\n",
       "  </tbody>\n",
       "</table>\n",
       "</div>"
      ],
      "text/plain": [
       "         Loan_ID Gender Married Dependents Education Self_Employed  \\\n",
       "count        367    356     367        357       367           344   \n",
       "unique       367      2       2          4         2             2   \n",
       "top     LP001208   Male     Yes          0  Graduate            No   \n",
       "freq           1    286     233        200       283           307   \n",
       "\n",
       "        Credit_History Property_Area  \n",
       "count            338.0           367  \n",
       "unique             2.0             3  \n",
       "top                1.0         Urban  \n",
       "freq             279.0           140  "
      ]
     },
     "execution_count": 135,
     "metadata": {},
     "output_type": "execute_result"
    }
   ],
   "source": [
    "# describe the chategoric columns\n",
    "loan_test.describe(include=['O'])"
   ]
  },
  {
   "cell_type": "code",
   "execution_count": 136,
   "id": "bbd09675",
   "metadata": {},
   "outputs": [],
   "source": [
    "# First we split numeric and chategoric columns seperately\n",
    "cat_data_t = []\n",
    "num_data_t = []\n",
    "for col,types in enumerate(loan_test.dtypes):\n",
    "    if types=='object':\n",
    "        cat_data_t.append(loan_test.iloc[:,col])\n",
    "    else:\n",
    "        num_data_t.append(loan_test.iloc[:,col])\n",
    "\n",
    "cat_data_t = pd.DataFrame(cat_data_t).T\n",
    "num_data_t= pd.DataFrame(num_data_t).T"
   ]
  },
  {
   "cell_type": "code",
   "execution_count": 137,
   "id": "4892416a",
   "metadata": {},
   "outputs": [
    {
     "data": {
      "image/png": "[encoded data removed]",
      "text/plain": [
       "<Figure size 1440x576 with 1 Axes>"
      ]
     },
     "metadata": {},
     "output_type": "display_data"
    }
   ],
   "source": [
    "# visualize using Heat map\n",
    "plt.figure(figsize=(20,8))\n",
    "sns.heatmap(loan_test.isnull(), cbar=False);plt.show()"
   ]
  },
  {
   "cell_type": "code",
   "execution_count": 138,
   "id": "4e8830c6",
   "metadata": {},
   "outputs": [
    {
     "data": {
      "text/plain": [
       "Credit_History       29\n",
       "Self_Employed        23\n",
       "Gender               11\n",
       "Dependents           10\n",
       "Loan_Amount_Term      6\n",
       "LoanAmount            5\n",
       "Property_Area         0\n",
       "CoapplicantIncome     0\n",
       "ApplicantIncome       0\n",
       "Education             0\n",
       "Married               0\n",
       "Loan_ID               0\n",
       "dtype: int64"
      ]
     },
     "execution_count": 138,
     "metadata": {},
     "output_type": "execute_result"
    }
   ],
   "source": [
    "#Checking the null Values in Data\n",
    "loan_test.isnull().sum().sort_values(ascending=False)"
   ]
  },
  {
   "cell_type": "code",
   "execution_count": 139,
   "id": "a8d1f600",
   "metadata": {
    "scrolled": true
   },
   "outputs": [
    {
     "data": {
      "text/html": [
       "<div>\n",
       "<style scoped>\n",
       "    .dataframe tbody tr th:only-of-type {\n",
       "        vertical-align: middle;\n",
       "    }\n",
       "\n",
       "    .dataframe tbody tr th {\n",
       "        vertical-align: top;\n",
       "    }\n",
       "\n",
       "    .dataframe thead th {\n",
       "        text-align: right;\n",
       "    }\n",
       "</style>\n",
       "<table border=\"1\" class=\"dataframe\">\n",
       "  <thead>\n",
       "    <tr style=\"text-align: right;\">\n",
       "      <th></th>\n",
       "      <th>Loan_ID</th>\n",
       "      <th>Gender</th>\n",
       "      <th>Married</th>\n",
       "      <th>Dependents</th>\n",
       "      <th>Education</th>\n",
       "      <th>Self_Employed</th>\n",
       "      <th>Credit_History</th>\n",
       "      <th>Property_Area</th>\n",
       "    </tr>\n",
       "  </thead>\n",
       "  <tbody>\n",
       "    <tr>\n",
       "      <th>0</th>\n",
       "      <td>LP001015</td>\n",
       "      <td>Male</td>\n",
       "      <td>Yes</td>\n",
       "      <td>0</td>\n",
       "      <td>Graduate</td>\n",
       "      <td>No</td>\n",
       "      <td>1</td>\n",
       "      <td>Urban</td>\n",
       "    </tr>\n",
       "    <tr>\n",
       "      <th>1</th>\n",
       "      <td>LP001022</td>\n",
       "      <td>Male</td>\n",
       "      <td>Yes</td>\n",
       "      <td>1</td>\n",
       "      <td>Graduate</td>\n",
       "      <td>No</td>\n",
       "      <td>1</td>\n",
       "      <td>Urban</td>\n",
       "    </tr>\n",
       "    <tr>\n",
       "      <th>2</th>\n",
       "      <td>LP001031</td>\n",
       "      <td>Male</td>\n",
       "      <td>Yes</td>\n",
       "      <td>2</td>\n",
       "      <td>Graduate</td>\n",
       "      <td>No</td>\n",
       "      <td>1</td>\n",
       "      <td>Urban</td>\n",
       "    </tr>\n",
       "    <tr>\n",
       "      <th>3</th>\n",
       "      <td>LP001035</td>\n",
       "      <td>Male</td>\n",
       "      <td>Yes</td>\n",
       "      <td>2</td>\n",
       "      <td>Graduate</td>\n",
       "      <td>No</td>\n",
       "      <td>NaN</td>\n",
       "      <td>Urban</td>\n",
       "    </tr>\n",
       "    <tr>\n",
       "      <th>4</th>\n",
       "      <td>LP001051</td>\n",
       "      <td>Male</td>\n",
       "      <td>No</td>\n",
       "      <td>0</td>\n",
       "      <td>Not Graduate</td>\n",
       "      <td>No</td>\n",
       "      <td>1</td>\n",
       "      <td>Urban</td>\n",
       "    </tr>\n",
       "  </tbody>\n",
       "</table>\n",
       "</div>"
      ],
      "text/plain": [
       "    Loan_ID Gender Married Dependents     Education Self_Employed  \\\n",
       "0  LP001015   Male     Yes          0      Graduate            No   \n",
       "1  LP001022   Male     Yes          1      Graduate            No   \n",
       "2  LP001031   Male     Yes          2      Graduate            No   \n",
       "3  LP001035   Male     Yes          2      Graduate            No   \n",
       "4  LP001051   Male      No          0  Not Graduate            No   \n",
       "\n",
       "  Credit_History Property_Area  \n",
       "0              1         Urban  \n",
       "1              1         Urban  \n",
       "2              1         Urban  \n",
       "3            NaN         Urban  \n",
       "4              1         Urban  "
      ]
     },
     "execution_count": 139,
     "metadata": {},
     "output_type": "execute_result"
    }
   ],
   "source": [
    "cat_data_t.head()"
   ]
  },
  {
   "cell_type": "code",
   "execution_count": 140,
   "id": "0c2faba5",
   "metadata": {},
   "outputs": [
    {
     "data": {
      "text/plain": [
       "False"
      ]
     },
     "execution_count": 140,
     "metadata": {},
     "output_type": "execute_result"
    }
   ],
   "source": [
    "#missing value imputation for categorical variable using mode\n",
    "cat_data_t.fillna(cat_data_t.mode().iloc[0], inplace=True)\n",
    "cat_data_t.isnull().sum().any() # no more missing data "
   ]
  },
  {
   "cell_type": "code",
   "execution_count": 141,
   "id": "19aa6674",
   "metadata": {},
   "outputs": [
    {
     "data": {
      "text/html": [
       "<div>\n",
       "<style scoped>\n",
       "    .dataframe tbody tr th:only-of-type {\n",
       "        vertical-align: middle;\n",
       "    }\n",
       "\n",
       "    .dataframe tbody tr th {\n",
       "        vertical-align: top;\n",
       "    }\n",
       "\n",
       "    .dataframe thead th {\n",
       "        text-align: right;\n",
       "    }\n",
       "</style>\n",
       "<table border=\"1\" class=\"dataframe\">\n",
       "  <thead>\n",
       "    <tr style=\"text-align: right;\">\n",
       "      <th></th>\n",
       "      <th>ApplicantIncome</th>\n",
       "      <th>CoapplicantIncome</th>\n",
       "      <th>LoanAmount</th>\n",
       "      <th>Loan_Amount_Term</th>\n",
       "    </tr>\n",
       "  </thead>\n",
       "  <tbody>\n",
       "    <tr>\n",
       "      <th>0</th>\n",
       "      <td>5720.0</td>\n",
       "      <td>0.0</td>\n",
       "      <td>110.0</td>\n",
       "      <td>360.0</td>\n",
       "    </tr>\n",
       "    <tr>\n",
       "      <th>1</th>\n",
       "      <td>3076.0</td>\n",
       "      <td>1500.0</td>\n",
       "      <td>126.0</td>\n",
       "      <td>360.0</td>\n",
       "    </tr>\n",
       "    <tr>\n",
       "      <th>2</th>\n",
       "      <td>5000.0</td>\n",
       "      <td>1800.0</td>\n",
       "      <td>208.0</td>\n",
       "      <td>360.0</td>\n",
       "    </tr>\n",
       "    <tr>\n",
       "      <th>3</th>\n",
       "      <td>2340.0</td>\n",
       "      <td>2546.0</td>\n",
       "      <td>100.0</td>\n",
       "      <td>360.0</td>\n",
       "    </tr>\n",
       "    <tr>\n",
       "      <th>4</th>\n",
       "      <td>3276.0</td>\n",
       "      <td>0.0</td>\n",
       "      <td>78.0</td>\n",
       "      <td>360.0</td>\n",
       "    </tr>\n",
       "  </tbody>\n",
       "</table>\n",
       "</div>"
      ],
      "text/plain": [
       "   ApplicantIncome  CoapplicantIncome  LoanAmount  Loan_Amount_Term\n",
       "0           5720.0                0.0       110.0             360.0\n",
       "1           3076.0             1500.0       126.0             360.0\n",
       "2           5000.0             1800.0       208.0             360.0\n",
       "3           2340.0             2546.0       100.0             360.0\n",
       "4           3276.0                0.0        78.0             360.0"
      ]
     },
     "execution_count": 141,
     "metadata": {},
     "output_type": "execute_result"
    }
   ],
   "source": [
    "num_data_t.head()"
   ]
  },
  {
   "cell_type": "code",
   "execution_count": 142,
   "id": "07bd3879",
   "metadata": {},
   "outputs": [
    {
     "data": {
      "text/plain": [
       "False"
      ]
     },
     "execution_count": 142,
     "metadata": {},
     "output_type": "execute_result"
    }
   ],
   "source": [
    "#missing value imputation for numeric variable using backfill (use next valid observation to fill gap)\n",
    "num_data_t.fillna(method='bfill', inplace=True)\n",
    "num_data_t.isnull().sum().any() #no more missing data"
   ]
  },
  {
   "cell_type": "code",
   "execution_count": 143,
   "id": "35df855e",
   "metadata": {},
   "outputs": [],
   "source": [
    "# Add both ApplicantIncome and CoapplicantIncome to TotalIncome on train data\n",
    "num_data_t['TotalIncome'] = num_data_t['ApplicantIncome'] + num_data_t['CoapplicantIncome']"
   ]
  },
  {
   "cell_type": "code",
   "execution_count": 144,
   "id": "2f32920f",
   "metadata": {},
   "outputs": [],
   "source": [
    "num_data_t.drop(['ApplicantIncome','CoapplicantIncome'],axis=1,inplace=True)"
   ]
  },
  {
   "cell_type": "code",
   "execution_count": 145,
   "id": "f7f796ff",
   "metadata": {},
   "outputs": [
    {
     "data": {
      "text/html": [
       "<div>\n",
       "<style scoped>\n",
       "    .dataframe tbody tr th:only-of-type {\n",
       "        vertical-align: middle;\n",
       "    }\n",
       "\n",
       "    .dataframe tbody tr th {\n",
       "        vertical-align: top;\n",
       "    }\n",
       "\n",
       "    .dataframe thead th {\n",
       "        text-align: right;\n",
       "    }\n",
       "</style>\n",
       "<table border=\"1\" class=\"dataframe\">\n",
       "  <thead>\n",
       "    <tr style=\"text-align: right;\">\n",
       "      <th></th>\n",
       "      <th>LoanAmount</th>\n",
       "      <th>Loan_Amount_Term</th>\n",
       "      <th>TotalIncome</th>\n",
       "    </tr>\n",
       "  </thead>\n",
       "  <tbody>\n",
       "    <tr>\n",
       "      <th>0</th>\n",
       "      <td>110.0</td>\n",
       "      <td>360.0</td>\n",
       "      <td>5720.0</td>\n",
       "    </tr>\n",
       "    <tr>\n",
       "      <th>1</th>\n",
       "      <td>126.0</td>\n",
       "      <td>360.0</td>\n",
       "      <td>4576.0</td>\n",
       "    </tr>\n",
       "    <tr>\n",
       "      <th>2</th>\n",
       "      <td>208.0</td>\n",
       "      <td>360.0</td>\n",
       "      <td>6800.0</td>\n",
       "    </tr>\n",
       "    <tr>\n",
       "      <th>3</th>\n",
       "      <td>100.0</td>\n",
       "      <td>360.0</td>\n",
       "      <td>4886.0</td>\n",
       "    </tr>\n",
       "    <tr>\n",
       "      <th>4</th>\n",
       "      <td>78.0</td>\n",
       "      <td>360.0</td>\n",
       "      <td>3276.0</td>\n",
       "    </tr>\n",
       "  </tbody>\n",
       "</table>\n",
       "</div>"
      ],
      "text/plain": [
       "   LoanAmount  Loan_Amount_Term  TotalIncome\n",
       "0       110.0             360.0       5720.0\n",
       "1       126.0             360.0       4576.0\n",
       "2       208.0             360.0       6800.0\n",
       "3       100.0             360.0       4886.0\n",
       "4        78.0             360.0       3276.0"
      ]
     },
     "execution_count": 145,
     "metadata": {},
     "output_type": "execute_result"
    }
   ],
   "source": [
    "num_data_t.head()"
   ]
  },
  {
   "cell_type": "code",
   "execution_count": 146,
   "id": "01c6b27d",
   "metadata": {},
   "outputs": [],
   "source": [
    "cat_data_t.drop(columns={'Loan_ID'}, axis=1, inplace=True)"
   ]
  },
  {
   "cell_type": "code",
   "execution_count": 147,
   "id": "a007bada",
   "metadata": {},
   "outputs": [],
   "source": [
    "cat_data_t['Gender'].replace({'Male':1,'Female':0},inplace=True)\n",
    "cat_data_t['Married'].replace({'Yes':1,'No':0},inplace=True)\n",
    "cat_data_t['Education'].replace({'Graduate':1,'Not Graduate':0},inplace=True)\n",
    "cat_data_t['Self_Employed'].replace({'Yes':1,'No':0},inplace=True)"
   ]
  },
  {
   "cell_type": "code",
   "execution_count": 148,
   "id": "7069e2a0",
   "metadata": {},
   "outputs": [],
   "source": [
    "cat_data_t['Credit_History'] = cat_data_t['Credit_History'].astype('int64')"
   ]
  },
  {
   "cell_type": "code",
   "execution_count": 149,
   "id": "9e4f1c9b",
   "metadata": {},
   "outputs": [
    {
     "data": {
      "text/html": [
       "<div>\n",
       "<style scoped>\n",
       "    .dataframe tbody tr th:only-of-type {\n",
       "        vertical-align: middle;\n",
       "    }\n",
       "\n",
       "    .dataframe tbody tr th {\n",
       "        vertical-align: top;\n",
       "    }\n",
       "\n",
       "    .dataframe thead th {\n",
       "        text-align: right;\n",
       "    }\n",
       "</style>\n",
       "<table border=\"1\" class=\"dataframe\">\n",
       "  <thead>\n",
       "    <tr style=\"text-align: right;\">\n",
       "      <th></th>\n",
       "      <th>Gender</th>\n",
       "      <th>Married</th>\n",
       "      <th>Education</th>\n",
       "      <th>Self_Employed</th>\n",
       "      <th>Credit_History</th>\n",
       "      <th>Dependents_0</th>\n",
       "      <th>Dependents_1</th>\n",
       "      <th>Dependents_2</th>\n",
       "      <th>Dependents_3+</th>\n",
       "      <th>Property_Area_Rural</th>\n",
       "      <th>Property_Area_Semiurban</th>\n",
       "      <th>Property_Area_Urban</th>\n",
       "    </tr>\n",
       "  </thead>\n",
       "  <tbody>\n",
       "    <tr>\n",
       "      <th>0</th>\n",
       "      <td>1</td>\n",
       "      <td>1</td>\n",
       "      <td>1</td>\n",
       "      <td>0</td>\n",
       "      <td>1</td>\n",
       "      <td>1</td>\n",
       "      <td>0</td>\n",
       "      <td>0</td>\n",
       "      <td>0</td>\n",
       "      <td>0</td>\n",
       "      <td>0</td>\n",
       "      <td>1</td>\n",
       "    </tr>\n",
       "    <tr>\n",
       "      <th>1</th>\n",
       "      <td>1</td>\n",
       "      <td>1</td>\n",
       "      <td>1</td>\n",
       "      <td>0</td>\n",
       "      <td>1</td>\n",
       "      <td>0</td>\n",
       "      <td>1</td>\n",
       "      <td>0</td>\n",
       "      <td>0</td>\n",
       "      <td>0</td>\n",
       "      <td>0</td>\n",
       "      <td>1</td>\n",
       "    </tr>\n",
       "    <tr>\n",
       "      <th>2</th>\n",
       "      <td>1</td>\n",
       "      <td>1</td>\n",
       "      <td>1</td>\n",
       "      <td>0</td>\n",
       "      <td>1</td>\n",
       "      <td>0</td>\n",
       "      <td>0</td>\n",
       "      <td>1</td>\n",
       "      <td>0</td>\n",
       "      <td>0</td>\n",
       "      <td>0</td>\n",
       "      <td>1</td>\n",
       "    </tr>\n",
       "    <tr>\n",
       "      <th>3</th>\n",
       "      <td>1</td>\n",
       "      <td>1</td>\n",
       "      <td>1</td>\n",
       "      <td>0</td>\n",
       "      <td>1</td>\n",
       "      <td>0</td>\n",
       "      <td>0</td>\n",
       "      <td>1</td>\n",
       "      <td>0</td>\n",
       "      <td>0</td>\n",
       "      <td>0</td>\n",
       "      <td>1</td>\n",
       "    </tr>\n",
       "    <tr>\n",
       "      <th>4</th>\n",
       "      <td>1</td>\n",
       "      <td>0</td>\n",
       "      <td>0</td>\n",
       "      <td>0</td>\n",
       "      <td>1</td>\n",
       "      <td>1</td>\n",
       "      <td>0</td>\n",
       "      <td>0</td>\n",
       "      <td>0</td>\n",
       "      <td>0</td>\n",
       "      <td>0</td>\n",
       "      <td>1</td>\n",
       "    </tr>\n",
       "  </tbody>\n",
       "</table>\n",
       "</div>"
      ],
      "text/plain": [
       "   Gender  Married  Education  Self_Employed  Credit_History  Dependents_0  \\\n",
       "0       1        1          1              0               1             1   \n",
       "1       1        1          1              0               1             0   \n",
       "2       1        1          1              0               1             0   \n",
       "3       1        1          1              0               1             0   \n",
       "4       1        0          0              0               1             1   \n",
       "\n",
       "   Dependents_1  Dependents_2  Dependents_3+  Property_Area_Rural  \\\n",
       "0             0             0              0                    0   \n",
       "1             1             0              0                    0   \n",
       "2             0             1              0                    0   \n",
       "3             0             1              0                    0   \n",
       "4             0             0              0                    0   \n",
       "\n",
       "   Property_Area_Semiurban  Property_Area_Urban  \n",
       "0                        0                    1  \n",
       "1                        0                    1  \n",
       "2                        0                    1  \n",
       "3                        0                    1  \n",
       "4                        0                    1  "
      ]
     },
     "execution_count": 149,
     "metadata": {},
     "output_type": "execute_result"
    }
   ],
   "source": [
    "# transform other columns\n",
    "cat_data_t = pd.get_dummies(cat_data_t)\n",
    "cat_data_t.head()"
   ]
  },
  {
   "cell_type": "code",
   "execution_count": 150,
   "id": "e029ba06",
   "metadata": {
    "scrolled": false
   },
   "outputs": [],
   "source": [
    "# ## variable transformation\n",
    "\n",
    "# plt.figure(figsize=(20,15))\n",
    "# plt.subplot(321);sns.distplot(num_data_t['LoanAmount']);      plt.subplot(322);sns.distplot(np.log(np.cbrt(num_data_t[\"LoanAmount\"]+1)))\n",
    "# plt.subplot(323);sns.distplot(num_data_t['Loan_Amount_Term']);plt.subplot(324);sns.distplot(np.log(np.log(num_data_t['Loan_Amount_Term'])))\n",
    "# plt.subplot(325);sns.distplot(num_data_t['TotalIncome']);     plt.subplot(326);sns.distplot(np.log(np.log(num_data_t[\"TotalIncome\"]+1)));plt.show()"
   ]
  },
  {
   "cell_type": "code",
   "execution_count": 151,
   "id": "10c4f770",
   "metadata": {
    "scrolled": true
   },
   "outputs": [
    {
     "data": {
      "text/html": [
       "<div>\n",
       "<style scoped>\n",
       "    .dataframe tbody tr th:only-of-type {\n",
       "        vertical-align: middle;\n",
       "    }\n",
       "\n",
       "    .dataframe tbody tr th {\n",
       "        vertical-align: top;\n",
       "    }\n",
       "\n",
       "    .dataframe thead th {\n",
       "        text-align: right;\n",
       "    }\n",
       "</style>\n",
       "<table border=\"1\" class=\"dataframe\">\n",
       "  <thead>\n",
       "    <tr style=\"text-align: right;\">\n",
       "      <th></th>\n",
       "      <th>LoanAmount</th>\n",
       "      <th>Loan_Amount_Term</th>\n",
       "      <th>TotalIncome</th>\n",
       "    </tr>\n",
       "  </thead>\n",
       "  <tbody>\n",
       "    <tr>\n",
       "      <th>0</th>\n",
       "      <td>1.569843</td>\n",
       "      <td>1.772594</td>\n",
       "      <td>2.157779</td>\n",
       "    </tr>\n",
       "    <tr>\n",
       "      <th>1</th>\n",
       "      <td>1.614729</td>\n",
       "      <td>1.772594</td>\n",
       "      <td>2.131654</td>\n",
       "    </tr>\n",
       "    <tr>\n",
       "      <th>2</th>\n",
       "      <td>1.780778</td>\n",
       "      <td>1.772594</td>\n",
       "      <td>2.177569</td>\n",
       "    </tr>\n",
       "    <tr>\n",
       "      <th>3</th>\n",
       "      <td>1.538374</td>\n",
       "      <td>1.772594</td>\n",
       "      <td>2.139399</td>\n",
       "    </tr>\n",
       "    <tr>\n",
       "      <th>4</th>\n",
       "      <td>1.456483</td>\n",
       "      <td>1.772594</td>\n",
       "      <td>2.091208</td>\n",
       "    </tr>\n",
       "  </tbody>\n",
       "</table>\n",
       "</div>"
      ],
      "text/plain": [
       "   LoanAmount  Loan_Amount_Term  TotalIncome\n",
       "0    1.569843          1.772594     2.157779\n",
       "1    1.614729          1.772594     2.131654\n",
       "2    1.780778          1.772594     2.177569\n",
       "3    1.538374          1.772594     2.139399\n",
       "4    1.456483          1.772594     2.091208"
      ]
     },
     "execution_count": 151,
     "metadata": {},
     "output_type": "execute_result"
    }
   ],
   "source": [
    "num_data_trans_t = pd.DataFrame()   \n",
    "num_data_trans_t['LoanAmount'] =np.log(np.cbrt(num_data_t[\"LoanAmount\"]+1))\n",
    "num_data_trans_t['Loan_Amount_Term']=np.log(np.log(num_data_t['Loan_Amount_Term']))\n",
    "num_data_trans_t['TotalIncome'] =np.log(np.log(num_data_t[\"TotalIncome\"]+1))\n",
    "\n",
    "num_data_trans_t.head()"
   ]
  },
  {
   "cell_type": "code",
   "execution_count": 152,
   "id": "2b07e6ec",
   "metadata": {
    "scrolled": true
   },
   "outputs": [
    {
     "data": {
      "text/html": [
       "<div>\n",
       "<style scoped>\n",
       "    .dataframe tbody tr th:only-of-type {\n",
       "        vertical-align: middle;\n",
       "    }\n",
       "\n",
       "    .dataframe tbody tr th {\n",
       "        vertical-align: top;\n",
       "    }\n",
       "\n",
       "    .dataframe thead th {\n",
       "        text-align: right;\n",
       "    }\n",
       "</style>\n",
       "<table border=\"1\" class=\"dataframe\">\n",
       "  <thead>\n",
       "    <tr style=\"text-align: right;\">\n",
       "      <th></th>\n",
       "      <th>LoanAmount</th>\n",
       "      <th>Loan_Amount_Term</th>\n",
       "      <th>TotalIncome</th>\n",
       "    </tr>\n",
       "  </thead>\n",
       "  <tbody>\n",
       "    <tr>\n",
       "      <th>0</th>\n",
       "      <td>0.455854</td>\n",
       "      <td>0.961428</td>\n",
       "      <td>0.362552</td>\n",
       "    </tr>\n",
       "    <tr>\n",
       "      <th>1</th>\n",
       "      <td>0.501587</td>\n",
       "      <td>0.961428</td>\n",
       "      <td>0.297855</td>\n",
       "    </tr>\n",
       "    <tr>\n",
       "      <th>2</th>\n",
       "      <td>0.670769</td>\n",
       "      <td>0.961428</td>\n",
       "      <td>0.411562</td>\n",
       "    </tr>\n",
       "    <tr>\n",
       "      <th>3</th>\n",
       "      <td>0.423790</td>\n",
       "      <td>0.961428</td>\n",
       "      <td>0.317036</td>\n",
       "    </tr>\n",
       "    <tr>\n",
       "      <th>4</th>\n",
       "      <td>0.340354</td>\n",
       "      <td>0.961428</td>\n",
       "      <td>0.197688</td>\n",
       "    </tr>\n",
       "  </tbody>\n",
       "</table>\n",
       "</div>"
      ],
      "text/plain": [
       "   LoanAmount  Loan_Amount_Term  TotalIncome\n",
       "0    0.455854          0.961428     0.362552\n",
       "1    0.501587          0.961428     0.297855\n",
       "2    0.670769          0.961428     0.411562\n",
       "3    0.423790          0.961428     0.317036\n",
       "4    0.340354          0.961428     0.197688"
      ]
     },
     "execution_count": 152,
     "metadata": {},
     "output_type": "execute_result"
    }
   ],
   "source": [
    "### Normalizaiton of data\n",
    "num_scale_t = pd.DataFrame(scale.fit_transform(num_data_trans_t),columns=num_data_trans_t.columns)\n",
    "num_scale_t.head()"
   ]
  },
  {
   "cell_type": "code",
   "execution_count": 153,
   "id": "40d423a3",
   "metadata": {
    "scrolled": true
   },
   "outputs": [
    {
     "data": {
      "text/html": [
       "<div>\n",
       "<style scoped>\n",
       "    .dataframe tbody tr th:only-of-type {\n",
       "        vertical-align: middle;\n",
       "    }\n",
       "\n",
       "    .dataframe tbody tr th {\n",
       "        vertical-align: top;\n",
       "    }\n",
       "\n",
       "    .dataframe thead th {\n",
       "        text-align: right;\n",
       "    }\n",
       "</style>\n",
       "<table border=\"1\" class=\"dataframe\">\n",
       "  <thead>\n",
       "    <tr style=\"text-align: right;\">\n",
       "      <th></th>\n",
       "      <th>Gender</th>\n",
       "      <th>Married</th>\n",
       "      <th>Education</th>\n",
       "      <th>Self_Employed</th>\n",
       "      <th>Credit_History</th>\n",
       "      <th>Dependents_0</th>\n",
       "      <th>Dependents_1</th>\n",
       "      <th>Dependents_2</th>\n",
       "      <th>Dependents_3+</th>\n",
       "      <th>Property_Area_Rural</th>\n",
       "      <th>Property_Area_Semiurban</th>\n",
       "      <th>Property_Area_Urban</th>\n",
       "      <th>LoanAmount</th>\n",
       "      <th>Loan_Amount_Term</th>\n",
       "      <th>TotalIncome</th>\n",
       "    </tr>\n",
       "  </thead>\n",
       "  <tbody>\n",
       "    <tr>\n",
       "      <th>0</th>\n",
       "      <td>1</td>\n",
       "      <td>1</td>\n",
       "      <td>1</td>\n",
       "      <td>0</td>\n",
       "      <td>1</td>\n",
       "      <td>1</td>\n",
       "      <td>0</td>\n",
       "      <td>0</td>\n",
       "      <td>0</td>\n",
       "      <td>0</td>\n",
       "      <td>0</td>\n",
       "      <td>1</td>\n",
       "      <td>0.455854</td>\n",
       "      <td>0.961428</td>\n",
       "      <td>0.362552</td>\n",
       "    </tr>\n",
       "    <tr>\n",
       "      <th>1</th>\n",
       "      <td>1</td>\n",
       "      <td>1</td>\n",
       "      <td>1</td>\n",
       "      <td>0</td>\n",
       "      <td>1</td>\n",
       "      <td>0</td>\n",
       "      <td>1</td>\n",
       "      <td>0</td>\n",
       "      <td>0</td>\n",
       "      <td>0</td>\n",
       "      <td>0</td>\n",
       "      <td>1</td>\n",
       "      <td>0.501587</td>\n",
       "      <td>0.961428</td>\n",
       "      <td>0.297855</td>\n",
       "    </tr>\n",
       "    <tr>\n",
       "      <th>2</th>\n",
       "      <td>1</td>\n",
       "      <td>1</td>\n",
       "      <td>1</td>\n",
       "      <td>0</td>\n",
       "      <td>1</td>\n",
       "      <td>0</td>\n",
       "      <td>0</td>\n",
       "      <td>1</td>\n",
       "      <td>0</td>\n",
       "      <td>0</td>\n",
       "      <td>0</td>\n",
       "      <td>1</td>\n",
       "      <td>0.670769</td>\n",
       "      <td>0.961428</td>\n",
       "      <td>0.411562</td>\n",
       "    </tr>\n",
       "    <tr>\n",
       "      <th>3</th>\n",
       "      <td>1</td>\n",
       "      <td>1</td>\n",
       "      <td>1</td>\n",
       "      <td>0</td>\n",
       "      <td>1</td>\n",
       "      <td>0</td>\n",
       "      <td>0</td>\n",
       "      <td>1</td>\n",
       "      <td>0</td>\n",
       "      <td>0</td>\n",
       "      <td>0</td>\n",
       "      <td>1</td>\n",
       "      <td>0.423790</td>\n",
       "      <td>0.961428</td>\n",
       "      <td>0.317036</td>\n",
       "    </tr>\n",
       "    <tr>\n",
       "      <th>4</th>\n",
       "      <td>1</td>\n",
       "      <td>0</td>\n",
       "      <td>0</td>\n",
       "      <td>0</td>\n",
       "      <td>1</td>\n",
       "      <td>1</td>\n",
       "      <td>0</td>\n",
       "      <td>0</td>\n",
       "      <td>0</td>\n",
       "      <td>0</td>\n",
       "      <td>0</td>\n",
       "      <td>1</td>\n",
       "      <td>0.340354</td>\n",
       "      <td>0.961428</td>\n",
       "      <td>0.197688</td>\n",
       "    </tr>\n",
       "  </tbody>\n",
       "</table>\n",
       "</div>"
      ],
      "text/plain": [
       "   Gender  Married  Education  Self_Employed  Credit_History  Dependents_0  \\\n",
       "0       1        1          1              0               1             1   \n",
       "1       1        1          1              0               1             0   \n",
       "2       1        1          1              0               1             0   \n",
       "3       1        1          1              0               1             0   \n",
       "4       1        0          0              0               1             1   \n",
       "\n",
       "   Dependents_1  Dependents_2  Dependents_3+  Property_Area_Rural  \\\n",
       "0             0             0              0                    0   \n",
       "1             1             0              0                    0   \n",
       "2             0             1              0                    0   \n",
       "3             0             1              0                    0   \n",
       "4             0             0              0                    0   \n",
       "\n",
       "   Property_Area_Semiurban  Property_Area_Urban  LoanAmount  Loan_Amount_Term  \\\n",
       "0                        0                    1    0.455854          0.961428   \n",
       "1                        0                    1    0.501587          0.961428   \n",
       "2                        0                    1    0.670769          0.961428   \n",
       "3                        0                    1    0.423790          0.961428   \n",
       "4                        0                    1    0.340354          0.961428   \n",
       "\n",
       "   TotalIncome  \n",
       "0     0.362552  \n",
       "1     0.297855  \n",
       "2     0.411562  \n",
       "3     0.317036  \n",
       "4     0.197688  "
      ]
     },
     "execution_count": 153,
     "metadata": {},
     "output_type": "execute_result"
    }
   ],
   "source": [
    "final_loan_test = pd.concat([cat_data_t, num_scale_t], axis=1)\n",
    "final_loan_test.head()"
   ]
  },
  {
   "cell_type": "code",
   "execution_count": 154,
   "id": "9fb10a31",
   "metadata": {},
   "outputs": [
    {
     "data": {
      "text/plain": [
       "(367, 15)"
      ]
     },
     "execution_count": 154,
     "metadata": {},
     "output_type": "execute_result"
    }
   ],
   "source": [
    "final_loan_test.shape"
   ]
  },
  {
   "cell_type": "code",
   "execution_count": 155,
   "id": "ad9c5f83",
   "metadata": {},
   "outputs": [],
   "source": [
    "combine_model.fit(X_res, Y_res)\n",
    "predicted_values=combine_model.predict(final_loan_test)"
   ]
  },
  {
   "cell_type": "code",
   "execution_count": 156,
   "id": "8ff6f060",
   "metadata": {},
   "outputs": [],
   "source": [
    "predicted_loan_status=pd.DataFrame(predicted_values,columns=['Predicted_Loan_status'])"
   ]
  },
  {
   "cell_type": "code",
   "execution_count": 157,
   "id": "041cc204",
   "metadata": {},
   "outputs": [
    {
     "data": {
      "text/html": [
       "<div>\n",
       "<style scoped>\n",
       "    .dataframe tbody tr th:only-of-type {\n",
       "        vertical-align: middle;\n",
       "    }\n",
       "\n",
       "    .dataframe tbody tr th {\n",
       "        vertical-align: top;\n",
       "    }\n",
       "\n",
       "    .dataframe thead th {\n",
       "        text-align: right;\n",
       "    }\n",
       "</style>\n",
       "<table border=\"1\" class=\"dataframe\">\n",
       "  <thead>\n",
       "    <tr style=\"text-align: right;\">\n",
       "      <th></th>\n",
       "      <th>Loan_ID</th>\n",
       "      <th>Predicted_Loan_status</th>\n",
       "    </tr>\n",
       "  </thead>\n",
       "  <tbody>\n",
       "    <tr>\n",
       "      <th>0</th>\n",
       "      <td>LP001015</td>\n",
       "      <td>1</td>\n",
       "    </tr>\n",
       "    <tr>\n",
       "      <th>1</th>\n",
       "      <td>LP001022</td>\n",
       "      <td>0</td>\n",
       "    </tr>\n",
       "    <tr>\n",
       "      <th>2</th>\n",
       "      <td>LP001031</td>\n",
       "      <td>0</td>\n",
       "    </tr>\n",
       "    <tr>\n",
       "      <th>3</th>\n",
       "      <td>LP001035</td>\n",
       "      <td>1</td>\n",
       "    </tr>\n",
       "    <tr>\n",
       "      <th>4</th>\n",
       "      <td>LP001051</td>\n",
       "      <td>0</td>\n",
       "    </tr>\n",
       "    <tr>\n",
       "      <th>...</th>\n",
       "      <td>...</td>\n",
       "      <td>...</td>\n",
       "    </tr>\n",
       "    <tr>\n",
       "      <th>362</th>\n",
       "      <td>LP002971</td>\n",
       "      <td>0</td>\n",
       "    </tr>\n",
       "    <tr>\n",
       "      <th>363</th>\n",
       "      <td>LP002975</td>\n",
       "      <td>1</td>\n",
       "    </tr>\n",
       "    <tr>\n",
       "      <th>364</th>\n",
       "      <td>LP002980</td>\n",
       "      <td>1</td>\n",
       "    </tr>\n",
       "    <tr>\n",
       "      <th>365</th>\n",
       "      <td>LP002986</td>\n",
       "      <td>1</td>\n",
       "    </tr>\n",
       "    <tr>\n",
       "      <th>366</th>\n",
       "      <td>LP002989</td>\n",
       "      <td>1</td>\n",
       "    </tr>\n",
       "  </tbody>\n",
       "</table>\n",
       "<p>367 rows × 2 columns</p>\n",
       "</div>"
      ],
      "text/plain": [
       "      Loan_ID  Predicted_Loan_status\n",
       "0    LP001015                      1\n",
       "1    LP001022                      0\n",
       "2    LP001031                      0\n",
       "3    LP001035                      1\n",
       "4    LP001051                      0\n",
       "..        ...                    ...\n",
       "362  LP002971                      0\n",
       "363  LP002975                      1\n",
       "364  LP002980                      1\n",
       "365  LP002986                      1\n",
       "366  LP002989                      1\n",
       "\n",
       "[367 rows x 2 columns]"
      ]
     },
     "execution_count": 157,
     "metadata": {},
     "output_type": "execute_result"
    }
   ],
   "source": [
    "final_prediction = pd.concat([loan_test['Loan_ID'],predicted_loan_status],axis=1)\n",
    "final_prediction"
   ]
  }
 ],
 "metadata": {
  "kernelspec": {
   "display_name": "Python 3",
   "language": "python",
   "name": "python3"
  },
  "language_info": {
   "codemirror_mode": {
    "name": "ipython",
    "version": 3
   },
   "file_extension": ".py",
   "mimetype": "text/x-python",
   "name": "python",
   "nbconvert_exporter": "python",
   "pygments_lexer": "ipython3",
   "version": "3.8.5"
  }
 },
 "nbformat": 4,
 "nbformat_minor": 5
}

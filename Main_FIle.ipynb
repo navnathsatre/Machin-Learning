{
 "cells": [
  {
   "cell_type": "markdown",
   "id": "dd14741c",
   "metadata": {},
   "source": [
    "# To predict loan status\n",
    "\n",
    "\n",
    "\n",
    "### Business Objective:\n",
    "To predict the impact of the incident raised by the customer.\n",
    "\n",
    "### Data Set Details:\n",
    "It’s not at all easy to get a loan from the bank. Getting a loan approved requires a complex mix of factors not the least of which is a steady income! So this ML project aims **to create a model that will classify how much loan the user can obtain** based on various factors such as the user’s marital status, income, education, employment prospects, number of dependents, etc. The dataset attached provides details about all these factors which can then be used to create an ML model that demonstrates the amount of loan that can be approved"
   ]
  },
  {
   "cell_type": "code",
   "execution_count": 1,
   "id": "c74e6b83",
   "metadata": {},
   "outputs": [],
   "source": [
    "#importing libraries\n",
    "\n",
    "import pandas as pd\n",
    "import numpy as np\n",
    "import matplotlib.pyplot as plt\n",
    "import seaborn as sns\n",
    "\n",
    "loan_train=pd.read_csv('train.csv')\n",
    "loan_test=pd.read_csv('test.csv')\n"
   ]
  },
  {
   "cell_type": "code",
   "execution_count": 2,
   "id": "7860920f",
   "metadata": {},
   "outputs": [
    {
     "data": {
      "text/html": [
       "<div>\n",
       "<style scoped>\n",
       "    .dataframe tbody tr th:only-of-type {\n",
       "        vertical-align: middle;\n",
       "    }\n",
       "\n",
       "    .dataframe tbody tr th {\n",
       "        vertical-align: top;\n",
       "    }\n",
       "\n",
       "    .dataframe thead th {\n",
       "        text-align: right;\n",
       "    }\n",
       "</style>\n",
       "<table border=\"1\" class=\"dataframe\">\n",
       "  <thead>\n",
       "    <tr style=\"text-align: right;\">\n",
       "      <th></th>\n",
       "      <th>Loan_ID</th>\n",
       "      <th>Gender</th>\n",
       "      <th>Married</th>\n",
       "      <th>Dependents</th>\n",
       "      <th>Education</th>\n",
       "      <th>Self_Employed</th>\n",
       "      <th>ApplicantIncome</th>\n",
       "      <th>CoapplicantIncome</th>\n",
       "      <th>LoanAmount</th>\n",
       "      <th>Loan_Amount_Term</th>\n",
       "      <th>Credit_History</th>\n",
       "      <th>Property_Area</th>\n",
       "      <th>Loan_Status</th>\n",
       "    </tr>\n",
       "  </thead>\n",
       "  <tbody>\n",
       "    <tr>\n",
       "      <th>0</th>\n",
       "      <td>LP001002</td>\n",
       "      <td>Male</td>\n",
       "      <td>No</td>\n",
       "      <td>0</td>\n",
       "      <td>Graduate</td>\n",
       "      <td>No</td>\n",
       "      <td>5849</td>\n",
       "      <td>0.0</td>\n",
       "      <td>NaN</td>\n",
       "      <td>360.0</td>\n",
       "      <td>1.0</td>\n",
       "      <td>Urban</td>\n",
       "      <td>Y</td>\n",
       "    </tr>\n",
       "    <tr>\n",
       "      <th>1</th>\n",
       "      <td>LP001003</td>\n",
       "      <td>Male</td>\n",
       "      <td>Yes</td>\n",
       "      <td>1</td>\n",
       "      <td>Graduate</td>\n",
       "      <td>No</td>\n",
       "      <td>4583</td>\n",
       "      <td>1508.0</td>\n",
       "      <td>128.0</td>\n",
       "      <td>360.0</td>\n",
       "      <td>1.0</td>\n",
       "      <td>Rural</td>\n",
       "      <td>N</td>\n",
       "    </tr>\n",
       "    <tr>\n",
       "      <th>2</th>\n",
       "      <td>LP001005</td>\n",
       "      <td>Male</td>\n",
       "      <td>Yes</td>\n",
       "      <td>0</td>\n",
       "      <td>Graduate</td>\n",
       "      <td>Yes</td>\n",
       "      <td>3000</td>\n",
       "      <td>0.0</td>\n",
       "      <td>66.0</td>\n",
       "      <td>360.0</td>\n",
       "      <td>1.0</td>\n",
       "      <td>Urban</td>\n",
       "      <td>Y</td>\n",
       "    </tr>\n",
       "    <tr>\n",
       "      <th>3</th>\n",
       "      <td>LP001006</td>\n",
       "      <td>Male</td>\n",
       "      <td>Yes</td>\n",
       "      <td>0</td>\n",
       "      <td>Not Graduate</td>\n",
       "      <td>No</td>\n",
       "      <td>2583</td>\n",
       "      <td>2358.0</td>\n",
       "      <td>120.0</td>\n",
       "      <td>360.0</td>\n",
       "      <td>1.0</td>\n",
       "      <td>Urban</td>\n",
       "      <td>Y</td>\n",
       "    </tr>\n",
       "    <tr>\n",
       "      <th>4</th>\n",
       "      <td>LP001008</td>\n",
       "      <td>Male</td>\n",
       "      <td>No</td>\n",
       "      <td>0</td>\n",
       "      <td>Graduate</td>\n",
       "      <td>No</td>\n",
       "      <td>6000</td>\n",
       "      <td>0.0</td>\n",
       "      <td>141.0</td>\n",
       "      <td>360.0</td>\n",
       "      <td>1.0</td>\n",
       "      <td>Urban</td>\n",
       "      <td>Y</td>\n",
       "    </tr>\n",
       "  </tbody>\n",
       "</table>\n",
       "</div>"
      ],
      "text/plain": [
       "    Loan_ID Gender Married Dependents     Education Self_Employed  \\\n",
       "0  LP001002   Male      No          0      Graduate            No   \n",
       "1  LP001003   Male     Yes          1      Graduate            No   \n",
       "2  LP001005   Male     Yes          0      Graduate           Yes   \n",
       "3  LP001006   Male     Yes          0  Not Graduate            No   \n",
       "4  LP001008   Male      No          0      Graduate            No   \n",
       "\n",
       "   ApplicantIncome  CoapplicantIncome  LoanAmount  Loan_Amount_Term  \\\n",
       "0             5849                0.0         NaN             360.0   \n",
       "1             4583             1508.0       128.0             360.0   \n",
       "2             3000                0.0        66.0             360.0   \n",
       "3             2583             2358.0       120.0             360.0   \n",
       "4             6000                0.0       141.0             360.0   \n",
       "\n",
       "   Credit_History Property_Area Loan_Status  \n",
       "0             1.0         Urban           Y  \n",
       "1             1.0         Rural           N  \n",
       "2             1.0         Urban           Y  \n",
       "3             1.0         Urban           Y  \n",
       "4             1.0         Urban           Y  "
      ]
     },
     "execution_count": 2,
     "metadata": {},
     "output_type": "execute_result"
    }
   ],
   "source": [
    "loan_train.head()"
   ]
  },
  {
   "cell_type": "code",
   "execution_count": 3,
   "id": "46bb3304",
   "metadata": {},
   "outputs": [
    {
     "data": {
      "text/html": [
       "<div>\n",
       "<style scoped>\n",
       "    .dataframe tbody tr th:only-of-type {\n",
       "        vertical-align: middle;\n",
       "    }\n",
       "\n",
       "    .dataframe tbody tr th {\n",
       "        vertical-align: top;\n",
       "    }\n",
       "\n",
       "    .dataframe thead th {\n",
       "        text-align: right;\n",
       "    }\n",
       "</style>\n",
       "<table border=\"1\" class=\"dataframe\">\n",
       "  <thead>\n",
       "    <tr style=\"text-align: right;\">\n",
       "      <th></th>\n",
       "      <th>Loan_ID</th>\n",
       "      <th>Gender</th>\n",
       "      <th>Married</th>\n",
       "      <th>Dependents</th>\n",
       "      <th>Education</th>\n",
       "      <th>Self_Employed</th>\n",
       "      <th>ApplicantIncome</th>\n",
       "      <th>CoapplicantIncome</th>\n",
       "      <th>LoanAmount</th>\n",
       "      <th>Loan_Amount_Term</th>\n",
       "      <th>Credit_History</th>\n",
       "      <th>Property_Area</th>\n",
       "    </tr>\n",
       "  </thead>\n",
       "  <tbody>\n",
       "    <tr>\n",
       "      <th>0</th>\n",
       "      <td>LP001015</td>\n",
       "      <td>Male</td>\n",
       "      <td>Yes</td>\n",
       "      <td>0</td>\n",
       "      <td>Graduate</td>\n",
       "      <td>No</td>\n",
       "      <td>5720</td>\n",
       "      <td>0</td>\n",
       "      <td>110.0</td>\n",
       "      <td>360.0</td>\n",
       "      <td>1.0</td>\n",
       "      <td>Urban</td>\n",
       "    </tr>\n",
       "    <tr>\n",
       "      <th>1</th>\n",
       "      <td>LP001022</td>\n",
       "      <td>Male</td>\n",
       "      <td>Yes</td>\n",
       "      <td>1</td>\n",
       "      <td>Graduate</td>\n",
       "      <td>No</td>\n",
       "      <td>3076</td>\n",
       "      <td>1500</td>\n",
       "      <td>126.0</td>\n",
       "      <td>360.0</td>\n",
       "      <td>1.0</td>\n",
       "      <td>Urban</td>\n",
       "    </tr>\n",
       "    <tr>\n",
       "      <th>2</th>\n",
       "      <td>LP001031</td>\n",
       "      <td>Male</td>\n",
       "      <td>Yes</td>\n",
       "      <td>2</td>\n",
       "      <td>Graduate</td>\n",
       "      <td>No</td>\n",
       "      <td>5000</td>\n",
       "      <td>1800</td>\n",
       "      <td>208.0</td>\n",
       "      <td>360.0</td>\n",
       "      <td>1.0</td>\n",
       "      <td>Urban</td>\n",
       "    </tr>\n",
       "    <tr>\n",
       "      <th>3</th>\n",
       "      <td>LP001035</td>\n",
       "      <td>Male</td>\n",
       "      <td>Yes</td>\n",
       "      <td>2</td>\n",
       "      <td>Graduate</td>\n",
       "      <td>No</td>\n",
       "      <td>2340</td>\n",
       "      <td>2546</td>\n",
       "      <td>100.0</td>\n",
       "      <td>360.0</td>\n",
       "      <td>NaN</td>\n",
       "      <td>Urban</td>\n",
       "    </tr>\n",
       "    <tr>\n",
       "      <th>4</th>\n",
       "      <td>LP001051</td>\n",
       "      <td>Male</td>\n",
       "      <td>No</td>\n",
       "      <td>0</td>\n",
       "      <td>Not Graduate</td>\n",
       "      <td>No</td>\n",
       "      <td>3276</td>\n",
       "      <td>0</td>\n",
       "      <td>78.0</td>\n",
       "      <td>360.0</td>\n",
       "      <td>1.0</td>\n",
       "      <td>Urban</td>\n",
       "    </tr>\n",
       "  </tbody>\n",
       "</table>\n",
       "</div>"
      ],
      "text/plain": [
       "    Loan_ID Gender Married Dependents     Education Self_Employed  \\\n",
       "0  LP001015   Male     Yes          0      Graduate            No   \n",
       "1  LP001022   Male     Yes          1      Graduate            No   \n",
       "2  LP001031   Male     Yes          2      Graduate            No   \n",
       "3  LP001035   Male     Yes          2      Graduate            No   \n",
       "4  LP001051   Male      No          0  Not Graduate            No   \n",
       "\n",
       "   ApplicantIncome  CoapplicantIncome  LoanAmount  Loan_Amount_Term  \\\n",
       "0             5720                  0       110.0             360.0   \n",
       "1             3076               1500       126.0             360.0   \n",
       "2             5000               1800       208.0             360.0   \n",
       "3             2340               2546       100.0             360.0   \n",
       "4             3276                  0        78.0             360.0   \n",
       "\n",
       "   Credit_History Property_Area  \n",
       "0             1.0         Urban  \n",
       "1             1.0         Urban  \n",
       "2             1.0         Urban  \n",
       "3             NaN         Urban  \n",
       "4             1.0         Urban  "
      ]
     },
     "execution_count": 3,
     "metadata": {},
     "output_type": "execute_result"
    }
   ],
   "source": [
    "loan_test.head()"
   ]
  },
  {
   "cell_type": "code",
   "execution_count": 4,
   "id": "91c84b45",
   "metadata": {},
   "outputs": [
    {
     "name": "stdout",
     "output_type": "stream",
     "text": [
      "<class 'pandas.core.frame.DataFrame'>\n",
      "RangeIndex: 614 entries, 0 to 613\n",
      "Data columns (total 13 columns):\n",
      " #   Column             Non-Null Count  Dtype  \n",
      "---  ------             --------------  -----  \n",
      " 0   Loan_ID            614 non-null    object \n",
      " 1   Gender             601 non-null    object \n",
      " 2   Married            611 non-null    object \n",
      " 3   Dependents         599 non-null    object \n",
      " 4   Education          614 non-null    object \n",
      " 5   Self_Employed      582 non-null    object \n",
      " 6   ApplicantIncome    614 non-null    int64  \n",
      " 7   CoapplicantIncome  614 non-null    float64\n",
      " 8   LoanAmount         592 non-null    float64\n",
      " 9   Loan_Amount_Term   600 non-null    float64\n",
      " 10  Credit_History     564 non-null    float64\n",
      " 11  Property_Area      614 non-null    object \n",
      " 12  Loan_Status        614 non-null    object \n",
      "dtypes: float64(4), int64(1), object(8)\n",
      "memory usage: 62.5+ KB\n"
     ]
    }
   ],
   "source": [
    "loan_train.info()"
   ]
  },
  {
   "cell_type": "code",
   "execution_count": 5,
   "id": "d8c0c132",
   "metadata": {},
   "outputs": [
    {
     "name": "stdout",
     "output_type": "stream",
     "text": [
      "<class 'pandas.core.frame.DataFrame'>\n",
      "RangeIndex: 367 entries, 0 to 366\n",
      "Data columns (total 12 columns):\n",
      " #   Column             Non-Null Count  Dtype  \n",
      "---  ------             --------------  -----  \n",
      " 0   Loan_ID            367 non-null    object \n",
      " 1   Gender             356 non-null    object \n",
      " 2   Married            367 non-null    object \n",
      " 3   Dependents         357 non-null    object \n",
      " 4   Education          367 non-null    object \n",
      " 5   Self_Employed      344 non-null    object \n",
      " 6   ApplicantIncome    367 non-null    int64  \n",
      " 7   CoapplicantIncome  367 non-null    int64  \n",
      " 8   LoanAmount         362 non-null    float64\n",
      " 9   Loan_Amount_Term   361 non-null    float64\n",
      " 10  Credit_History     338 non-null    float64\n",
      " 11  Property_Area      367 non-null    object \n",
      "dtypes: float64(3), int64(2), object(7)\n",
      "memory usage: 34.5+ KB\n"
     ]
    }
   ],
   "source": [
    "loan_test.info()"
   ]
  },
  {
   "cell_type": "markdown",
   "id": "b481ee40",
   "metadata": {},
   "source": [
    "# # Exploratory Data Analysis-(EDA) on Train & Test Data "
   ]
  },
  {
   "cell_type": "code",
   "execution_count": 6,
   "id": "793e3bb3",
   "metadata": {},
   "outputs": [
    {
     "data": {
      "text/plain": [
       "(614, 13)"
      ]
     },
     "execution_count": 6,
     "metadata": {},
     "output_type": "execute_result"
    }
   ],
   "source": [
    "loan_train.shape"
   ]
  },
  {
   "cell_type": "code",
   "execution_count": 7,
   "id": "6b28f5ef",
   "metadata": {},
   "outputs": [
    {
     "data": {
      "text/plain": [
       "(367, 12)"
      ]
     },
     "execution_count": 7,
     "metadata": {},
     "output_type": "execute_result"
    }
   ],
   "source": [
    "loan_test.shape"
   ]
  },
  {
   "cell_type": "code",
   "execution_count": 8,
   "id": "381a711f",
   "metadata": {},
   "outputs": [
    {
     "data": {
      "text/plain": [
       "Loan_ID               object\n",
       "Gender                object\n",
       "Married               object\n",
       "Dependents            object\n",
       "Education             object\n",
       "Self_Employed         object\n",
       "ApplicantIncome        int64\n",
       "CoapplicantIncome    float64\n",
       "LoanAmount           float64\n",
       "Loan_Amount_Term     float64\n",
       "Credit_History       float64\n",
       "Property_Area         object\n",
       "Loan_Status           object\n",
       "dtype: object"
      ]
     },
     "execution_count": 8,
     "metadata": {},
     "output_type": "execute_result"
    }
   ],
   "source": [
    "loan_train.dtypes"
   ]
  },
  {
   "cell_type": "code",
   "execution_count": 9,
   "id": "06ca4312",
   "metadata": {},
   "outputs": [
    {
     "data": {
      "text/plain": [
       "Loan_ID               object\n",
       "Gender                object\n",
       "Married               object\n",
       "Dependents            object\n",
       "Education             object\n",
       "Self_Employed         object\n",
       "ApplicantIncome        int64\n",
       "CoapplicantIncome      int64\n",
       "LoanAmount           float64\n",
       "Loan_Amount_Term     float64\n",
       "Credit_History       float64\n",
       "Property_Area         object\n",
       "dtype: object"
      ]
     },
     "execution_count": 9,
     "metadata": {},
     "output_type": "execute_result"
    }
   ],
   "source": [
    "loan_test.dtypes"
   ]
  },
  {
   "cell_type": "code",
   "execution_count": 10,
   "id": "34403b31",
   "metadata": {},
   "outputs": [
    {
     "data": {
      "text/html": [
       "<div>\n",
       "<style scoped>\n",
       "    .dataframe tbody tr th:only-of-type {\n",
       "        vertical-align: middle;\n",
       "    }\n",
       "\n",
       "    .dataframe tbody tr th {\n",
       "        vertical-align: top;\n",
       "    }\n",
       "\n",
       "    .dataframe thead th {\n",
       "        text-align: right;\n",
       "    }\n",
       "</style>\n",
       "<table border=\"1\" class=\"dataframe\">\n",
       "  <thead>\n",
       "    <tr style=\"text-align: right;\">\n",
       "      <th></th>\n",
       "      <th>ApplicantIncome</th>\n",
       "      <th>CoapplicantIncome</th>\n",
       "      <th>LoanAmount</th>\n",
       "      <th>Loan_Amount_Term</th>\n",
       "      <th>Credit_History</th>\n",
       "    </tr>\n",
       "  </thead>\n",
       "  <tbody>\n",
       "    <tr>\n",
       "      <th>count</th>\n",
       "      <td>614.000000</td>\n",
       "      <td>614.000000</td>\n",
       "      <td>592.000000</td>\n",
       "      <td>600.00000</td>\n",
       "      <td>564.000000</td>\n",
       "    </tr>\n",
       "    <tr>\n",
       "      <th>mean</th>\n",
       "      <td>5403.459283</td>\n",
       "      <td>1621.245798</td>\n",
       "      <td>146.412162</td>\n",
       "      <td>342.00000</td>\n",
       "      <td>0.842199</td>\n",
       "    </tr>\n",
       "    <tr>\n",
       "      <th>std</th>\n",
       "      <td>6109.041673</td>\n",
       "      <td>2926.248369</td>\n",
       "      <td>85.587325</td>\n",
       "      <td>65.12041</td>\n",
       "      <td>0.364878</td>\n",
       "    </tr>\n",
       "    <tr>\n",
       "      <th>min</th>\n",
       "      <td>150.000000</td>\n",
       "      <td>0.000000</td>\n",
       "      <td>9.000000</td>\n",
       "      <td>12.00000</td>\n",
       "      <td>0.000000</td>\n",
       "    </tr>\n",
       "    <tr>\n",
       "      <th>25%</th>\n",
       "      <td>2877.500000</td>\n",
       "      <td>0.000000</td>\n",
       "      <td>100.000000</td>\n",
       "      <td>360.00000</td>\n",
       "      <td>1.000000</td>\n",
       "    </tr>\n",
       "    <tr>\n",
       "      <th>50%</th>\n",
       "      <td>3812.500000</td>\n",
       "      <td>1188.500000</td>\n",
       "      <td>128.000000</td>\n",
       "      <td>360.00000</td>\n",
       "      <td>1.000000</td>\n",
       "    </tr>\n",
       "    <tr>\n",
       "      <th>75%</th>\n",
       "      <td>5795.000000</td>\n",
       "      <td>2297.250000</td>\n",
       "      <td>168.000000</td>\n",
       "      <td>360.00000</td>\n",
       "      <td>1.000000</td>\n",
       "    </tr>\n",
       "    <tr>\n",
       "      <th>max</th>\n",
       "      <td>81000.000000</td>\n",
       "      <td>41667.000000</td>\n",
       "      <td>700.000000</td>\n",
       "      <td>480.00000</td>\n",
       "      <td>1.000000</td>\n",
       "    </tr>\n",
       "  </tbody>\n",
       "</table>\n",
       "</div>"
      ],
      "text/plain": [
       "       ApplicantIncome  CoapplicantIncome  LoanAmount  Loan_Amount_Term  \\\n",
       "count       614.000000         614.000000  592.000000         600.00000   \n",
       "mean       5403.459283        1621.245798  146.412162         342.00000   \n",
       "std        6109.041673        2926.248369   85.587325          65.12041   \n",
       "min         150.000000           0.000000    9.000000          12.00000   \n",
       "25%        2877.500000           0.000000  100.000000         360.00000   \n",
       "50%        3812.500000        1188.500000  128.000000         360.00000   \n",
       "75%        5795.000000        2297.250000  168.000000         360.00000   \n",
       "max       81000.000000       41667.000000  700.000000         480.00000   \n",
       "\n",
       "       Credit_History  \n",
       "count      564.000000  \n",
       "mean         0.842199  \n",
       "std          0.364878  \n",
       "min          0.000000  \n",
       "25%          1.000000  \n",
       "50%          1.000000  \n",
       "75%          1.000000  \n",
       "max          1.000000  "
      ]
     },
     "execution_count": 10,
     "metadata": {},
     "output_type": "execute_result"
    }
   ],
   "source": [
    "loan_train.describe()"
   ]
  },
  {
   "cell_type": "code",
   "execution_count": null,
   "id": "f7cadaf1",
   "metadata": {},
   "outputs": [
    {
     "data": {
      "text/html": [
       "<div>\n",
       "<style scoped>\n",
       "    .dataframe tbody tr th:only-of-type {\n",
       "        vertical-align: middle;\n",
       "    }\n",
       "\n",
       "    .dataframe tbody tr th {\n",
       "        vertical-align: top;\n",
       "    }\n",
       "\n",
       "    .dataframe thead th {\n",
       "        text-align: right;\n",
       "    }\n",
       "</style>\n",
       "<table border=\"1\" class=\"dataframe\">\n",
       "  <thead>\n",
       "    <tr style=\"text-align: right;\">\n",
       "      <th></th>\n",
       "      <th>ApplicantIncome</th>\n",
       "      <th>CoapplicantIncome</th>\n",
       "      <th>LoanAmount</th>\n",
       "      <th>Loan_Amount_Term</th>\n",
       "      <th>Credit_History</th>\n",
       "    </tr>\n",
       "  </thead>\n",
       "  <tbody>\n",
       "    <tr>\n",
       "      <th>count</th>\n",
       "      <td>367.000000</td>\n",
       "      <td>367.000000</td>\n",
       "      <td>362.000000</td>\n",
       "      <td>361.000000</td>\n",
       "      <td>338.000000</td>\n",
       "    </tr>\n",
       "    <tr>\n",
       "      <th>mean</th>\n",
       "      <td>4805.599455</td>\n",
       "      <td>1569.577657</td>\n",
       "      <td>136.132597</td>\n",
       "      <td>342.537396</td>\n",
       "      <td>0.825444</td>\n",
       "    </tr>\n",
       "    <tr>\n",
       "      <th>std</th>\n",
       "      <td>4910.685399</td>\n",
       "      <td>2334.232099</td>\n",
       "      <td>61.366652</td>\n",
       "      <td>65.156643</td>\n",
       "      <td>0.380150</td>\n",
       "    </tr>\n",
       "    <tr>\n",
       "      <th>min</th>\n",
       "      <td>0.000000</td>\n",
       "      <td>0.000000</td>\n",
       "      <td>28.000000</td>\n",
       "      <td>6.000000</td>\n",
       "      <td>0.000000</td>\n",
       "    </tr>\n",
       "    <tr>\n",
       "      <th>25%</th>\n",
       "      <td>2864.000000</td>\n",
       "      <td>0.000000</td>\n",
       "      <td>100.250000</td>\n",
       "      <td>360.000000</td>\n",
       "      <td>1.000000</td>\n",
       "    </tr>\n",
       "    <tr>\n",
       "      <th>50%</th>\n",
       "      <td>3786.000000</td>\n",
       "      <td>1025.000000</td>\n",
       "      <td>125.000000</td>\n",
       "      <td>360.000000</td>\n",
       "      <td>1.000000</td>\n",
       "    </tr>\n",
       "    <tr>\n",
       "      <th>75%</th>\n",
       "      <td>5060.000000</td>\n",
       "      <td>2430.500000</td>\n",
       "      <td>158.000000</td>\n",
       "      <td>360.000000</td>\n",
       "      <td>1.000000</td>\n",
       "    </tr>\n",
       "    <tr>\n",
       "      <th>max</th>\n",
       "      <td>72529.000000</td>\n",
       "      <td>24000.000000</td>\n",
       "      <td>550.000000</td>\n",
       "      <td>480.000000</td>\n",
       "      <td>1.000000</td>\n",
       "    </tr>\n",
       "  </tbody>\n",
       "</table>\n",
       "</div>"
      ],
      "text/plain": [
       "       ApplicantIncome  CoapplicantIncome  LoanAmount  Loan_Amount_Term  \\\n",
       "count       367.000000         367.000000  362.000000        361.000000   \n",
       "mean       4805.599455        1569.577657  136.132597        342.537396   \n",
       "std        4910.685399        2334.232099   61.366652         65.156643   \n",
       "min           0.000000           0.000000   28.000000          6.000000   \n",
       "25%        2864.000000           0.000000  100.250000        360.000000   \n",
       "50%        3786.000000        1025.000000  125.000000        360.000000   \n",
       "75%        5060.000000        2430.500000  158.000000        360.000000   \n",
       "max       72529.000000       24000.000000  550.000000        480.000000   \n",
       "\n",
       "       Credit_History  \n",
       "count      338.000000  \n",
       "mean         0.825444  \n",
       "std          0.380150  \n",
       "min          0.000000  \n",
       "25%          1.000000  \n",
       "50%          1.000000  \n",
       "75%          1.000000  \n",
       "max          1.000000  "
      ]
     },
     "execution_count": 11,
     "metadata": {},
     "output_type": "execute_result"
    }
   ],
   "source": [
    "loan_test.describe()"
   ]
  },
  {
   "cell_type": "code",
   "execution_count": null,
   "id": "b244a959",
   "metadata": {},
   "outputs": [],
   "source": [
    "loan_train.isnull().sum()"
   ]
  },
  {
   "cell_type": "code",
   "execution_count": null,
   "id": "f494fbe7",
   "metadata": {},
   "outputs": [],
   "source": [
    "loan_test.isnull().sum()"
   ]
  },
  {
   "cell_type": "code",
   "execution_count": null,
   "id": "674e8ea9",
   "metadata": {},
   "outputs": [],
   "source": [
    "loan_train.columns"
   ]
  },
  {
   "cell_type": "code",
   "execution_count": null,
   "id": "619a8b4d",
   "metadata": {},
   "outputs": [],
   "source": [
    "loan_test.columns"
   ]
  },
  {
   "cell_type": "code",
   "execution_count": null,
   "id": "e0a2101c",
   "metadata": {},
   "outputs": [],
   "source": [
    "loan_train.nunique()"
   ]
  },
  {
   "cell_type": "code",
   "execution_count": null,
   "id": "bc2de3b9",
   "metadata": {},
   "outputs": [],
   "source": [
    "loan_test.nunique()"
   ]
  },
  {
   "cell_type": "code",
   "execution_count": null,
   "id": "57c6581c",
   "metadata": {},
   "outputs": [],
   "source": [
    "loan_train.dtypes.value_counts()"
   ]
  },
  {
   "cell_type": "code",
   "execution_count": null,
   "id": "65fff351",
   "metadata": {},
   "outputs": [],
   "source": [
    "loan_test.dtypes.value_counts()"
   ]
  },
  {
   "cell_type": "code",
   "execution_count": null,
   "id": "57b02e47",
   "metadata": {},
   "outputs": [],
   "source": [
    "# unique classes in each object columns in train\n",
    "object_var=loan_train.select_dtypes('object').columns\n",
    "object_var=object_var[1:]\n",
    "unique_values=[]\n",
    "for i in range(0,7):\n",
    "    unique_values.append(loan_train[object_var[i]].unique())\n",
    "object_var_table=pd.DataFrame({\"Object_variable\":object_var,\"Unique_Values\":unique_values})\n",
    "object_var_table"
   ]
  },
  {
   "cell_type": "code",
   "execution_count": null,
   "id": "4fe57a28",
   "metadata": {},
   "outputs": [],
   "source": [
    "# unique classes in each object columns in test\n",
    "object_var=loan_test.select_dtypes('object').columns\n",
    "object_var=object_var[1:]\n",
    "unique_values=[]\n",
    "for i in range(0,6):\n",
    "    unique_values.append(loan_test[object_var[i]].unique())\n",
    "object_var_table=pd.DataFrame({\"Object_variable\":object_var,\"Unique_Values\":unique_values})\n",
    "object_var_table"
   ]
  },
  {
   "cell_type": "code",
   "execution_count": null,
   "id": "615ad876",
   "metadata": {},
   "outputs": [],
   "source": [
    "# describe the categoric columns in train\n",
    "loan_train.describe(include=['O'])"
   ]
  },
  {
   "cell_type": "code",
   "execution_count": null,
   "id": "931a781f",
   "metadata": {},
   "outputs": [],
   "source": [
    "# describe the categoric columns in test\n",
    "loan_test.describe(include=['O'])"
   ]
  },
  {
   "cell_type": "markdown",
   "id": "a18210ff",
   "metadata": {},
   "source": [
    "# Data Visualization"
   ]
  },
  {
   "cell_type": "code",
   "execution_count": null,
   "id": "2049de47",
   "metadata": {},
   "outputs": [],
   "source": [
    "import warnings \n",
    "warnings.filterwarnings('ignore')\n"
   ]
  },
  {
   "cell_type": "code",
   "execution_count": null,
   "id": "558e7706",
   "metadata": {},
   "outputs": [],
   "source": [
    "#Univariant Analysis on train\n",
    "plt.figure(figsize=(15,8))\n",
    "plt.subplot(231);sns.countplot('Gender',data=loan_train)\n",
    "plt.subplot(232);sns.countplot('Married',data=loan_train)\n",
    "plt.subplot(233);sns.countplot('Credit_History',data=loan_train)\n",
    "plt.subplot(234);sns.countplot('Education',data=loan_train)\n",
    "plt.subplot(235);sns.countplot('Self_Employed',data=loan_train)\n",
    "plt.subplot(236);sns.countplot('Property_Area',data=loan_train)\n"
   ]
  },
  {
   "cell_type": "code",
   "execution_count": null,
   "id": "da88b603",
   "metadata": {},
   "outputs": [],
   "source": [
    "#Univariant Analysis on test\n",
    "plt.figure(figsize=(15,8))\n",
    "plt.subplot(231);sns.countplot('Gender',data=loan_test)\n",
    "plt.subplot(232);sns.countplot('Married',data=loan_test)\n",
    "plt.subplot(233);sns.countplot('Credit_History',data=loan_test)\n",
    "plt.subplot(234);sns.countplot('Education',data=loan_test)\n",
    "plt.subplot(235);sns.countplot('Self_Employed',data=loan_test)\n",
    "plt.subplot(236);sns.countplot('Property_Area',data=loan_test)"
   ]
  },
  {
   "cell_type": "code",
   "execution_count": null,
   "id": "491bd667",
   "metadata": {},
   "outputs": [],
   "source": [
    "sns.countplot('Dependents',hue='Loan_Status',data=loan_train)"
   ]
  },
  {
   "cell_type": "markdown",
   "id": "442e89f7",
   "metadata": {},
   "source": [
    "Most of the people who dont have dependents they applied for loan and got approved too."
   ]
  },
  {
   "cell_type": "code",
   "execution_count": null,
   "id": "71431468",
   "metadata": {},
   "outputs": [],
   "source": [
    "plt.figure(figsize=(15,8))\n",
    "plt.subplot(231);sns.countplot('Gender',hue='Loan_Status',data=loan_train)\n",
    "plt.subplot(232);sns.countplot('Married',hue='Loan_Status',data=loan_train)\n",
    "plt.subplot(233);sns.countplot('Credit_History',hue='Loan_Status',data=loan_train)\n",
    "plt.subplot(234);sns.countplot('Education',hue='Loan_Status',data=loan_train)\n",
    "plt.subplot(235);sns.countplot('Self_Employed',hue='Loan_Status',data=loan_train)\n",
    "plt.subplot(236);sns.countplot('Property_Area',hue='Loan_Status',data=loan_train)"
   ]
  },
  {
   "cell_type": "code",
   "execution_count": null,
   "id": "167b98a7",
   "metadata": {},
   "outputs": [],
   "source": [
    "##On train data\n",
    "plt.figure(figsize=(20,15))\n",
    "plt.subplot(421);sns.histplot(loan_train['ApplicantIncome'])\n",
    "plt.subplot(422);sns.boxplot(loan_train['ApplicantIncome'])\n",
    "plt.subplot(423);sns.histplot(loan_train['CoapplicantIncome'])\n",
    "plt.subplot(424);sns.boxplot(loan_train['CoapplicantIncome'])\n",
    "plt.subplot(425);sns.histplot(loan_train['LoanAmount'])\n",
    "plt.subplot(426);sns.boxplot(loan_train['LoanAmount'])\n",
    "plt.subplot(427);sns.histplot(loan_train['Loan_Amount_Term'])\n",
    "plt.subplot(428);sns.boxplot(loan_train['Loan_Amount_Term'])\n",
    "plt.show() "
   ]
  },
  {
   "cell_type": "code",
   "execution_count": null,
   "id": "2bbfdfb9",
   "metadata": {},
   "outputs": [],
   "source": [
    "## test data\n",
    "plt.figure(figsize=(20,15))\n",
    "plt.subplot(421);sns.histplot(loan_test['ApplicantIncome'])\n",
    "plt.subplot(422);sns.boxplot(loan_test['ApplicantIncome'])\n",
    "plt.subplot(423);sns.histplot(loan_test['CoapplicantIncome'])\n",
    "plt.subplot(424);sns.boxplot(loan_test['CoapplicantIncome'])\n",
    "plt.subplot(425);sns.histplot(loan_test['LoanAmount'])\n",
    "plt.subplot(426);sns.boxplot(loan_test['LoanAmount'])\n",
    "plt.subplot(427);sns.histplot(loan_test['Loan_Amount_Term'])\n",
    "plt.subplot(428);sns.boxplot(loan_test['Loan_Amount_Term'])\n",
    "plt.show()"
   ]
  },
  {
   "cell_type": "code",
   "execution_count": null,
   "id": "d77e6d43",
   "metadata": {},
   "outputs": [],
   "source": [
    "##Train dataSet\n",
    "\n",
    "plt.figure(figsize=(20,15))\n",
    "plt.subplot(421);sns.distplot(loan_train['ApplicantIncome'])\n",
    "plt.subplot(422);sns.distplot(np.log(loan_train['ApplicantIncome']))\n",
    "plt.subplot(423);sns.distplot(loan_train['CoapplicantIncome'])\n",
    "plt.subplot(424);sns.distplot(np.log(loan_train['CoapplicantIncome']+1))\n",
    "plt.subplot(425);sns.distplot(loan_train['LoanAmount'])\n",
    "plt.subplot(426);sns.distplot(np.log(loan_train['LoanAmount']+1))\n",
    "plt.subplot(427);sns.distplot(loan_train['Loan_Amount_Term'])\n",
    "plt.subplot(428);sns.distplot(np.log(loan_train['Loan_Amount_Term']+1))\n",
    "plt.show()"
   ]
  },
  {
   "cell_type": "code",
   "execution_count": null,
   "id": "d3665530",
   "metadata": {},
   "outputs": [],
   "source": [
    "##Test dataSet\n",
    "\n",
    "plt.figure(figsize=(20,15))\n",
    "plt.subplot(421);sns.distplot(loan_test['ApplicantIncome'])\n",
    "plt.subplot(422);sns.distplot(np.log(loan_test['ApplicantIncome']+1))\n",
    "plt.subplot(423);sns.distplot(loan_test['CoapplicantIncome'])\n",
    "plt.subplot(424);sns.distplot(np.log(loan_test['CoapplicantIncome']+1))\n",
    "plt.subplot(425);sns.distplot(loan_test['LoanAmount'])\n",
    "plt.subplot(426);sns.distplot(np.log(loan_test['LoanAmount']+1))\n",
    "plt.subplot(427);sns.distplot(loan_test['Loan_Amount_Term'])\n",
    "plt.subplot(428);sns.distplot(np.log(loan_test['Loan_Amount_Term']+1))\n",
    "plt.show()"
   ]
  },
  {
   "cell_type": "code",
   "execution_count": null,
   "id": "1fc37eb2",
   "metadata": {},
   "outputs": [],
   "source": [
    "##Train data\n",
    "plt.figure(figsize=(15,10))\n",
    "plt.subplot(121);plt.scatter('LoanAmount','ApplicantIncome',data=loan_train)\n",
    "plt.subplot(122);plt.scatter('ApplicantIncome','CoapplicantIncome',data=loan_train)"
   ]
  },
  {
   "cell_type": "code",
   "execution_count": null,
   "id": "62fa6374",
   "metadata": {},
   "outputs": [],
   "source": [
    "##Test data\n",
    "plt.figure(figsize=(15,10))\n",
    "plt.subplot(121);plt.scatter('LoanAmount','ApplicantIncome',data=loan_test)\n",
    "plt.subplot(122);plt.scatter('ApplicantIncome','CoapplicantIncome',data=loan_test)"
   ]
  },
  {
   "cell_type": "code",
   "execution_count": null,
   "id": "ce774fa1",
   "metadata": {},
   "outputs": [],
   "source": [
    "# Targate Vaariable\n",
    "plt.figure(figsize=(12,4));plt.subplot(122);sns.countplot(loan_train['Loan_Status'])#check our data is balanced or not\n",
    "print(loan_train['Loan_Status'].value_counts())"
   ]
  },
  {
   "cell_type": "markdown",
   "id": "9013430e",
   "metadata": {},
   "source": [
    "By seeing the data,Our data is imbalanced we need to balance it."
   ]
  },
  {
   "cell_type": "markdown",
   "id": "2f9e5db7",
   "metadata": {},
   "source": [
    "# Preprocessing on train Data"
   ]
  },
  {
   "cell_type": "code",
   "execution_count": null,
   "id": "1bf8a916",
   "metadata": {},
   "outputs": [],
   "source": [
    "# drop 'loan ID' column because not usefull\n",
    "loan_train.drop('Loan_ID', axis=1, inplace=True)\n",
    "loan_test.drop('Loan_ID', axis=1, inplace=True)"
   ]
  },
  {
   "cell_type": "code",
   "execution_count": null,
   "id": "23ab42f3",
   "metadata": {},
   "outputs": [],
   "source": [
    "# ckeck duplicate entries in train data\n",
    "loan_train.duplicated().any()\n"
   ]
  },
  {
   "cell_type": "code",
   "execution_count": null,
   "id": "1ca176c1",
   "metadata": {},
   "outputs": [],
   "source": [
    "# ckeck duplicate entries in test data\n",
    "loan_test.duplicated().any()"
   ]
  },
  {
   "cell_type": "code",
   "execution_count": null,
   "id": "e2d30b7d",
   "metadata": {},
   "outputs": [],
   "source": [
    "# visualize using Heat map\n",
    "plt.figure(figsize=(20,5))\n",
    "sns.heatmap(loan_train.isnull(), cbar=False);plt.show()\n",
    "\n"
   ]
  },
  {
   "cell_type": "code",
   "execution_count": null,
   "id": "87d1e0e1",
   "metadata": {},
   "outputs": [],
   "source": [
    "loan_train.isna().sum()"
   ]
  },
  {
   "cell_type": "code",
   "execution_count": null,
   "id": "d8ee6911",
   "metadata": {},
   "outputs": [],
   "source": [
    "# visualize using Heat map\n",
    "plt.figure(figsize=(20,5))\n",
    "sns.heatmap(loan_test.isnull(), cbar=False);plt.show()"
   ]
  },
  {
   "cell_type": "code",
   "execution_count": null,
   "id": "5ff34192",
   "metadata": {},
   "outputs": [],
   "source": [
    "loan_test.isna().sum()"
   ]
  },
  {
   "cell_type": "code",
   "execution_count": null,
   "id": "b89a87c0",
   "metadata": {},
   "outputs": [],
   "source": [
    "#Using Mode Function for filling Categorical on train data\n",
    " \n",
    "loan_train['Gender'].fillna(loan_train['Gender'].mode()[0],inplace=True)\n",
    "loan_train['Married'].fillna(loan_train['Married'].mode()[0],inplace=True)\n",
    "loan_train['Self_Employed'].fillna(loan_train['Self_Employed'].mode()[0],inplace=True)\n",
    "loan_train['Dependents'].fillna(loan_train['Dependents'].mode()[0],inplace=True)\n",
    "loan_train['Credit_History'].fillna(value=loan_train['Credit_History'].mode()[0],inplace=True)"
   ]
  },
  {
   "cell_type": "code",
   "execution_count": null,
   "id": "6a2a2555",
   "metadata": {},
   "outputs": [],
   "source": [
    "#Using median on numrical data on train\n",
    "loan_train['LoanAmount'].fillna(value=loan_train['LoanAmount'].mean(),inplace=True)\n",
    "loan_train['Loan_Amount_Term'].fillna(value=loan_train['Loan_Amount_Term'].mean(),inplace=True)\n",
    "\n"
   ]
  },
  {
   "cell_type": "code",
   "execution_count": null,
   "id": "8c8a16f5",
   "metadata": {},
   "outputs": [],
   "source": [
    "loan_train.isna().sum()"
   ]
  },
  {
   "cell_type": "code",
   "execution_count": null,
   "id": "caecc020",
   "metadata": {},
   "outputs": [],
   "source": [
    "loan_train.dtypes"
   ]
  },
  {
   "cell_type": "code",
   "execution_count": null,
   "id": "ae7d4186",
   "metadata": {},
   "outputs": [],
   "source": [
    "#Using Mode Function for filling Categorical on test data\n",
    "\n",
    "loan_test['Gender'].fillna(loan_test['Gender'].mode()[0],inplace=True)\n",
    "loan_test['Self_Employed'].fillna(loan_test['Self_Employed'].mode()[0],inplace=True)\n",
    "loan_test['Dependents'].fillna(loan_test['Dependents'].mode()[0],inplace=True)\n",
    "loan_test['Credit_History'].fillna(loan_test['Credit_History'].mode()[0],inplace=True)\n"
   ]
  },
  {
   "cell_type": "code",
   "execution_count": null,
   "id": "a783e1aa",
   "metadata": {},
   "outputs": [],
   "source": [
    "#Using median on numrical data on test data\n",
    "loan_test['LoanAmount'].fillna(loan_test['LoanAmount'].mean(),inplace=True)\n",
    "loan_test['Loan_Amount_Term'].fillna(loan_test['Loan_Amount_Term'].mean(),inplace=True)"
   ]
  },
  {
   "cell_type": "code",
   "execution_count": null,
   "id": "2e075904",
   "metadata": {},
   "outputs": [],
   "source": [
    "loan_test.isna().sum()"
   ]
  },
  {
   "cell_type": "code",
   "execution_count": null,
   "id": "cf4ed95c",
   "metadata": {},
   "outputs": [],
   "source": [
    "loan_test.dtypes"
   ]
  },
  {
   "cell_type": "code",
   "execution_count": null,
   "id": "eba55e52",
   "metadata": {},
   "outputs": [],
   "source": [
    "# Coverting categorical to binary values usning LabelEncoder on train data\n",
    "from sklearn.preprocessing import LabelEncoder\n",
    "lb=LabelEncoder()\n",
    "\n",
    "loan_train['Gender']=pd.DataFrame(lb.fit_transform(loan_train['Gender']))\n",
    "loan_train['Married']=pd.DataFrame(lb.fit_transform(loan_train['Married']))\n",
    "loan_train['Dependents']=pd.DataFrame(lb.fit_transform(loan_train['Dependents']))\n",
    "loan_train['Education']=pd.DataFrame(lb.fit_transform(loan_train['Education']))\n",
    "loan_train['Loan_Status']=pd.DataFrame(lb.fit_transform(loan_train['Loan_Status']))\n",
    "loan_train['Self_Employed']=pd.DataFrame(lb.fit_transform(loan_train['Self_Employed']))\n",
    "loan_train['Property_Area']=pd.DataFrame(lb.fit_transform(loan_train['Property_Area']))"
   ]
  },
  {
   "cell_type": "code",
   "execution_count": null,
   "id": "93d4ba8a",
   "metadata": {},
   "outputs": [],
   "source": [
    "loan_train.head()"
   ]
  },
  {
   "cell_type": "code",
   "execution_count": null,
   "id": "5a1d997e",
   "metadata": {},
   "outputs": [],
   "source": [
    "# Add both ApplicantIncome and CoapplicantIncome to TotalIncome on train data\n",
    "loan_train['TotalIncome'] = loan_train['ApplicantIncome'] + loan_train['CoapplicantIncome']"
   ]
  },
  {
   "cell_type": "code",
   "execution_count": null,
   "id": "35bc0647",
   "metadata": {},
   "outputs": [],
   "source": [
    "loan_train.head()"
   ]
  },
  {
   "cell_type": "code",
   "execution_count": null,
   "id": "b6dc91db",
   "metadata": {},
   "outputs": [],
   "source": [
    "loan_train.drop(['ApplicantIncome','CoapplicantIncome'],axis=1,inplace=True)"
   ]
  },
  {
   "cell_type": "code",
   "execution_count": null,
   "id": "1d337e8e",
   "metadata": {},
   "outputs": [],
   "source": [
    "loan_train.head()"
   ]
  },
  {
   "cell_type": "code",
   "execution_count": null,
   "id": "e40308de",
   "metadata": {},
   "outputs": [],
   "source": [
    "# Coverting categorical to binary values usning LabelEncoder on test data\n",
    "\n",
    "loan_test['Gender']=pd.DataFrame(lb.fit_transform(loan_test['Gender']))\n",
    "loan_test['Married']=pd.DataFrame(lb.fit_transform(loan_test['Married']))\n",
    "loan_test['Dependents']=pd.DataFrame(lb.fit_transform(loan_test['Dependents']))\n",
    "loan_test['Education']=pd.DataFrame(lb.fit_transform(loan_test['Education']))\n",
    "loan_test['Self_Employed']=pd.DataFrame(lb.fit_transform(loan_test['Self_Employed']))\n",
    "loan_test['Property_Area']=pd.DataFrame(lb.fit_transform(loan_test['Property_Area']))"
   ]
  },
  {
   "cell_type": "code",
   "execution_count": null,
   "id": "456a1664",
   "metadata": {},
   "outputs": [],
   "source": [
    "loan_test.head()"
   ]
  },
  {
   "cell_type": "code",
   "execution_count": null,
   "id": "a92ec967",
   "metadata": {},
   "outputs": [],
   "source": [
    "# Add both ApplicantIncome and CoapplicantIncome to TotalIncome in test data\n",
    "loan_test['TotalIncome'] = loan_test['ApplicantIncome'] + loan_test['CoapplicantIncome']"
   ]
  },
  {
   "cell_type": "code",
   "execution_count": null,
   "id": "62d44bb9",
   "metadata": {},
   "outputs": [],
   "source": [
    "loan_test.head()"
   ]
  },
  {
   "cell_type": "code",
   "execution_count": null,
   "id": "f4d1adb5",
   "metadata": {},
   "outputs": [],
   "source": [
    "loan_test.drop(['ApplicantIncome','CoapplicantIncome'],axis=1,inplace=True)"
   ]
  },
  {
   "cell_type": "code",
   "execution_count": null,
   "id": "643399cf",
   "metadata": {},
   "outputs": [],
   "source": [
    "loan_test.head()"
   ]
  },
  {
   "cell_type": "code",
   "execution_count": null,
   "id": "a1b30d39",
   "metadata": {},
   "outputs": [],
   "source": [
    "#transfroming loan_amount_term ,lona_amount & totalIncome in training data\n",
    "\n",
    "loan_train['TotalIncome']=np.log(np.log(loan_train['TotalIncome']))\n",
    "loan_train['LoanAmount']=np.log(np.log(loan_train['LoanAmount']))\n",
    "loan_train['Loan_Amount_Term']=np.log(np.log(loan_train['Loan_Amount_Term']))\n"
   ]
  },
  {
   "cell_type": "code",
   "execution_count": null,
   "id": "3259bf33",
   "metadata": {},
   "outputs": [],
   "source": [
    "loan_train.head()"
   ]
  },
  {
   "cell_type": "code",
   "execution_count": null,
   "id": "0b03bc46",
   "metadata": {},
   "outputs": [],
   "source": [
    "#transfroming loan_amount_term ,lona_amount & totalIncome in test data\n",
    "\n",
    "loan_test['TotalIncome']=np.log(np.log(loan_test['TotalIncome']))\n",
    "loan_test['LoanAmount']=np.log(np.log(loan_test['LoanAmount']))\n",
    "loan_test['Loan_Amount_Term']=np.log(np.log(loan_test['Loan_Amount_Term']))"
   ]
  },
  {
   "cell_type": "code",
   "execution_count": null,
   "id": "07cec9ec",
   "metadata": {},
   "outputs": [],
   "source": [
    "loan_test.head()"
   ]
  },
  {
   "cell_type": "code",
   "execution_count": null,
   "id": "b56379b4",
   "metadata": {},
   "outputs": [],
   "source": [
    "X_test=loan_test.iloc[:,0:]\n",
    "X_test"
   ]
  },
  {
   "cell_type": "code",
   "execution_count": null,
   "id": "16e614b1",
   "metadata": {},
   "outputs": [],
   "source": [
    "X=loan_train.drop('Loan_Status',axis=1)\n",
    "X"
   ]
  },
  {
   "cell_type": "code",
   "execution_count": null,
   "id": "28f2e1e4",
   "metadata": {},
   "outputs": [],
   "source": [
    "y=loan_train['Loan_Status']\n",
    "Y=pd.DataFrame(y)\n",
    "Y"
   ]
  },
  {
   "cell_type": "code",
   "execution_count": null,
   "id": "98bcd18a",
   "metadata": {},
   "outputs": [],
   "source": [
    "# Feature Engineering\n",
    "#using Chi-squared for classification\n",
    "\n",
    "from sklearn.feature_selection import SelectKBest,chi2\n",
    "from numpy import set_printoptions\n",
    "#Feature Extration\n",
    "test=SelectKBest(score_func=chi2,k=6)\n",
    "fit=test.fit(X,Y)\n",
    "\n",
    "#Summaries of Scores\n",
    "set_printoptions(precision=3)\n",
    "print(fit.scores_)\n",
    "features=fit.transform(X)\n",
    "features\n",
    "\n",
    "a=pd.DataFrame(X.columns)\n",
    "b=pd.DataFrame(fit.scores_)\n",
    "c=pd.concat([a,b],axis=1)\n",
    "c.columns=['Features','chi2_scores']\n",
    "c.sort_values(by='chi2_scores',ascending=False)"
   ]
  },
  {
   "cell_type": "markdown",
   "id": "f255f547",
   "metadata": {},
   "source": [
    "# Balancing the data"
   ]
  },
  {
   "cell_type": "code",
   "execution_count": null,
   "id": "7a3c9528",
   "metadata": {},
   "outputs": [],
   "source": [
    "from collections import Counter\n",
    "from imblearn.over_sampling import RandomOverSampler \n",
    "print('Original data set shape %s' % Counter(y))\n",
    "imb = RandomOverSampler(sampling_strategy='minority',random_state=1)\n",
    "X_res,Y_res = imb.fit_resample(X,y)\n",
    "print('Resample data set shape %s' % Counter(Y_res))"
   ]
  },
  {
   "cell_type": "code",
   "execution_count": null,
   "id": "52a74a66",
   "metadata": {},
   "outputs": [],
   "source": [
    "#Model Validation Method\n",
    "\n",
    "#Using KFold Method Cross Validation\n",
    "\n",
    "from sklearn.model_selection import KFold\n",
    "from sklearn.linear_model import LogisticRegression\n",
    "from sklearn.model_selection import cross_val_score\n",
    "import warnings\n",
    "warnings.filterwarnings('ignore')"
   ]
  },
  {
   "cell_type": "code",
   "execution_count": null,
   "id": "56e3671f",
   "metadata": {},
   "outputs": [],
   "source": [
    "kfold=KFold(n_splits=10,random_state=7)\n",
    "LR=LogisticRegression()\n",
    "results=cross_val_score(LR,X_res,Y_res,cv=kfold)"
   ]
  },
  {
   "cell_type": "code",
   "execution_count": null,
   "id": "dd92f968",
   "metadata": {},
   "outputs": [],
   "source": [
    "results.mean()*100\n"
   ]
  },
  {
   "cell_type": "code",
   "execution_count": null,
   "id": "1057a8af",
   "metadata": {},
   "outputs": [],
   "source": [
    "results.std()*100.0"
   ]
  },
  {
   "cell_type": "code",
   "execution_count": null,
   "id": "de1d0312",
   "metadata": {},
   "outputs": [],
   "source": [
    "# Random Forest Classification on training data\n",
    "from sklearn.ensemble import RandomForestClassifier\n",
    "model_rf=RandomForestClassifier(n_estimators=100,max_features=3)\n",
    "result_rf=cross_val_score(model_rf,X_res,Y_res,cv=kfold)\n",
    "result_rf.mean()*100"
   ]
  },
  {
   "cell_type": "code",
   "execution_count": null,
   "id": "5841e954",
   "metadata": {},
   "outputs": [],
   "source": [
    "model_rf.fit(X_res,Y_res)\n"
   ]
  },
  {
   "cell_type": "code",
   "execution_count": null,
   "id": "4e42fd0b",
   "metadata": {},
   "outputs": [],
   "source": [
    "y_pred=model_rf.predict(loan_test)\n",
    "y_pred_test=pd.DataFrame(y_pred)\n",
    "y_pred_test"
   ]
  },
  {
   "cell_type": "code",
   "execution_count": null,
   "id": "79404534",
   "metadata": {},
   "outputs": [],
   "source": [
    "from sklearn.metrics import classification_report,accuracy_score\n",
    "print(classification_report(y,y_pred_test))"
   ]
  },
  {
   "cell_type": "code",
   "execution_count": null,
   "id": "d6a34df0",
   "metadata": {},
   "outputs": [],
   "source": [
    "from sklearn.metrics import precision_score\n",
    "\n",
    "print(\"Precision score: {}\".format(precision_score(y_pred,y)))"
   ]
  },
  {
   "cell_type": "code",
   "execution_count": null,
   "id": "1c038f25",
   "metadata": {},
   "outputs": [],
   "source": []
  },
  {
   "cell_type": "code",
   "execution_count": null,
   "id": "05fc1a30",
   "metadata": {},
   "outputs": [],
   "source": [
    "# Using XGBoost\n",
    "from xgboost import XGBClassifier\n",
    "from sklearn.model_selection import train_test_split\n",
    "from sklearn.metrics import accuracy_score\n",
    "\n",
    "X_train,X_test,y_train,y_test=train_test_split(X_res,Y_res,random_state=42,test_size=0.33)"
   ]
  },
  {
   "cell_type": "code",
   "execution_count": null,
   "id": "8a636258",
   "metadata": {},
   "outputs": [],
   "source": [
    "X_train.shape,X_test.shape,y_train.shape,y_test.shape"
   ]
  },
  {
   "cell_type": "code",
   "execution_count": null,
   "id": "e175d3b6",
   "metadata": {},
   "outputs": [],
   "source": [
    "# fit model no training data\n",
    "model_XG = XGBClassifier()\n",
    "model_XG.fit(X_train, y_train)"
   ]
  },
  {
   "cell_type": "code",
   "execution_count": null,
   "id": "927115f3",
   "metadata": {},
   "outputs": [],
   "source": [
    "# make predictions for test data\n",
    "y_pred_xg = model_XG.predict(X_test)\n",
    "\n",
    "y_pred_xg"
   ]
  },
  {
   "cell_type": "code",
   "execution_count": null,
   "id": "ada7ef6e",
   "metadata": {},
   "outputs": [],
   "source": [
    "# evaluate predictions\n",
    "accuracy = accuracy_score(y_test, y_pred_xg)\n",
    "print(\"Accuracy: %.2f%%\" % (accuracy * 100.0))"
   ]
  },
  {
   "cell_type": "markdown",
   "id": "4a992a1f",
   "metadata": {},
   "source": [
    "# Exploratory Data Analysis-(EDA) on Test Data"
   ]
  },
  {
   "cell_type": "code",
   "execution_count": null,
   "id": "3ff7656a",
   "metadata": {},
   "outputs": [],
   "source": []
  }
 ],
 "metadata": {
  "kernelspec": {
   "display_name": "Python 3",
   "language": "python",
   "name": "python3"
  },
  "language_info": {
   "codemirror_mode": {
    "name": "ipython",
    "version": 3
   },
   "file_extension": ".py",
   "mimetype": "text/x-python",
   "name": "python",
   "nbconvert_exporter": "python",
   "pygments_lexer": "ipython3",
   "version": "3.8.5"
  }
 },
 "nbformat": 4,
 "nbformat_minor": 5
}
